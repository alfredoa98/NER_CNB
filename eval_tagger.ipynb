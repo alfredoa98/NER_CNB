{
 "cells": [
  {
   "cell_type": "code",
   "execution_count": 2,
   "metadata": {},
   "outputs": [],
   "source": [
    "import wrapper as wp\n",
    "from importlib import reload\n",
    "import os\n",
    "reload(wp)\n",
    "import pandas as pd\n",
    "import numpy as np\n",
    "import re"
   ]
  },
  {
   "cell_type": "markdown",
   "metadata": {},
   "source": [
    "# Etiquetado usando Stanford Tagger"
   ]
  },
  {
   "cell_type": "code",
   "execution_count": 3,
   "metadata": {},
   "outputs": [],
   "source": [
    "data = pd.read_csv('/media/NAS/Tesis/NER/data/CNB_data/JusticIA_DatosTranscripciones.csv')\n",
    "texts = data[data['MetodoTexto'] == 'manual']['Texto'].tolist()"
   ]
  },
  {
   "cell_type": "code",
   "execution_count": 4,
   "metadata": {},
   "outputs": [
    {
     "name": "stdout",
     "output_type": "stream",
     "text": [
      "500\n",
      "export CLASSPATH=$CLASSPATH:/media/NAS/Tesis/NER/Stanford_NLP/stanford-corenlp-4.3.1/* && java -Xmx5g edu.stanford.nlp.pipeline.StanfordCoreNLP -props spanish -filelist list.txt\n"
     ]
    },
    {
     "name": "stderr",
     "output_type": "stream",
     "text": [
      "[main] INFO edu.stanford.nlp.pipeline.StanfordCoreNLP - Adding annotator tokenize\n",
      "[main] INFO edu.stanford.nlp.pipeline.StanfordCoreNLP - Adding annotator ssplit\n",
      "[main] INFO edu.stanford.nlp.pipeline.StanfordCoreNLP - Adding annotator mwt\n",
      "[main] INFO edu.stanford.nlp.pipeline.StanfordCoreNLP - Adding annotator pos\n",
      "[main] INFO edu.stanford.nlp.tagger.maxent.MaxentTagger - Loading POS tagger from edu/stanford/nlp/models/pos-tagger/spanish-ud.tagger ... done [0.3 sec].\n",
      "[main] INFO edu.stanford.nlp.pipeline.StanfordCoreNLP - Adding annotator lemma\n",
      "[main] INFO edu.stanford.nlp.pipeline.StanfordCoreNLP - Adding annotator ner\n",
      "[main] INFO edu.stanford.nlp.sequences.SeqClassifierFlags - sutime.language=spanish\n",
      "[main] INFO edu.stanford.nlp.ie.AbstractSequenceClassifier - Loading classifier from edu/stanford/nlp/models/ner/spanish.ancora.distsim.s512.crf.ser.gz ... done [0.5 sec].\n",
      "[main] INFO edu.stanford.nlp.time.JollyDayHolidays - Initializing JollyDayHoliday for SUTime from classpath edu/stanford/nlp/models/sutime/jollyday/Holidays_sutime.xml as sutime.binder.1.\n",
      "[main] INFO edu.stanford.nlp.time.TimeExpressionExtractorImpl - Using following SUTime rules: edu/stanford/nlp/models/sutime/defs.sutime.txt,edu/stanford/nlp/models/sutime/spanish.sutime.txt\n",
      "[main] INFO edu.stanford.nlp.pipeline.TokensRegexNERAnnotator - spanish.number.regexner: Read 3 unique entries out of 3 from edu/stanford/nlp/models/kbp/spanish/gazetteers/kbp_regexner_number_sp.tag, 0 TokensRegex patterns.\n",
      "[main] INFO edu.stanford.nlp.pipeline.TokensRegexNERAnnotator - ner.fine.regexner: Read 50998 unique entries out of 50999 from edu/stanford/nlp/models/kbp/spanish/gazetteers/kbp_regexner_mapping_sp.tag, 0 TokensRegex patterns.\n",
      "[main] INFO edu.stanford.nlp.pipeline.NERCombinerAnnotator - numeric classifiers: true; SUTime: true [no docDate]; fine grained: true\n",
      "[main] INFO edu.stanford.nlp.pipeline.StanfordCoreNLP - Adding annotator depparse\n",
      "[main] INFO edu.stanford.nlp.parser.nndep.DependencyParser - Loading depparse model: edu/stanford/nlp/models/parser/nndep/UD_Spanish.gz ... Time elapsed: 0.9 sec\n",
      "[main] INFO edu.stanford.nlp.parser.nndep.Classifier - PreComputed 20000 vectors, elapsed Time: 1.918 sec\n",
      "[main] INFO edu.stanford.nlp.parser.nndep.DependencyParser - Initializing dependency parser ... done [2.9 sec].\n",
      "[main] INFO edu.stanford.nlp.pipeline.StanfordCoreNLP - Adding annotator kbp\n",
      "\n",
      "Processing file /media/NAS/Tesis/NER/Stanford_NLP/temp/file_0.txt ... writing to /media/NAS/Tesis/NER/Stanford_NLP/file_0.txt.out\n",
      "Annotating file /media/NAS/Tesis/NER/Stanford_NLP/temp/file_0.txt ... done [0.5 sec].\n",
      "Processing file /media/NAS/Tesis/NER/Stanford_NLP/temp/file_1.txt ... writing to /media/NAS/Tesis/NER/Stanford_NLP/file_1.txt.out\n",
      "Annotating file /media/NAS/Tesis/NER/Stanford_NLP/temp/file_1.txt ... done [0.1 sec].\n",
      "Processing file /media/NAS/Tesis/NER/Stanford_NLP/temp/file_2.txt ... writing to /media/NAS/Tesis/NER/Stanford_NLP/file_2.txt.out\n",
      "Annotating file /media/NAS/Tesis/NER/Stanford_NLP/temp/file_2.txt ... done [0.1 sec].\n",
      "Processing file /media/NAS/Tesis/NER/Stanford_NLP/temp/file_3.txt ... writing to /media/NAS/Tesis/NER/Stanford_NLP/file_3.txt.out\n",
      "Annotating file /media/NAS/Tesis/NER/Stanford_NLP/temp/file_3.txt ... done [0.1 sec].\n",
      "Processing file /media/NAS/Tesis/NER/Stanford_NLP/temp/file_4.txt ... writing to /media/NAS/Tesis/NER/Stanford_NLP/file_4.txt.out\n",
      "Annotating file /media/NAS/Tesis/NER/Stanford_NLP/temp/file_4.txt ... done [0.1 sec].\n",
      "Processing file /media/NAS/Tesis/NER/Stanford_NLP/temp/file_5.txt ... writing to /media/NAS/Tesis/NER/Stanford_NLP/file_5.txt.out\n",
      "Annotating file /media/NAS/Tesis/NER/Stanford_NLP/temp/file_5.txt ... done [0.1 sec].\n",
      "Processing file /media/NAS/Tesis/NER/Stanford_NLP/temp/file_6.txt ... writing to /media/NAS/Tesis/NER/Stanford_NLP/file_6.txt.out\n",
      "Annotating file /media/NAS/Tesis/NER/Stanford_NLP/temp/file_6.txt ... done [0.1 sec].\n",
      "Processing file /media/NAS/Tesis/NER/Stanford_NLP/temp/file_7.txt ... writing to /media/NAS/Tesis/NER/Stanford_NLP/file_7.txt.out\n",
      "Annotating file /media/NAS/Tesis/NER/Stanford_NLP/temp/file_7.txt ... done [0.2 sec].\n",
      "Processing file /media/NAS/Tesis/NER/Stanford_NLP/temp/file_8.txt ... writing to /media/NAS/Tesis/NER/Stanford_NLP/file_8.txt.out\n",
      "Annotating file /media/NAS/Tesis/NER/Stanford_NLP/temp/file_8.txt ... done [0.1 sec].\n",
      "Processing file /media/NAS/Tesis/NER/Stanford_NLP/temp/file_9.txt ... writing to /media/NAS/Tesis/NER/Stanford_NLP/file_9.txt.out\n",
      "Annotating file /media/NAS/Tesis/NER/Stanford_NLP/temp/file_9.txt ... done [0.1 sec].\n",
      "Processing file /media/NAS/Tesis/NER/Stanford_NLP/temp/file_10.txt ... writing to /media/NAS/Tesis/NER/Stanford_NLP/file_10.txt.out\n",
      "Annotating file /media/NAS/Tesis/NER/Stanford_NLP/temp/file_10.txt ... done [0.1 sec].\n",
      "Processing file /media/NAS/Tesis/NER/Stanford_NLP/temp/file_11.txt ... writing to /media/NAS/Tesis/NER/Stanford_NLP/file_11.txt.out\n",
      "Annotating file /media/NAS/Tesis/NER/Stanford_NLP/temp/file_11.txt ... done [0.1 sec].\n",
      "Processing file /media/NAS/Tesis/NER/Stanford_NLP/temp/file_12.txt ... writing to /media/NAS/Tesis/NER/Stanford_NLP/file_12.txt.out\n",
      "Annotating file /media/NAS/Tesis/NER/Stanford_NLP/temp/file_12.txt ... done [0.1 sec].\n",
      "Processing file /media/NAS/Tesis/NER/Stanford_NLP/temp/file_13.txt ... writing to /media/NAS/Tesis/NER/Stanford_NLP/file_13.txt.out\n",
      "Annotating file /media/NAS/Tesis/NER/Stanford_NLP/temp/file_13.txt ... done [0.1 sec].\n",
      "Processing file /media/NAS/Tesis/NER/Stanford_NLP/temp/file_14.txt ... writing to /media/NAS/Tesis/NER/Stanford_NLP/file_14.txt.out\n",
      "Annotating file /media/NAS/Tesis/NER/Stanford_NLP/temp/file_14.txt ... done [0.0 sec].\n",
      "Processing file /media/NAS/Tesis/NER/Stanford_NLP/temp/file_15.txt ... writing to /media/NAS/Tesis/NER/Stanford_NLP/file_15.txt.out\n",
      "Annotating file /media/NAS/Tesis/NER/Stanford_NLP/temp/file_15.txt ... done [0.0 sec].\n",
      "Processing file /media/NAS/Tesis/NER/Stanford_NLP/temp/file_16.txt ... writing to /media/NAS/Tesis/NER/Stanford_NLP/file_16.txt.out\n",
      "Annotating file /media/NAS/Tesis/NER/Stanford_NLP/temp/file_16.txt ... done [0.1 sec].\n",
      "Processing file /media/NAS/Tesis/NER/Stanford_NLP/temp/file_17.txt ... writing to /media/NAS/Tesis/NER/Stanford_NLP/file_17.txt.out\n",
      "Annotating file /media/NAS/Tesis/NER/Stanford_NLP/temp/file_17.txt ... done [0.1 sec].\n",
      "Processing file /media/NAS/Tesis/NER/Stanford_NLP/temp/file_18.txt ... writing to /media/NAS/Tesis/NER/Stanford_NLP/file_18.txt.out\n",
      "Annotating file /media/NAS/Tesis/NER/Stanford_NLP/temp/file_18.txt ... done [0.1 sec].\n",
      "Processing file /media/NAS/Tesis/NER/Stanford_NLP/temp/file_19.txt ... writing to /media/NAS/Tesis/NER/Stanford_NLP/file_19.txt.out\n",
      "Annotating file /media/NAS/Tesis/NER/Stanford_NLP/temp/file_19.txt ... done [0.1 sec].\n",
      "Processing file /media/NAS/Tesis/NER/Stanford_NLP/temp/file_20.txt ... writing to /media/NAS/Tesis/NER/Stanford_NLP/file_20.txt.out\n",
      "Annotating file /media/NAS/Tesis/NER/Stanford_NLP/temp/file_20.txt ... done [1.0 sec].\n",
      "Processing file /media/NAS/Tesis/NER/Stanford_NLP/temp/file_21.txt ... writing to /media/NAS/Tesis/NER/Stanford_NLP/file_21.txt.out\n",
      "Annotating file /media/NAS/Tesis/NER/Stanford_NLP/temp/file_21.txt ... done [0.1 sec].\n",
      "Processing file /media/NAS/Tesis/NER/Stanford_NLP/temp/file_22.txt ... writing to /media/NAS/Tesis/NER/Stanford_NLP/file_22.txt.out\n",
      "Annotating file /media/NAS/Tesis/NER/Stanford_NLP/temp/file_22.txt ... done [0.1 sec].\n",
      "Processing file /media/NAS/Tesis/NER/Stanford_NLP/temp/file_23.txt ... writing to /media/NAS/Tesis/NER/Stanford_NLP/file_23.txt.out\n",
      "Annotating file /media/NAS/Tesis/NER/Stanford_NLP/temp/file_23.txt ... done [0.1 sec].\n",
      "Processing file /media/NAS/Tesis/NER/Stanford_NLP/temp/file_24.txt ... writing to /media/NAS/Tesis/NER/Stanford_NLP/file_24.txt.out\n",
      "Annotating file /media/NAS/Tesis/NER/Stanford_NLP/temp/file_24.txt ... done [0.1 sec].\n",
      "Processing file /media/NAS/Tesis/NER/Stanford_NLP/temp/file_25.txt ... writing to /media/NAS/Tesis/NER/Stanford_NLP/file_25.txt.out\n",
      "Annotating file /media/NAS/Tesis/NER/Stanford_NLP/temp/file_25.txt ... done [0.1 sec].\n",
      "Processing file /media/NAS/Tesis/NER/Stanford_NLP/temp/file_26.txt ... writing to /media/NAS/Tesis/NER/Stanford_NLP/file_26.txt.out\n",
      "Annotating file /media/NAS/Tesis/NER/Stanford_NLP/temp/file_26.txt ... done [0.1 sec].\n",
      "Processing file /media/NAS/Tesis/NER/Stanford_NLP/temp/file_27.txt ... writing to /media/NAS/Tesis/NER/Stanford_NLP/file_27.txt.out\n",
      "Annotating file /media/NAS/Tesis/NER/Stanford_NLP/temp/file_27.txt ... done [0.1 sec].\n",
      "Processing file /media/NAS/Tesis/NER/Stanford_NLP/temp/file_28.txt ... writing to /media/NAS/Tesis/NER/Stanford_NLP/file_28.txt.out\n",
      "Annotating file /media/NAS/Tesis/NER/Stanford_NLP/temp/file_28.txt ... done [0.1 sec].\n",
      "Processing file /media/NAS/Tesis/NER/Stanford_NLP/temp/file_29.txt ... writing to /media/NAS/Tesis/NER/Stanford_NLP/file_29.txt.out\n",
      "Annotating file /media/NAS/Tesis/NER/Stanford_NLP/temp/file_29.txt ... done [0.2 sec].\n",
      "Processing file /media/NAS/Tesis/NER/Stanford_NLP/temp/file_30.txt ... writing to /media/NAS/Tesis/NER/Stanford_NLP/file_30.txt.out\n",
      "Annotating file /media/NAS/Tesis/NER/Stanford_NLP/temp/file_30.txt ... done [0.1 sec].\n",
      "Processing file /media/NAS/Tesis/NER/Stanford_NLP/temp/file_31.txt ... writing to /media/NAS/Tesis/NER/Stanford_NLP/file_31.txt.out\n",
      "Annotating file /media/NAS/Tesis/NER/Stanford_NLP/temp/file_31.txt ... done [0.1 sec].\n",
      "Processing file /media/NAS/Tesis/NER/Stanford_NLP/temp/file_32.txt ... writing to /media/NAS/Tesis/NER/Stanford_NLP/file_32.txt.out\n",
      "Annotating file /media/NAS/Tesis/NER/Stanford_NLP/temp/file_32.txt ... done [0.1 sec].\n",
      "Processing file /media/NAS/Tesis/NER/Stanford_NLP/temp/file_33.txt ... writing to /media/NAS/Tesis/NER/Stanford_NLP/file_33.txt.out\n",
      "Annotating file /media/NAS/Tesis/NER/Stanford_NLP/temp/file_33.txt ... done [0.1 sec].\n",
      "Processing file /media/NAS/Tesis/NER/Stanford_NLP/temp/file_34.txt ... writing to /media/NAS/Tesis/NER/Stanford_NLP/file_34.txt.out\n",
      "Annotating file /media/NAS/Tesis/NER/Stanford_NLP/temp/file_34.txt ... done [0.0 sec].\n",
      "Processing file /media/NAS/Tesis/NER/Stanford_NLP/temp/file_35.txt ... writing to /media/NAS/Tesis/NER/Stanford_NLP/file_35.txt.out\n",
      "Annotating file /media/NAS/Tesis/NER/Stanford_NLP/temp/file_35.txt ... done [0.1 sec].\n",
      "Processing file /media/NAS/Tesis/NER/Stanford_NLP/temp/file_36.txt ... writing to /media/NAS/Tesis/NER/Stanford_NLP/file_36.txt.out\n",
      "Annotating file /media/NAS/Tesis/NER/Stanford_NLP/temp/file_36.txt ... done [0.1 sec].\n",
      "Processing file /media/NAS/Tesis/NER/Stanford_NLP/temp/file_37.txt ... writing to /media/NAS/Tesis/NER/Stanford_NLP/file_37.txt.out\n",
      "Annotating file /media/NAS/Tesis/NER/Stanford_NLP/temp/file_37.txt ... done [0.1 sec].\n",
      "Processing file /media/NAS/Tesis/NER/Stanford_NLP/temp/file_38.txt ... writing to /media/NAS/Tesis/NER/Stanford_NLP/file_38.txt.out\n",
      "Annotating file /media/NAS/Tesis/NER/Stanford_NLP/temp/file_38.txt ... done [0.0 sec].\n",
      "Processing file /media/NAS/Tesis/NER/Stanford_NLP/temp/file_39.txt ... writing to /media/NAS/Tesis/NER/Stanford_NLP/file_39.txt.out\n",
      "Annotating file /media/NAS/Tesis/NER/Stanford_NLP/temp/file_39.txt ... done [0.0 sec].\n",
      "Processing file /media/NAS/Tesis/NER/Stanford_NLP/temp/file_40.txt ... writing to /media/NAS/Tesis/NER/Stanford_NLP/file_40.txt.out\n",
      "Annotating file /media/NAS/Tesis/NER/Stanford_NLP/temp/file_40.txt ... done [0.1 sec].\n",
      "Processing file /media/NAS/Tesis/NER/Stanford_NLP/temp/file_41.txt ... writing to /media/NAS/Tesis/NER/Stanford_NLP/file_41.txt.out\n",
      "Annotating file /media/NAS/Tesis/NER/Stanford_NLP/temp/file_41.txt ... done [0.1 sec].\n",
      "Processing file /media/NAS/Tesis/NER/Stanford_NLP/temp/file_42.txt ... writing to /media/NAS/Tesis/NER/Stanford_NLP/file_42.txt.out\n",
      "Annotating file /media/NAS/Tesis/NER/Stanford_NLP/temp/file_42.txt ... done [0.1 sec].\n",
      "Processing file /media/NAS/Tesis/NER/Stanford_NLP/temp/file_43.txt ... writing to /media/NAS/Tesis/NER/Stanford_NLP/file_43.txt.out\n",
      "Annotating file /media/NAS/Tesis/NER/Stanford_NLP/temp/file_43.txt ... done [0.1 sec].\n",
      "Processing file /media/NAS/Tesis/NER/Stanford_NLP/temp/file_44.txt ... writing to /media/NAS/Tesis/NER/Stanford_NLP/file_44.txt.out\n",
      "Annotating file /media/NAS/Tesis/NER/Stanford_NLP/temp/file_44.txt ... done [0.1 sec].\n",
      "Processing file /media/NAS/Tesis/NER/Stanford_NLP/temp/file_45.txt ... writing to /media/NAS/Tesis/NER/Stanford_NLP/file_45.txt.out\n",
      "Annotating file /media/NAS/Tesis/NER/Stanford_NLP/temp/file_45.txt ... done [0.1 sec].\n",
      "Processing file /media/NAS/Tesis/NER/Stanford_NLP/temp/file_46.txt ... writing to /media/NAS/Tesis/NER/Stanford_NLP/file_46.txt.out\n",
      "Annotating file /media/NAS/Tesis/NER/Stanford_NLP/temp/file_46.txt ... done [0.1 sec].\n",
      "Processing file /media/NAS/Tesis/NER/Stanford_NLP/temp/file_47.txt ... writing to /media/NAS/Tesis/NER/Stanford_NLP/file_47.txt.out\n",
      "Annotating file /media/NAS/Tesis/NER/Stanford_NLP/temp/file_47.txt ... done [0.1 sec].\n",
      "Processing file /media/NAS/Tesis/NER/Stanford_NLP/temp/file_48.txt ... writing to /media/NAS/Tesis/NER/Stanford_NLP/file_48.txt.out\n",
      "Annotating file /media/NAS/Tesis/NER/Stanford_NLP/temp/file_48.txt ... done [0.1 sec].\n",
      "Processing file /media/NAS/Tesis/NER/Stanford_NLP/temp/file_49.txt ... writing to /media/NAS/Tesis/NER/Stanford_NLP/file_49.txt.out\n",
      "Annotating file /media/NAS/Tesis/NER/Stanford_NLP/temp/file_49.txt ... done [0.1 sec].\n",
      "Processing file /media/NAS/Tesis/NER/Stanford_NLP/temp/file_50.txt ... writing to /media/NAS/Tesis/NER/Stanford_NLP/file_50.txt.out\n",
      "Annotating file /media/NAS/Tesis/NER/Stanford_NLP/temp/file_50.txt ... done [0.1 sec].\n",
      "Processing file /media/NAS/Tesis/NER/Stanford_NLP/temp/file_51.txt ... writing to /media/NAS/Tesis/NER/Stanford_NLP/file_51.txt.out\n",
      "Annotating file /media/NAS/Tesis/NER/Stanford_NLP/temp/file_51.txt ... done [0.1 sec].\n",
      "Processing file /media/NAS/Tesis/NER/Stanford_NLP/temp/file_52.txt ... writing to /media/NAS/Tesis/NER/Stanford_NLP/file_52.txt.out\n",
      "Annotating file /media/NAS/Tesis/NER/Stanford_NLP/temp/file_52.txt ... done [0.1 sec].\n",
      "Processing file /media/NAS/Tesis/NER/Stanford_NLP/temp/file_53.txt ... writing to /media/NAS/Tesis/NER/Stanford_NLP/file_53.txt.out\n",
      "Annotating file /media/NAS/Tesis/NER/Stanford_NLP/temp/file_53.txt ... done [0.1 sec].\n",
      "Processing file /media/NAS/Tesis/NER/Stanford_NLP/temp/file_54.txt ... writing to /media/NAS/Tesis/NER/Stanford_NLP/file_54.txt.out\n",
      "Annotating file /media/NAS/Tesis/NER/Stanford_NLP/temp/file_54.txt ... done [0.1 sec].\n",
      "Processing file /media/NAS/Tesis/NER/Stanford_NLP/temp/file_55.txt ... writing to /media/NAS/Tesis/NER/Stanford_NLP/file_55.txt.out\n",
      "Annotating file /media/NAS/Tesis/NER/Stanford_NLP/temp/file_55.txt ... done [0.1 sec].\n",
      "Processing file /media/NAS/Tesis/NER/Stanford_NLP/temp/file_56.txt ... writing to /media/NAS/Tesis/NER/Stanford_NLP/file_56.txt.out\n",
      "Annotating file /media/NAS/Tesis/NER/Stanford_NLP/temp/file_56.txt ... done [0.1 sec].\n",
      "Processing file /media/NAS/Tesis/NER/Stanford_NLP/temp/file_57.txt ... writing to /media/NAS/Tesis/NER/Stanford_NLP/file_57.txt.out\n",
      "Annotating file /media/NAS/Tesis/NER/Stanford_NLP/temp/file_57.txt ... done [0.1 sec].\n",
      "Processing file /media/NAS/Tesis/NER/Stanford_NLP/temp/file_58.txt ... writing to /media/NAS/Tesis/NER/Stanford_NLP/file_58.txt.out\n",
      "Annotating file /media/NAS/Tesis/NER/Stanford_NLP/temp/file_58.txt ... done [0.1 sec].\n",
      "Processing file /media/NAS/Tesis/NER/Stanford_NLP/temp/file_59.txt ... writing to /media/NAS/Tesis/NER/Stanford_NLP/file_59.txt.out\n",
      "Annotating file /media/NAS/Tesis/NER/Stanford_NLP/temp/file_59.txt ... done [0.1 sec].\n",
      "Processing file /media/NAS/Tesis/NER/Stanford_NLP/temp/file_60.txt ... writing to /media/NAS/Tesis/NER/Stanford_NLP/file_60.txt.out\n",
      "Annotating file /media/NAS/Tesis/NER/Stanford_NLP/temp/file_60.txt ... done [0.1 sec].\n",
      "Processing file /media/NAS/Tesis/NER/Stanford_NLP/temp/file_61.txt ... writing to /media/NAS/Tesis/NER/Stanford_NLP/file_61.txt.out\n",
      "Annotating file /media/NAS/Tesis/NER/Stanford_NLP/temp/file_61.txt ... done [0.1 sec].\n",
      "Processing file /media/NAS/Tesis/NER/Stanford_NLP/temp/file_62.txt ... writing to /media/NAS/Tesis/NER/Stanford_NLP/file_62.txt.out\n",
      "Annotating file /media/NAS/Tesis/NER/Stanford_NLP/temp/file_62.txt ... done [0.1 sec].\n",
      "Processing file /media/NAS/Tesis/NER/Stanford_NLP/temp/file_63.txt ... writing to /media/NAS/Tesis/NER/Stanford_NLP/file_63.txt.out\n",
      "Annotating file /media/NAS/Tesis/NER/Stanford_NLP/temp/file_63.txt ... done [0.1 sec].\n",
      "Processing file /media/NAS/Tesis/NER/Stanford_NLP/temp/file_64.txt ... writing to /media/NAS/Tesis/NER/Stanford_NLP/file_64.txt.out\n",
      "Annotating file /media/NAS/Tesis/NER/Stanford_NLP/temp/file_64.txt ... done [0.1 sec].\n",
      "Processing file /media/NAS/Tesis/NER/Stanford_NLP/temp/file_65.txt ... writing to /media/NAS/Tesis/NER/Stanford_NLP/file_65.txt.out\n",
      "Annotating file /media/NAS/Tesis/NER/Stanford_NLP/temp/file_65.txt ... done [0.1 sec].\n",
      "Processing file /media/NAS/Tesis/NER/Stanford_NLP/temp/file_66.txt ... writing to /media/NAS/Tesis/NER/Stanford_NLP/file_66.txt.out\n",
      "Annotating file /media/NAS/Tesis/NER/Stanford_NLP/temp/file_66.txt ... done [0.0 sec].\n",
      "Processing file /media/NAS/Tesis/NER/Stanford_NLP/temp/file_67.txt ... writing to /media/NAS/Tesis/NER/Stanford_NLP/file_67.txt.out\n",
      "Annotating file /media/NAS/Tesis/NER/Stanford_NLP/temp/file_67.txt ... done [0.1 sec].\n",
      "Processing file /media/NAS/Tesis/NER/Stanford_NLP/temp/file_68.txt ... writing to /media/NAS/Tesis/NER/Stanford_NLP/file_68.txt.out\n",
      "Annotating file /media/NAS/Tesis/NER/Stanford_NLP/temp/file_68.txt ... done [0.1 sec].\n",
      "Processing file /media/NAS/Tesis/NER/Stanford_NLP/temp/file_69.txt ... writing to /media/NAS/Tesis/NER/Stanford_NLP/file_69.txt.out\n",
      "Annotating file /media/NAS/Tesis/NER/Stanford_NLP/temp/file_69.txt ... done [0.4 sec].\n",
      "Processing file /media/NAS/Tesis/NER/Stanford_NLP/temp/file_70.txt ... writing to /media/NAS/Tesis/NER/Stanford_NLP/file_70.txt.out\n",
      "Annotating file /media/NAS/Tesis/NER/Stanford_NLP/temp/file_70.txt ... done [0.1 sec].\n",
      "Processing file /media/NAS/Tesis/NER/Stanford_NLP/temp/file_71.txt ... writing to /media/NAS/Tesis/NER/Stanford_NLP/file_71.txt.out\n",
      "Annotating file /media/NAS/Tesis/NER/Stanford_NLP/temp/file_71.txt ... done [0.1 sec].\n",
      "Processing file /media/NAS/Tesis/NER/Stanford_NLP/temp/file_72.txt ... writing to /media/NAS/Tesis/NER/Stanford_NLP/file_72.txt.out\n",
      "Annotating file /media/NAS/Tesis/NER/Stanford_NLP/temp/file_72.txt ... done [0.1 sec].\n",
      "Processing file /media/NAS/Tesis/NER/Stanford_NLP/temp/file_73.txt ... writing to /media/NAS/Tesis/NER/Stanford_NLP/file_73.txt.out\n",
      "Annotating file /media/NAS/Tesis/NER/Stanford_NLP/temp/file_73.txt ... done [0.1 sec].\n",
      "Processing file /media/NAS/Tesis/NER/Stanford_NLP/temp/file_74.txt ... writing to /media/NAS/Tesis/NER/Stanford_NLP/file_74.txt.out\n",
      "Annotating file /media/NAS/Tesis/NER/Stanford_NLP/temp/file_74.txt ... done [0.1 sec].\n",
      "Processing file /media/NAS/Tesis/NER/Stanford_NLP/temp/file_75.txt ... writing to /media/NAS/Tesis/NER/Stanford_NLP/file_75.txt.out\n",
      "Annotating file /media/NAS/Tesis/NER/Stanford_NLP/temp/file_75.txt ... done [0.1 sec].\n",
      "Processing file /media/NAS/Tesis/NER/Stanford_NLP/temp/file_76.txt ... writing to /media/NAS/Tesis/NER/Stanford_NLP/file_76.txt.out\n",
      "Annotating file /media/NAS/Tesis/NER/Stanford_NLP/temp/file_76.txt ... done [0.1 sec].\n",
      "Processing file /media/NAS/Tesis/NER/Stanford_NLP/temp/file_77.txt ... writing to /media/NAS/Tesis/NER/Stanford_NLP/file_77.txt.out\n",
      "Annotating file /media/NAS/Tesis/NER/Stanford_NLP/temp/file_77.txt ... done [0.1 sec].\n",
      "Processing file /media/NAS/Tesis/NER/Stanford_NLP/temp/file_78.txt ... writing to /media/NAS/Tesis/NER/Stanford_NLP/file_78.txt.out\n",
      "Annotating file /media/NAS/Tesis/NER/Stanford_NLP/temp/file_78.txt ... done [0.1 sec].\n",
      "Processing file /media/NAS/Tesis/NER/Stanford_NLP/temp/file_79.txt ... writing to /media/NAS/Tesis/NER/Stanford_NLP/file_79.txt.out\n",
      "Annotating file /media/NAS/Tesis/NER/Stanford_NLP/temp/file_79.txt ... done [0.1 sec].\n",
      "Processing file /media/NAS/Tesis/NER/Stanford_NLP/temp/file_80.txt ... writing to /media/NAS/Tesis/NER/Stanford_NLP/file_80.txt.out\n",
      "Annotating file /media/NAS/Tesis/NER/Stanford_NLP/temp/file_80.txt ... done [0.1 sec].\n",
      "Processing file /media/NAS/Tesis/NER/Stanford_NLP/temp/file_81.txt ... writing to /media/NAS/Tesis/NER/Stanford_NLP/file_81.txt.out\n",
      "Annotating file /media/NAS/Tesis/NER/Stanford_NLP/temp/file_81.txt ... done [0.1 sec].\n",
      "Processing file /media/NAS/Tesis/NER/Stanford_NLP/temp/file_82.txt ... writing to /media/NAS/Tesis/NER/Stanford_NLP/file_82.txt.out\n",
      "Annotating file /media/NAS/Tesis/NER/Stanford_NLP/temp/file_82.txt ... done [0.1 sec].\n",
      "Processing file /media/NAS/Tesis/NER/Stanford_NLP/temp/file_83.txt ... writing to /media/NAS/Tesis/NER/Stanford_NLP/file_83.txt.out\n",
      "Annotating file /media/NAS/Tesis/NER/Stanford_NLP/temp/file_83.txt ... done [0.1 sec].\n",
      "Processing file /media/NAS/Tesis/NER/Stanford_NLP/temp/file_84.txt ... writing to /media/NAS/Tesis/NER/Stanford_NLP/file_84.txt.out\n",
      "Annotating file /media/NAS/Tesis/NER/Stanford_NLP/temp/file_84.txt ... done [0.1 sec].\n",
      "Processing file /media/NAS/Tesis/NER/Stanford_NLP/temp/file_85.txt ... writing to /media/NAS/Tesis/NER/Stanford_NLP/file_85.txt.out\n",
      "Annotating file /media/NAS/Tesis/NER/Stanford_NLP/temp/file_85.txt ... done [0.2 sec].\n",
      "Processing file /media/NAS/Tesis/NER/Stanford_NLP/temp/file_86.txt ... writing to /media/NAS/Tesis/NER/Stanford_NLP/file_86.txt.out\n",
      "Annotating file /media/NAS/Tesis/NER/Stanford_NLP/temp/file_86.txt ... done [0.1 sec].\n",
      "Processing file /media/NAS/Tesis/NER/Stanford_NLP/temp/file_87.txt ... writing to /media/NAS/Tesis/NER/Stanford_NLP/file_87.txt.out\n",
      "Annotating file /media/NAS/Tesis/NER/Stanford_NLP/temp/file_87.txt ... done [2.4 sec].\n",
      "Processing file /media/NAS/Tesis/NER/Stanford_NLP/temp/file_88.txt ... writing to /media/NAS/Tesis/NER/Stanford_NLP/file_88.txt.out\n",
      "Annotating file /media/NAS/Tesis/NER/Stanford_NLP/temp/file_88.txt ... done [0.2 sec].\n",
      "Processing file /media/NAS/Tesis/NER/Stanford_NLP/temp/file_89.txt ... writing to /media/NAS/Tesis/NER/Stanford_NLP/file_89.txt.out\n",
      "Annotating file /media/NAS/Tesis/NER/Stanford_NLP/temp/file_89.txt ... done [0.0 sec].\n",
      "Processing file /media/NAS/Tesis/NER/Stanford_NLP/temp/file_90.txt ... writing to /media/NAS/Tesis/NER/Stanford_NLP/file_90.txt.out\n",
      "Annotating file /media/NAS/Tesis/NER/Stanford_NLP/temp/file_90.txt ... done [0.1 sec].\n",
      "Processing file /media/NAS/Tesis/NER/Stanford_NLP/temp/file_91.txt ... writing to /media/NAS/Tesis/NER/Stanford_NLP/file_91.txt.out\n",
      "Annotating file /media/NAS/Tesis/NER/Stanford_NLP/temp/file_91.txt ... done [0.1 sec].\n",
      "Processing file /media/NAS/Tesis/NER/Stanford_NLP/temp/file_92.txt ... writing to /media/NAS/Tesis/NER/Stanford_NLP/file_92.txt.out\n",
      "Annotating file /media/NAS/Tesis/NER/Stanford_NLP/temp/file_92.txt ... done [0.1 sec].\n",
      "Processing file /media/NAS/Tesis/NER/Stanford_NLP/temp/file_93.txt ... writing to /media/NAS/Tesis/NER/Stanford_NLP/file_93.txt.out\n",
      "Annotating file /media/NAS/Tesis/NER/Stanford_NLP/temp/file_93.txt ... done [0.2 sec].\n",
      "Processing file /media/NAS/Tesis/NER/Stanford_NLP/temp/file_94.txt ... writing to /media/NAS/Tesis/NER/Stanford_NLP/file_94.txt.out\n",
      "Annotating file /media/NAS/Tesis/NER/Stanford_NLP/temp/file_94.txt ... done [0.1 sec].\n",
      "Processing file /media/NAS/Tesis/NER/Stanford_NLP/temp/file_95.txt ... writing to /media/NAS/Tesis/NER/Stanford_NLP/file_95.txt.out\n",
      "Annotating file /media/NAS/Tesis/NER/Stanford_NLP/temp/file_95.txt ... done [0.1 sec].\n",
      "Processing file /media/NAS/Tesis/NER/Stanford_NLP/temp/file_96.txt ... writing to /media/NAS/Tesis/NER/Stanford_NLP/file_96.txt.out\n",
      "Annotating file /media/NAS/Tesis/NER/Stanford_NLP/temp/file_96.txt ... done [0.1 sec].\n",
      "Processing file /media/NAS/Tesis/NER/Stanford_NLP/temp/file_97.txt ... writing to /media/NAS/Tesis/NER/Stanford_NLP/file_97.txt.out\n",
      "Annotating file /media/NAS/Tesis/NER/Stanford_NLP/temp/file_97.txt ... done [0.1 sec].\n",
      "Processing file /media/NAS/Tesis/NER/Stanford_NLP/temp/file_98.txt ... writing to /media/NAS/Tesis/NER/Stanford_NLP/file_98.txt.out\n",
      "Annotating file /media/NAS/Tesis/NER/Stanford_NLP/temp/file_98.txt ... done [0.1 sec].\n",
      "Processing file /media/NAS/Tesis/NER/Stanford_NLP/temp/file_99.txt ... writing to /media/NAS/Tesis/NER/Stanford_NLP/file_99.txt.out\n",
      "Annotating file /media/NAS/Tesis/NER/Stanford_NLP/temp/file_99.txt ... done [0.1 sec].\n",
      "Processing file /media/NAS/Tesis/NER/Stanford_NLP/temp/file_100.txt ... writing to /media/NAS/Tesis/NER/Stanford_NLP/file_100.txt.out\n",
      "Annotating file /media/NAS/Tesis/NER/Stanford_NLP/temp/file_100.txt ... done [0.0 sec].\n",
      "Processing file /media/NAS/Tesis/NER/Stanford_NLP/temp/file_101.txt ... writing to /media/NAS/Tesis/NER/Stanford_NLP/file_101.txt.out\n",
      "Annotating file /media/NAS/Tesis/NER/Stanford_NLP/temp/file_101.txt ... done [0.1 sec].\n",
      "Processing file /media/NAS/Tesis/NER/Stanford_NLP/temp/file_102.txt ... writing to /media/NAS/Tesis/NER/Stanford_NLP/file_102.txt.out\n",
      "Annotating file /media/NAS/Tesis/NER/Stanford_NLP/temp/file_102.txt ... done [0.0 sec].\n",
      "Processing file /media/NAS/Tesis/NER/Stanford_NLP/temp/file_103.txt ... writing to /media/NAS/Tesis/NER/Stanford_NLP/file_103.txt.out\n",
      "Annotating file /media/NAS/Tesis/NER/Stanford_NLP/temp/file_103.txt ... done [0.1 sec].\n",
      "Processing file /media/NAS/Tesis/NER/Stanford_NLP/temp/file_104.txt ... writing to /media/NAS/Tesis/NER/Stanford_NLP/file_104.txt.out\n",
      "Annotating file /media/NAS/Tesis/NER/Stanford_NLP/temp/file_104.txt ... done [0.1 sec].\n",
      "Processing file /media/NAS/Tesis/NER/Stanford_NLP/temp/file_105.txt ... writing to /media/NAS/Tesis/NER/Stanford_NLP/file_105.txt.out\n",
      "Annotating file /media/NAS/Tesis/NER/Stanford_NLP/temp/file_105.txt ... done [0.1 sec].\n",
      "Processing file /media/NAS/Tesis/NER/Stanford_NLP/temp/file_106.txt ... writing to /media/NAS/Tesis/NER/Stanford_NLP/file_106.txt.out\n",
      "Annotating file /media/NAS/Tesis/NER/Stanford_NLP/temp/file_106.txt ... done [0.1 sec].\n",
      "Processing file /media/NAS/Tesis/NER/Stanford_NLP/temp/file_107.txt ... writing to /media/NAS/Tesis/NER/Stanford_NLP/file_107.txt.out\n",
      "Annotating file /media/NAS/Tesis/NER/Stanford_NLP/temp/file_107.txt ... done [0.1 sec].\n",
      "Processing file /media/NAS/Tesis/NER/Stanford_NLP/temp/file_108.txt ... writing to /media/NAS/Tesis/NER/Stanford_NLP/file_108.txt.out\n",
      "Annotating file /media/NAS/Tesis/NER/Stanford_NLP/temp/file_108.txt ... done [0.1 sec].\n",
      "Processing file /media/NAS/Tesis/NER/Stanford_NLP/temp/file_109.txt ... writing to /media/NAS/Tesis/NER/Stanford_NLP/file_109.txt.out\n",
      "Annotating file /media/NAS/Tesis/NER/Stanford_NLP/temp/file_109.txt ... done [0.2 sec].\n",
      "Processing file /media/NAS/Tesis/NER/Stanford_NLP/temp/file_110.txt ... writing to /media/NAS/Tesis/NER/Stanford_NLP/file_110.txt.out\n",
      "Annotating file /media/NAS/Tesis/NER/Stanford_NLP/temp/file_110.txt ... done [0.1 sec].\n",
      "Processing file /media/NAS/Tesis/NER/Stanford_NLP/temp/file_111.txt ... writing to /media/NAS/Tesis/NER/Stanford_NLP/file_111.txt.out\n",
      "Annotating file /media/NAS/Tesis/NER/Stanford_NLP/temp/file_111.txt ... done [0.1 sec].\n",
      "Processing file /media/NAS/Tesis/NER/Stanford_NLP/temp/file_112.txt ... writing to /media/NAS/Tesis/NER/Stanford_NLP/file_112.txt.out\n",
      "Annotating file /media/NAS/Tesis/NER/Stanford_NLP/temp/file_112.txt ... done [0.3 sec].\n",
      "Processing file /media/NAS/Tesis/NER/Stanford_NLP/temp/file_113.txt ... writing to /media/NAS/Tesis/NER/Stanford_NLP/file_113.txt.out\n",
      "Annotating file /media/NAS/Tesis/NER/Stanford_NLP/temp/file_113.txt ... done [0.3 sec].\n",
      "Processing file /media/NAS/Tesis/NER/Stanford_NLP/temp/file_114.txt ... writing to /media/NAS/Tesis/NER/Stanford_NLP/file_114.txt.out\n",
      "Annotating file /media/NAS/Tesis/NER/Stanford_NLP/temp/file_114.txt ... done [0.2 sec].\n",
      "Processing file /media/NAS/Tesis/NER/Stanford_NLP/temp/file_115.txt ... writing to /media/NAS/Tesis/NER/Stanford_NLP/file_115.txt.out\n",
      "Annotating file /media/NAS/Tesis/NER/Stanford_NLP/temp/file_115.txt ... done [0.1 sec].\n",
      "Processing file /media/NAS/Tesis/NER/Stanford_NLP/temp/file_116.txt ... writing to /media/NAS/Tesis/NER/Stanford_NLP/file_116.txt.out\n",
      "Annotating file /media/NAS/Tesis/NER/Stanford_NLP/temp/file_116.txt ... done [0.1 sec].\n",
      "Processing file /media/NAS/Tesis/NER/Stanford_NLP/temp/file_117.txt ... writing to /media/NAS/Tesis/NER/Stanford_NLP/file_117.txt.out\n",
      "Annotating file /media/NAS/Tesis/NER/Stanford_NLP/temp/file_117.txt ... done [0.1 sec].\n",
      "Processing file /media/NAS/Tesis/NER/Stanford_NLP/temp/file_118.txt ... writing to /media/NAS/Tesis/NER/Stanford_NLP/file_118.txt.out\n",
      "Annotating file /media/NAS/Tesis/NER/Stanford_NLP/temp/file_118.txt ... done [0.1 sec].\n",
      "Processing file /media/NAS/Tesis/NER/Stanford_NLP/temp/file_119.txt ... writing to /media/NAS/Tesis/NER/Stanford_NLP/file_119.txt.out\n",
      "Annotating file /media/NAS/Tesis/NER/Stanford_NLP/temp/file_119.txt ... done [0.1 sec].\n",
      "Processing file /media/NAS/Tesis/NER/Stanford_NLP/temp/file_120.txt ... writing to /media/NAS/Tesis/NER/Stanford_NLP/file_120.txt.out\n",
      "Annotating file /media/NAS/Tesis/NER/Stanford_NLP/temp/file_120.txt ... done [0.1 sec].\n",
      "Processing file /media/NAS/Tesis/NER/Stanford_NLP/temp/file_121.txt ... writing to /media/NAS/Tesis/NER/Stanford_NLP/file_121.txt.out\n",
      "Annotating file /media/NAS/Tesis/NER/Stanford_NLP/temp/file_121.txt ... done [0.1 sec].\n",
      "Processing file /media/NAS/Tesis/NER/Stanford_NLP/temp/file_122.txt ... writing to /media/NAS/Tesis/NER/Stanford_NLP/file_122.txt.out\n",
      "Annotating file /media/NAS/Tesis/NER/Stanford_NLP/temp/file_122.txt ... done [0.0 sec].\n",
      "Processing file /media/NAS/Tesis/NER/Stanford_NLP/temp/file_123.txt ... writing to /media/NAS/Tesis/NER/Stanford_NLP/file_123.txt.out\n",
      "Annotating file /media/NAS/Tesis/NER/Stanford_NLP/temp/file_123.txt ... done [0.1 sec].\n",
      "Processing file /media/NAS/Tesis/NER/Stanford_NLP/temp/file_124.txt ... writing to /media/NAS/Tesis/NER/Stanford_NLP/file_124.txt.out\n",
      "Annotating file /media/NAS/Tesis/NER/Stanford_NLP/temp/file_124.txt ... done [0.2 sec].\n",
      "Processing file /media/NAS/Tesis/NER/Stanford_NLP/temp/file_125.txt ... writing to /media/NAS/Tesis/NER/Stanford_NLP/file_125.txt.out\n",
      "Annotating file /media/NAS/Tesis/NER/Stanford_NLP/temp/file_125.txt ... done [0.1 sec].\n",
      "Processing file /media/NAS/Tesis/NER/Stanford_NLP/temp/file_126.txt ... writing to /media/NAS/Tesis/NER/Stanford_NLP/file_126.txt.out\n",
      "Annotating file /media/NAS/Tesis/NER/Stanford_NLP/temp/file_126.txt ... done [0.1 sec].\n",
      "Processing file /media/NAS/Tesis/NER/Stanford_NLP/temp/file_127.txt ... writing to /media/NAS/Tesis/NER/Stanford_NLP/file_127.txt.out\n",
      "Annotating file /media/NAS/Tesis/NER/Stanford_NLP/temp/file_127.txt ... done [0.0 sec].\n",
      "Processing file /media/NAS/Tesis/NER/Stanford_NLP/temp/file_128.txt ... writing to /media/NAS/Tesis/NER/Stanford_NLP/file_128.txt.out\n",
      "Annotating file /media/NAS/Tesis/NER/Stanford_NLP/temp/file_128.txt ... done [0.2 sec].\n",
      "Processing file /media/NAS/Tesis/NER/Stanford_NLP/temp/file_129.txt ... writing to /media/NAS/Tesis/NER/Stanford_NLP/file_129.txt.out\n",
      "Annotating file /media/NAS/Tesis/NER/Stanford_NLP/temp/file_129.txt ... done [0.1 sec].\n",
      "Processing file /media/NAS/Tesis/NER/Stanford_NLP/temp/file_130.txt ... writing to /media/NAS/Tesis/NER/Stanford_NLP/file_130.txt.out\n",
      "Annotating file /media/NAS/Tesis/NER/Stanford_NLP/temp/file_130.txt ... done [0.0 sec].\n",
      "Processing file /media/NAS/Tesis/NER/Stanford_NLP/temp/file_131.txt ... writing to /media/NAS/Tesis/NER/Stanford_NLP/file_131.txt.out\n",
      "Annotating file /media/NAS/Tesis/NER/Stanford_NLP/temp/file_131.txt ... done [0.1 sec].\n",
      "Processing file /media/NAS/Tesis/NER/Stanford_NLP/temp/file_132.txt ... writing to /media/NAS/Tesis/NER/Stanford_NLP/file_132.txt.out\n",
      "Annotating file /media/NAS/Tesis/NER/Stanford_NLP/temp/file_132.txt ... done [0.1 sec].\n",
      "Processing file /media/NAS/Tesis/NER/Stanford_NLP/temp/file_133.txt ... writing to /media/NAS/Tesis/NER/Stanford_NLP/file_133.txt.out\n",
      "Annotating file /media/NAS/Tesis/NER/Stanford_NLP/temp/file_133.txt ... done [0.1 sec].\n",
      "Processing file /media/NAS/Tesis/NER/Stanford_NLP/temp/file_134.txt ... writing to /media/NAS/Tesis/NER/Stanford_NLP/file_134.txt.out\n",
      "Annotating file /media/NAS/Tesis/NER/Stanford_NLP/temp/file_134.txt ... done [0.1 sec].\n",
      "Processing file /media/NAS/Tesis/NER/Stanford_NLP/temp/file_135.txt ... writing to /media/NAS/Tesis/NER/Stanford_NLP/file_135.txt.out\n",
      "Annotating file /media/NAS/Tesis/NER/Stanford_NLP/temp/file_135.txt ... done [0.1 sec].\n",
      "Processing file /media/NAS/Tesis/NER/Stanford_NLP/temp/file_136.txt ... writing to /media/NAS/Tesis/NER/Stanford_NLP/file_136.txt.out\n",
      "Annotating file /media/NAS/Tesis/NER/Stanford_NLP/temp/file_136.txt ... done [0.1 sec].\n",
      "Processing file /media/NAS/Tesis/NER/Stanford_NLP/temp/file_137.txt ... writing to /media/NAS/Tesis/NER/Stanford_NLP/file_137.txt.out\n",
      "Annotating file /media/NAS/Tesis/NER/Stanford_NLP/temp/file_137.txt ... done [0.0 sec].\n",
      "Processing file /media/NAS/Tesis/NER/Stanford_NLP/temp/file_138.txt ... writing to /media/NAS/Tesis/NER/Stanford_NLP/file_138.txt.out\n",
      "Annotating file /media/NAS/Tesis/NER/Stanford_NLP/temp/file_138.txt ... done [0.0 sec].\n",
      "Processing file /media/NAS/Tesis/NER/Stanford_NLP/temp/file_139.txt ... writing to /media/NAS/Tesis/NER/Stanford_NLP/file_139.txt.out\n",
      "Annotating file /media/NAS/Tesis/NER/Stanford_NLP/temp/file_139.txt ... done [0.0 sec].\n",
      "Processing file /media/NAS/Tesis/NER/Stanford_NLP/temp/file_140.txt ... writing to /media/NAS/Tesis/NER/Stanford_NLP/file_140.txt.out\n",
      "Annotating file /media/NAS/Tesis/NER/Stanford_NLP/temp/file_140.txt ... done [0.0 sec].\n",
      "Processing file /media/NAS/Tesis/NER/Stanford_NLP/temp/file_141.txt ... writing to /media/NAS/Tesis/NER/Stanford_NLP/file_141.txt.out\n",
      "Annotating file /media/NAS/Tesis/NER/Stanford_NLP/temp/file_141.txt ... done [0.1 sec].\n",
      "Processing file /media/NAS/Tesis/NER/Stanford_NLP/temp/file_142.txt ... writing to /media/NAS/Tesis/NER/Stanford_NLP/file_142.txt.out\n",
      "Annotating file /media/NAS/Tesis/NER/Stanford_NLP/temp/file_142.txt ... done [0.0 sec].\n",
      "Processing file /media/NAS/Tesis/NER/Stanford_NLP/temp/file_143.txt ... writing to /media/NAS/Tesis/NER/Stanford_NLP/file_143.txt.out\n",
      "Annotating file /media/NAS/Tesis/NER/Stanford_NLP/temp/file_143.txt ... done [0.0 sec].\n",
      "Processing file /media/NAS/Tesis/NER/Stanford_NLP/temp/file_144.txt ... writing to /media/NAS/Tesis/NER/Stanford_NLP/file_144.txt.out\n",
      "Annotating file /media/NAS/Tesis/NER/Stanford_NLP/temp/file_144.txt ... done [0.0 sec].\n",
      "Processing file /media/NAS/Tesis/NER/Stanford_NLP/temp/file_145.txt ... writing to /media/NAS/Tesis/NER/Stanford_NLP/file_145.txt.out\n",
      "Annotating file /media/NAS/Tesis/NER/Stanford_NLP/temp/file_145.txt ... done [0.1 sec].\n",
      "Processing file /media/NAS/Tesis/NER/Stanford_NLP/temp/file_146.txt ... writing to /media/NAS/Tesis/NER/Stanford_NLP/file_146.txt.out\n",
      "Annotating file /media/NAS/Tesis/NER/Stanford_NLP/temp/file_146.txt ... done [0.1 sec].\n",
      "Processing file /media/NAS/Tesis/NER/Stanford_NLP/temp/file_147.txt ... writing to /media/NAS/Tesis/NER/Stanford_NLP/file_147.txt.out\n",
      "Annotating file /media/NAS/Tesis/NER/Stanford_NLP/temp/file_147.txt ... done [0.1 sec].\n",
      "Processing file /media/NAS/Tesis/NER/Stanford_NLP/temp/file_148.txt ... writing to /media/NAS/Tesis/NER/Stanford_NLP/file_148.txt.out\n",
      "Annotating file /media/NAS/Tesis/NER/Stanford_NLP/temp/file_148.txt ... done [0.5 sec].\n",
      "Processing file /media/NAS/Tesis/NER/Stanford_NLP/temp/file_149.txt ... writing to /media/NAS/Tesis/NER/Stanford_NLP/file_149.txt.out\n",
      "Annotating file /media/NAS/Tesis/NER/Stanford_NLP/temp/file_149.txt ... done [0.1 sec].\n",
      "Processing file /media/NAS/Tesis/NER/Stanford_NLP/temp/file_150.txt ... writing to /media/NAS/Tesis/NER/Stanford_NLP/file_150.txt.out\n",
      "Annotating file /media/NAS/Tesis/NER/Stanford_NLP/temp/file_150.txt ... done [0.1 sec].\n",
      "Processing file /media/NAS/Tesis/NER/Stanford_NLP/temp/file_151.txt ... writing to /media/NAS/Tesis/NER/Stanford_NLP/file_151.txt.out\n",
      "Annotating file /media/NAS/Tesis/NER/Stanford_NLP/temp/file_151.txt ... done [0.4 sec].\n",
      "Processing file /media/NAS/Tesis/NER/Stanford_NLP/temp/file_152.txt ... writing to /media/NAS/Tesis/NER/Stanford_NLP/file_152.txt.out\n",
      "Annotating file /media/NAS/Tesis/NER/Stanford_NLP/temp/file_152.txt ... done [0.0 sec].\n",
      "Processing file /media/NAS/Tesis/NER/Stanford_NLP/temp/file_153.txt ... writing to /media/NAS/Tesis/NER/Stanford_NLP/file_153.txt.out\n",
      "Annotating file /media/NAS/Tesis/NER/Stanford_NLP/temp/file_153.txt ... done [0.1 sec].\n",
      "Processing file /media/NAS/Tesis/NER/Stanford_NLP/temp/file_154.txt ... writing to /media/NAS/Tesis/NER/Stanford_NLP/file_154.txt.out\n",
      "Annotating file /media/NAS/Tesis/NER/Stanford_NLP/temp/file_154.txt ... done [0.1 sec].\n",
      "Processing file /media/NAS/Tesis/NER/Stanford_NLP/temp/file_155.txt ... writing to /media/NAS/Tesis/NER/Stanford_NLP/file_155.txt.out\n",
      "Annotating file /media/NAS/Tesis/NER/Stanford_NLP/temp/file_155.txt ... done [0.1 sec].\n",
      "Processing file /media/NAS/Tesis/NER/Stanford_NLP/temp/file_156.txt ... writing to /media/NAS/Tesis/NER/Stanford_NLP/file_156.txt.out\n",
      "Annotating file /media/NAS/Tesis/NER/Stanford_NLP/temp/file_156.txt ... done [0.1 sec].\n",
      "Processing file /media/NAS/Tesis/NER/Stanford_NLP/temp/file_157.txt ... writing to /media/NAS/Tesis/NER/Stanford_NLP/file_157.txt.out\n",
      "Annotating file /media/NAS/Tesis/NER/Stanford_NLP/temp/file_157.txt ... done [0.2 sec].\n",
      "Processing file /media/NAS/Tesis/NER/Stanford_NLP/temp/file_158.txt ... writing to /media/NAS/Tesis/NER/Stanford_NLP/file_158.txt.out\n",
      "Annotating file /media/NAS/Tesis/NER/Stanford_NLP/temp/file_158.txt ... done [0.0 sec].\n",
      "Processing file /media/NAS/Tesis/NER/Stanford_NLP/temp/file_159.txt ... writing to /media/NAS/Tesis/NER/Stanford_NLP/file_159.txt.out\n",
      "Annotating file /media/NAS/Tesis/NER/Stanford_NLP/temp/file_159.txt ... done [0.1 sec].\n",
      "Processing file /media/NAS/Tesis/NER/Stanford_NLP/temp/file_160.txt ... writing to /media/NAS/Tesis/NER/Stanford_NLP/file_160.txt.out\n",
      "Annotating file /media/NAS/Tesis/NER/Stanford_NLP/temp/file_160.txt ... done [0.1 sec].\n",
      "Processing file /media/NAS/Tesis/NER/Stanford_NLP/temp/file_161.txt ... writing to /media/NAS/Tesis/NER/Stanford_NLP/file_161.txt.out\n",
      "Annotating file /media/NAS/Tesis/NER/Stanford_NLP/temp/file_161.txt ... done [0.0 sec].\n",
      "Processing file /media/NAS/Tesis/NER/Stanford_NLP/temp/file_162.txt ... writing to /media/NAS/Tesis/NER/Stanford_NLP/file_162.txt.out\n",
      "Annotating file /media/NAS/Tesis/NER/Stanford_NLP/temp/file_162.txt ... done [0.1 sec].\n",
      "Processing file /media/NAS/Tesis/NER/Stanford_NLP/temp/file_163.txt ... writing to /media/NAS/Tesis/NER/Stanford_NLP/file_163.txt.out\n",
      "Annotating file /media/NAS/Tesis/NER/Stanford_NLP/temp/file_163.txt ... done [0.0 sec].\n",
      "Processing file /media/NAS/Tesis/NER/Stanford_NLP/temp/file_164.txt ... writing to /media/NAS/Tesis/NER/Stanford_NLP/file_164.txt.out\n",
      "Annotating file /media/NAS/Tesis/NER/Stanford_NLP/temp/file_164.txt ... done [0.0 sec].\n",
      "Processing file /media/NAS/Tesis/NER/Stanford_NLP/temp/file_165.txt ... writing to /media/NAS/Tesis/NER/Stanford_NLP/file_165.txt.out\n",
      "Annotating file /media/NAS/Tesis/NER/Stanford_NLP/temp/file_165.txt ... done [0.1 sec].\n",
      "Processing file /media/NAS/Tesis/NER/Stanford_NLP/temp/file_166.txt ... writing to /media/NAS/Tesis/NER/Stanford_NLP/file_166.txt.out\n",
      "Annotating file /media/NAS/Tesis/NER/Stanford_NLP/temp/file_166.txt ... done [0.4 sec].\n",
      "Processing file /media/NAS/Tesis/NER/Stanford_NLP/temp/file_167.txt ... writing to /media/NAS/Tesis/NER/Stanford_NLP/file_167.txt.out\n",
      "Annotating file /media/NAS/Tesis/NER/Stanford_NLP/temp/file_167.txt ... done [0.1 sec].\n",
      "Processing file /media/NAS/Tesis/NER/Stanford_NLP/temp/file_168.txt ... writing to /media/NAS/Tesis/NER/Stanford_NLP/file_168.txt.out\n",
      "Annotating file /media/NAS/Tesis/NER/Stanford_NLP/temp/file_168.txt ... done [0.1 sec].\n",
      "Processing file /media/NAS/Tesis/NER/Stanford_NLP/temp/file_169.txt ... writing to /media/NAS/Tesis/NER/Stanford_NLP/file_169.txt.out\n",
      "Annotating file /media/NAS/Tesis/NER/Stanford_NLP/temp/file_169.txt ... done [0.1 sec].\n",
      "Processing file /media/NAS/Tesis/NER/Stanford_NLP/temp/file_170.txt ... writing to /media/NAS/Tesis/NER/Stanford_NLP/file_170.txt.out\n",
      "Annotating file /media/NAS/Tesis/NER/Stanford_NLP/temp/file_170.txt ... done [0.0 sec].\n",
      "Processing file /media/NAS/Tesis/NER/Stanford_NLP/temp/file_171.txt ... writing to /media/NAS/Tesis/NER/Stanford_NLP/file_171.txt.out\n",
      "Annotating file /media/NAS/Tesis/NER/Stanford_NLP/temp/file_171.txt ... done [0.1 sec].\n",
      "Processing file /media/NAS/Tesis/NER/Stanford_NLP/temp/file_172.txt ... writing to /media/NAS/Tesis/NER/Stanford_NLP/file_172.txt.out\n",
      "Annotating file /media/NAS/Tesis/NER/Stanford_NLP/temp/file_172.txt ... done [0.1 sec].\n",
      "Processing file /media/NAS/Tesis/NER/Stanford_NLP/temp/file_173.txt ... writing to /media/NAS/Tesis/NER/Stanford_NLP/file_173.txt.out\n",
      "Annotating file /media/NAS/Tesis/NER/Stanford_NLP/temp/file_173.txt ... done [0.1 sec].\n",
      "Processing file /media/NAS/Tesis/NER/Stanford_NLP/temp/file_174.txt ... writing to /media/NAS/Tesis/NER/Stanford_NLP/file_174.txt.out\n",
      "Annotating file /media/NAS/Tesis/NER/Stanford_NLP/temp/file_174.txt ... done [0.1 sec].\n",
      "Processing file /media/NAS/Tesis/NER/Stanford_NLP/temp/file_175.txt ... writing to /media/NAS/Tesis/NER/Stanford_NLP/file_175.txt.out\n",
      "Annotating file /media/NAS/Tesis/NER/Stanford_NLP/temp/file_175.txt ... done [0.1 sec].\n",
      "Processing file /media/NAS/Tesis/NER/Stanford_NLP/temp/file_176.txt ... writing to /media/NAS/Tesis/NER/Stanford_NLP/file_176.txt.out\n",
      "Annotating file /media/NAS/Tesis/NER/Stanford_NLP/temp/file_176.txt ... done [0.0 sec].\n",
      "Processing file /media/NAS/Tesis/NER/Stanford_NLP/temp/file_177.txt ... writing to /media/NAS/Tesis/NER/Stanford_NLP/file_177.txt.out\n",
      "Annotating file /media/NAS/Tesis/NER/Stanford_NLP/temp/file_177.txt ... done [0.1 sec].\n",
      "Processing file /media/NAS/Tesis/NER/Stanford_NLP/temp/file_178.txt ... writing to /media/NAS/Tesis/NER/Stanford_NLP/file_178.txt.out\n",
      "Annotating file /media/NAS/Tesis/NER/Stanford_NLP/temp/file_178.txt ... done [0.3 sec].\n",
      "Processing file /media/NAS/Tesis/NER/Stanford_NLP/temp/file_179.txt ... writing to /media/NAS/Tesis/NER/Stanford_NLP/file_179.txt.out\n",
      "Annotating file /media/NAS/Tesis/NER/Stanford_NLP/temp/file_179.txt ... done [0.1 sec].\n",
      "Processing file /media/NAS/Tesis/NER/Stanford_NLP/temp/file_180.txt ... writing to /media/NAS/Tesis/NER/Stanford_NLP/file_180.txt.out\n",
      "Annotating file /media/NAS/Tesis/NER/Stanford_NLP/temp/file_180.txt ... done [0.2 sec].\n",
      "Processing file /media/NAS/Tesis/NER/Stanford_NLP/temp/file_181.txt ... writing to /media/NAS/Tesis/NER/Stanford_NLP/file_181.txt.out\n",
      "Annotating file /media/NAS/Tesis/NER/Stanford_NLP/temp/file_181.txt ... done [0.1 sec].\n",
      "Processing file /media/NAS/Tesis/NER/Stanford_NLP/temp/file_182.txt ... writing to /media/NAS/Tesis/NER/Stanford_NLP/file_182.txt.out\n",
      "Annotating file /media/NAS/Tesis/NER/Stanford_NLP/temp/file_182.txt ... done [0.2 sec].\n",
      "Processing file /media/NAS/Tesis/NER/Stanford_NLP/temp/file_183.txt ... writing to /media/NAS/Tesis/NER/Stanford_NLP/file_183.txt.out\n",
      "Annotating file /media/NAS/Tesis/NER/Stanford_NLP/temp/file_183.txt ... done [0.0 sec].\n",
      "Processing file /media/NAS/Tesis/NER/Stanford_NLP/temp/file_184.txt ... writing to /media/NAS/Tesis/NER/Stanford_NLP/file_184.txt.out\n",
      "Annotating file /media/NAS/Tesis/NER/Stanford_NLP/temp/file_184.txt ... done [0.1 sec].\n",
      "Processing file /media/NAS/Tesis/NER/Stanford_NLP/temp/file_185.txt ... writing to /media/NAS/Tesis/NER/Stanford_NLP/file_185.txt.out\n",
      "Annotating file /media/NAS/Tesis/NER/Stanford_NLP/temp/file_185.txt ... done [0.1 sec].\n",
      "Processing file /media/NAS/Tesis/NER/Stanford_NLP/temp/file_186.txt ... writing to /media/NAS/Tesis/NER/Stanford_NLP/file_186.txt.out\n",
      "Annotating file /media/NAS/Tesis/NER/Stanford_NLP/temp/file_186.txt ... done [0.2 sec].\n",
      "Processing file /media/NAS/Tesis/NER/Stanford_NLP/temp/file_187.txt ... writing to /media/NAS/Tesis/NER/Stanford_NLP/file_187.txt.out\n",
      "Annotating file /media/NAS/Tesis/NER/Stanford_NLP/temp/file_187.txt ... done [0.1 sec].\n",
      "Processing file /media/NAS/Tesis/NER/Stanford_NLP/temp/file_188.txt ... writing to /media/NAS/Tesis/NER/Stanford_NLP/file_188.txt.out\n",
      "Annotating file /media/NAS/Tesis/NER/Stanford_NLP/temp/file_188.txt ... done [0.2 sec].\n",
      "Processing file /media/NAS/Tesis/NER/Stanford_NLP/temp/file_189.txt ... writing to /media/NAS/Tesis/NER/Stanford_NLP/file_189.txt.out\n",
      "Annotating file /media/NAS/Tesis/NER/Stanford_NLP/temp/file_189.txt ... done [0.1 sec].\n",
      "Processing file /media/NAS/Tesis/NER/Stanford_NLP/temp/file_190.txt ... writing to /media/NAS/Tesis/NER/Stanford_NLP/file_190.txt.out\n",
      "Annotating file /media/NAS/Tesis/NER/Stanford_NLP/temp/file_190.txt ... done [0.1 sec].\n",
      "Processing file /media/NAS/Tesis/NER/Stanford_NLP/temp/file_191.txt ... writing to /media/NAS/Tesis/NER/Stanford_NLP/file_191.txt.out\n",
      "Annotating file /media/NAS/Tesis/NER/Stanford_NLP/temp/file_191.txt ... done [0.0 sec].\n",
      "Processing file /media/NAS/Tesis/NER/Stanford_NLP/temp/file_192.txt ... writing to /media/NAS/Tesis/NER/Stanford_NLP/file_192.txt.out\n",
      "Annotating file /media/NAS/Tesis/NER/Stanford_NLP/temp/file_192.txt ... done [0.1 sec].\n",
      "Processing file /media/NAS/Tesis/NER/Stanford_NLP/temp/file_193.txt ... writing to /media/NAS/Tesis/NER/Stanford_NLP/file_193.txt.out\n",
      "Annotating file /media/NAS/Tesis/NER/Stanford_NLP/temp/file_193.txt ... done [0.1 sec].\n",
      "Processing file /media/NAS/Tesis/NER/Stanford_NLP/temp/file_194.txt ... writing to /media/NAS/Tesis/NER/Stanford_NLP/file_194.txt.out\n",
      "Annotating file /media/NAS/Tesis/NER/Stanford_NLP/temp/file_194.txt ... done [0.1 sec].\n",
      "Processing file /media/NAS/Tesis/NER/Stanford_NLP/temp/file_195.txt ... writing to /media/NAS/Tesis/NER/Stanford_NLP/file_195.txt.out\n",
      "Annotating file /media/NAS/Tesis/NER/Stanford_NLP/temp/file_195.txt ... done [0.2 sec].\n",
      "Processing file /media/NAS/Tesis/NER/Stanford_NLP/temp/file_196.txt ... writing to /media/NAS/Tesis/NER/Stanford_NLP/file_196.txt.out\n",
      "Annotating file /media/NAS/Tesis/NER/Stanford_NLP/temp/file_196.txt ... done [0.1 sec].\n",
      "Processing file /media/NAS/Tesis/NER/Stanford_NLP/temp/file_197.txt ... writing to /media/NAS/Tesis/NER/Stanford_NLP/file_197.txt.out\n",
      "Annotating file /media/NAS/Tesis/NER/Stanford_NLP/temp/file_197.txt ... done [0.0 sec].\n",
      "Processing file /media/NAS/Tesis/NER/Stanford_NLP/temp/file_198.txt ... writing to /media/NAS/Tesis/NER/Stanford_NLP/file_198.txt.out\n",
      "Annotating file /media/NAS/Tesis/NER/Stanford_NLP/temp/file_198.txt ... done [0.1 sec].\n",
      "Processing file /media/NAS/Tesis/NER/Stanford_NLP/temp/file_199.txt ... writing to /media/NAS/Tesis/NER/Stanford_NLP/file_199.txt.out\n",
      "Annotating file /media/NAS/Tesis/NER/Stanford_NLP/temp/file_199.txt ... done [0.1 sec].\n",
      "Processing file /media/NAS/Tesis/NER/Stanford_NLP/temp/file_200.txt ... writing to /media/NAS/Tesis/NER/Stanford_NLP/file_200.txt.out\n",
      "Annotating file /media/NAS/Tesis/NER/Stanford_NLP/temp/file_200.txt ... done [0.1 sec].\n",
      "Processing file /media/NAS/Tesis/NER/Stanford_NLP/temp/file_201.txt ... writing to /media/NAS/Tesis/NER/Stanford_NLP/file_201.txt.out\n",
      "Annotating file /media/NAS/Tesis/NER/Stanford_NLP/temp/file_201.txt ... done [0.1 sec].\n",
      "Processing file /media/NAS/Tesis/NER/Stanford_NLP/temp/file_202.txt ... writing to /media/NAS/Tesis/NER/Stanford_NLP/file_202.txt.out\n",
      "Annotating file /media/NAS/Tesis/NER/Stanford_NLP/temp/file_202.txt ... done [0.1 sec].\n",
      "Processing file /media/NAS/Tesis/NER/Stanford_NLP/temp/file_203.txt ... writing to /media/NAS/Tesis/NER/Stanford_NLP/file_203.txt.out\n",
      "Annotating file /media/NAS/Tesis/NER/Stanford_NLP/temp/file_203.txt ... done [0.1 sec].\n",
      "Processing file /media/NAS/Tesis/NER/Stanford_NLP/temp/file_204.txt ... writing to /media/NAS/Tesis/NER/Stanford_NLP/file_204.txt.out\n",
      "Annotating file /media/NAS/Tesis/NER/Stanford_NLP/temp/file_204.txt ... done [0.1 sec].\n",
      "Processing file /media/NAS/Tesis/NER/Stanford_NLP/temp/file_205.txt ... writing to /media/NAS/Tesis/NER/Stanford_NLP/file_205.txt.out\n",
      "Annotating file /media/NAS/Tesis/NER/Stanford_NLP/temp/file_205.txt ... done [0.0 sec].\n",
      "Processing file /media/NAS/Tesis/NER/Stanford_NLP/temp/file_206.txt ... writing to /media/NAS/Tesis/NER/Stanford_NLP/file_206.txt.out\n",
      "Annotating file /media/NAS/Tesis/NER/Stanford_NLP/temp/file_206.txt ... done [0.1 sec].\n",
      "Processing file /media/NAS/Tesis/NER/Stanford_NLP/temp/file_207.txt ... writing to /media/NAS/Tesis/NER/Stanford_NLP/file_207.txt.out\n",
      "Annotating file /media/NAS/Tesis/NER/Stanford_NLP/temp/file_207.txt ... done [0.1 sec].\n",
      "Processing file /media/NAS/Tesis/NER/Stanford_NLP/temp/file_208.txt ... writing to /media/NAS/Tesis/NER/Stanford_NLP/file_208.txt.out\n",
      "Annotating file /media/NAS/Tesis/NER/Stanford_NLP/temp/file_208.txt ... done [0.1 sec].\n",
      "Processing file /media/NAS/Tesis/NER/Stanford_NLP/temp/file_209.txt ... writing to /media/NAS/Tesis/NER/Stanford_NLP/file_209.txt.out\n",
      "Annotating file /media/NAS/Tesis/NER/Stanford_NLP/temp/file_209.txt ... done [0.1 sec].\n",
      "Processing file /media/NAS/Tesis/NER/Stanford_NLP/temp/file_210.txt ... writing to /media/NAS/Tesis/NER/Stanford_NLP/file_210.txt.out\n",
      "Annotating file /media/NAS/Tesis/NER/Stanford_NLP/temp/file_210.txt ... done [0.1 sec].\n",
      "Processing file /media/NAS/Tesis/NER/Stanford_NLP/temp/file_211.txt ... writing to /media/NAS/Tesis/NER/Stanford_NLP/file_211.txt.out\n",
      "Annotating file /media/NAS/Tesis/NER/Stanford_NLP/temp/file_211.txt ... done [0.1 sec].\n",
      "Processing file /media/NAS/Tesis/NER/Stanford_NLP/temp/file_212.txt ... writing to /media/NAS/Tesis/NER/Stanford_NLP/file_212.txt.out\n",
      "Annotating file /media/NAS/Tesis/NER/Stanford_NLP/temp/file_212.txt ... done [0.1 sec].\n",
      "Processing file /media/NAS/Tesis/NER/Stanford_NLP/temp/file_213.txt ... writing to /media/NAS/Tesis/NER/Stanford_NLP/file_213.txt.out\n",
      "Annotating file /media/NAS/Tesis/NER/Stanford_NLP/temp/file_213.txt ... done [0.1 sec].\n",
      "Processing file /media/NAS/Tesis/NER/Stanford_NLP/temp/file_214.txt ... writing to /media/NAS/Tesis/NER/Stanford_NLP/file_214.txt.out\n",
      "Annotating file /media/NAS/Tesis/NER/Stanford_NLP/temp/file_214.txt ... done [0.0 sec].\n",
      "Processing file /media/NAS/Tesis/NER/Stanford_NLP/temp/file_215.txt ... writing to /media/NAS/Tesis/NER/Stanford_NLP/file_215.txt.out\n",
      "Annotating file /media/NAS/Tesis/NER/Stanford_NLP/temp/file_215.txt ... done [0.0 sec].\n",
      "Processing file /media/NAS/Tesis/NER/Stanford_NLP/temp/file_216.txt ... writing to /media/NAS/Tesis/NER/Stanford_NLP/file_216.txt.out\n",
      "Annotating file /media/NAS/Tesis/NER/Stanford_NLP/temp/file_216.txt ... done [0.0 sec].\n",
      "Processing file /media/NAS/Tesis/NER/Stanford_NLP/temp/file_217.txt ... writing to /media/NAS/Tesis/NER/Stanford_NLP/file_217.txt.out\n",
      "Annotating file /media/NAS/Tesis/NER/Stanford_NLP/temp/file_217.txt ... done [0.0 sec].\n",
      "Processing file /media/NAS/Tesis/NER/Stanford_NLP/temp/file_218.txt ... writing to /media/NAS/Tesis/NER/Stanford_NLP/file_218.txt.out\n",
      "Annotating file /media/NAS/Tesis/NER/Stanford_NLP/temp/file_218.txt ... done [0.0 sec].\n",
      "Processing file /media/NAS/Tesis/NER/Stanford_NLP/temp/file_219.txt ... writing to /media/NAS/Tesis/NER/Stanford_NLP/file_219.txt.out\n",
      "Annotating file /media/NAS/Tesis/NER/Stanford_NLP/temp/file_219.txt ... done [0.0 sec].\n",
      "Processing file /media/NAS/Tesis/NER/Stanford_NLP/temp/file_220.txt ... writing to /media/NAS/Tesis/NER/Stanford_NLP/file_220.txt.out\n",
      "Annotating file /media/NAS/Tesis/NER/Stanford_NLP/temp/file_220.txt ... done [0.0 sec].\n",
      "Processing file /media/NAS/Tesis/NER/Stanford_NLP/temp/file_221.txt ... writing to /media/NAS/Tesis/NER/Stanford_NLP/file_221.txt.out\n",
      "Annotating file /media/NAS/Tesis/NER/Stanford_NLP/temp/file_221.txt ... done [0.1 sec].\n",
      "Processing file /media/NAS/Tesis/NER/Stanford_NLP/temp/file_222.txt ... writing to /media/NAS/Tesis/NER/Stanford_NLP/file_222.txt.out\n",
      "Annotating file /media/NAS/Tesis/NER/Stanford_NLP/temp/file_222.txt ... done [0.0 sec].\n",
      "Processing file /media/NAS/Tesis/NER/Stanford_NLP/temp/file_223.txt ... writing to /media/NAS/Tesis/NER/Stanford_NLP/file_223.txt.out\n",
      "Annotating file /media/NAS/Tesis/NER/Stanford_NLP/temp/file_223.txt ... done [0.1 sec].\n",
      "Processing file /media/NAS/Tesis/NER/Stanford_NLP/temp/file_224.txt ... writing to /media/NAS/Tesis/NER/Stanford_NLP/file_224.txt.out\n",
      "Annotating file /media/NAS/Tesis/NER/Stanford_NLP/temp/file_224.txt ... done [0.1 sec].\n",
      "Processing file /media/NAS/Tesis/NER/Stanford_NLP/temp/file_225.txt ... writing to /media/NAS/Tesis/NER/Stanford_NLP/file_225.txt.out\n",
      "Annotating file /media/NAS/Tesis/NER/Stanford_NLP/temp/file_225.txt ... done [0.3 sec].\n",
      "Processing file /media/NAS/Tesis/NER/Stanford_NLP/temp/file_226.txt ... writing to /media/NAS/Tesis/NER/Stanford_NLP/file_226.txt.out\n",
      "Annotating file /media/NAS/Tesis/NER/Stanford_NLP/temp/file_226.txt ... done [0.5 sec].\n",
      "Processing file /media/NAS/Tesis/NER/Stanford_NLP/temp/file_227.txt ... writing to /media/NAS/Tesis/NER/Stanford_NLP/file_227.txt.out\n",
      "Annotating file /media/NAS/Tesis/NER/Stanford_NLP/temp/file_227.txt ... done [0.1 sec].\n",
      "Processing file /media/NAS/Tesis/NER/Stanford_NLP/temp/file_228.txt ... writing to /media/NAS/Tesis/NER/Stanford_NLP/file_228.txt.out\n",
      "Annotating file /media/NAS/Tesis/NER/Stanford_NLP/temp/file_228.txt ... done [0.0 sec].\n",
      "Processing file /media/NAS/Tesis/NER/Stanford_NLP/temp/file_229.txt ... writing to /media/NAS/Tesis/NER/Stanford_NLP/file_229.txt.out\n",
      "Annotating file /media/NAS/Tesis/NER/Stanford_NLP/temp/file_229.txt ... done [0.1 sec].\n",
      "Processing file /media/NAS/Tesis/NER/Stanford_NLP/temp/file_230.txt ... writing to /media/NAS/Tesis/NER/Stanford_NLP/file_230.txt.out\n",
      "Annotating file /media/NAS/Tesis/NER/Stanford_NLP/temp/file_230.txt ... done [0.0 sec].\n",
      "Processing file /media/NAS/Tesis/NER/Stanford_NLP/temp/file_231.txt ... writing to /media/NAS/Tesis/NER/Stanford_NLP/file_231.txt.out\n",
      "Annotating file /media/NAS/Tesis/NER/Stanford_NLP/temp/file_231.txt ... done [0.0 sec].\n",
      "Processing file /media/NAS/Tesis/NER/Stanford_NLP/temp/file_232.txt ... writing to /media/NAS/Tesis/NER/Stanford_NLP/file_232.txt.out\n",
      "Annotating file /media/NAS/Tesis/NER/Stanford_NLP/temp/file_232.txt ... done [0.1 sec].\n",
      "Processing file /media/NAS/Tesis/NER/Stanford_NLP/temp/file_233.txt ... writing to /media/NAS/Tesis/NER/Stanford_NLP/file_233.txt.out\n",
      "Annotating file /media/NAS/Tesis/NER/Stanford_NLP/temp/file_233.txt ... done [0.0 sec].\n",
      "Processing file /media/NAS/Tesis/NER/Stanford_NLP/temp/file_234.txt ... writing to /media/NAS/Tesis/NER/Stanford_NLP/file_234.txt.out\n",
      "Annotating file /media/NAS/Tesis/NER/Stanford_NLP/temp/file_234.txt ... done [0.1 sec].\n",
      "Processing file /media/NAS/Tesis/NER/Stanford_NLP/temp/file_235.txt ... writing to /media/NAS/Tesis/NER/Stanford_NLP/file_235.txt.out\n",
      "Annotating file /media/NAS/Tesis/NER/Stanford_NLP/temp/file_235.txt ... done [0.1 sec].\n",
      "Processing file /media/NAS/Tesis/NER/Stanford_NLP/temp/file_236.txt ... writing to /media/NAS/Tesis/NER/Stanford_NLP/file_236.txt.out\n",
      "Annotating file /media/NAS/Tesis/NER/Stanford_NLP/temp/file_236.txt ... done [0.1 sec].\n",
      "Processing file /media/NAS/Tesis/NER/Stanford_NLP/temp/file_237.txt ... writing to /media/NAS/Tesis/NER/Stanford_NLP/file_237.txt.out\n",
      "Annotating file /media/NAS/Tesis/NER/Stanford_NLP/temp/file_237.txt ... done [0.1 sec].\n",
      "Processing file /media/NAS/Tesis/NER/Stanford_NLP/temp/file_238.txt ... writing to /media/NAS/Tesis/NER/Stanford_NLP/file_238.txt.out\n",
      "Annotating file /media/NAS/Tesis/NER/Stanford_NLP/temp/file_238.txt ... done [0.1 sec].\n",
      "Processing file /media/NAS/Tesis/NER/Stanford_NLP/temp/file_239.txt ... writing to /media/NAS/Tesis/NER/Stanford_NLP/file_239.txt.out\n",
      "Annotating file /media/NAS/Tesis/NER/Stanford_NLP/temp/file_239.txt ... done [0.2 sec].\n",
      "Processing file /media/NAS/Tesis/NER/Stanford_NLP/temp/file_240.txt ... writing to /media/NAS/Tesis/NER/Stanford_NLP/file_240.txt.out\n",
      "Annotating file /media/NAS/Tesis/NER/Stanford_NLP/temp/file_240.txt ... done [0.1 sec].\n",
      "Processing file /media/NAS/Tesis/NER/Stanford_NLP/temp/file_241.txt ... writing to /media/NAS/Tesis/NER/Stanford_NLP/file_241.txt.out\n",
      "Annotating file /media/NAS/Tesis/NER/Stanford_NLP/temp/file_241.txt ... done [0.1 sec].\n",
      "Processing file /media/NAS/Tesis/NER/Stanford_NLP/temp/file_242.txt ... writing to /media/NAS/Tesis/NER/Stanford_NLP/file_242.txt.out\n",
      "Annotating file /media/NAS/Tesis/NER/Stanford_NLP/temp/file_242.txt ... done [0.1 sec].\n",
      "Processing file /media/NAS/Tesis/NER/Stanford_NLP/temp/file_243.txt ... writing to /media/NAS/Tesis/NER/Stanford_NLP/file_243.txt.out\n",
      "Annotating file /media/NAS/Tesis/NER/Stanford_NLP/temp/file_243.txt ... done [0.1 sec].\n",
      "Processing file /media/NAS/Tesis/NER/Stanford_NLP/temp/file_244.txt ... writing to /media/NAS/Tesis/NER/Stanford_NLP/file_244.txt.out\n",
      "Annotating file /media/NAS/Tesis/NER/Stanford_NLP/temp/file_244.txt ... done [0.0 sec].\n",
      "Processing file /media/NAS/Tesis/NER/Stanford_NLP/temp/file_245.txt ... writing to /media/NAS/Tesis/NER/Stanford_NLP/file_245.txt.out\n",
      "Annotating file /media/NAS/Tesis/NER/Stanford_NLP/temp/file_245.txt ... done [0.1 sec].\n",
      "Processing file /media/NAS/Tesis/NER/Stanford_NLP/temp/file_246.txt ... writing to /media/NAS/Tesis/NER/Stanford_NLP/file_246.txt.out\n",
      "Annotating file /media/NAS/Tesis/NER/Stanford_NLP/temp/file_246.txt ... done [0.1 sec].\n",
      "Processing file /media/NAS/Tesis/NER/Stanford_NLP/temp/file_247.txt ... writing to /media/NAS/Tesis/NER/Stanford_NLP/file_247.txt.out\n",
      "Annotating file /media/NAS/Tesis/NER/Stanford_NLP/temp/file_247.txt ... done [0.0 sec].\n",
      "Processing file /media/NAS/Tesis/NER/Stanford_NLP/temp/file_248.txt ... writing to /media/NAS/Tesis/NER/Stanford_NLP/file_248.txt.out\n",
      "Annotating file /media/NAS/Tesis/NER/Stanford_NLP/temp/file_248.txt ... done [0.1 sec].\n",
      "Processing file /media/NAS/Tesis/NER/Stanford_NLP/temp/file_249.txt ... writing to /media/NAS/Tesis/NER/Stanford_NLP/file_249.txt.out\n",
      "Annotating file /media/NAS/Tesis/NER/Stanford_NLP/temp/file_249.txt ... done [0.1 sec].\n",
      "Processing file /media/NAS/Tesis/NER/Stanford_NLP/temp/file_250.txt ... writing to /media/NAS/Tesis/NER/Stanford_NLP/file_250.txt.out\n",
      "Annotating file /media/NAS/Tesis/NER/Stanford_NLP/temp/file_250.txt ... done [0.1 sec].\n",
      "Processing file /media/NAS/Tesis/NER/Stanford_NLP/temp/file_251.txt ... writing to /media/NAS/Tesis/NER/Stanford_NLP/file_251.txt.out\n",
      "Annotating file /media/NAS/Tesis/NER/Stanford_NLP/temp/file_251.txt ... done [0.0 sec].\n",
      "Processing file /media/NAS/Tesis/NER/Stanford_NLP/temp/file_252.txt ... writing to /media/NAS/Tesis/NER/Stanford_NLP/file_252.txt.out\n",
      "Annotating file /media/NAS/Tesis/NER/Stanford_NLP/temp/file_252.txt ... done [0.1 sec].\n",
      "Processing file /media/NAS/Tesis/NER/Stanford_NLP/temp/file_253.txt ... writing to /media/NAS/Tesis/NER/Stanford_NLP/file_253.txt.out\n",
      "Annotating file /media/NAS/Tesis/NER/Stanford_NLP/temp/file_253.txt ... done [0.0 sec].\n",
      "Processing file /media/NAS/Tesis/NER/Stanford_NLP/temp/file_254.txt ... writing to /media/NAS/Tesis/NER/Stanford_NLP/file_254.txt.out\n",
      "Annotating file /media/NAS/Tesis/NER/Stanford_NLP/temp/file_254.txt ... done [0.0 sec].\n",
      "Processing file /media/NAS/Tesis/NER/Stanford_NLP/temp/file_255.txt ... writing to /media/NAS/Tesis/NER/Stanford_NLP/file_255.txt.out\n",
      "Annotating file /media/NAS/Tesis/NER/Stanford_NLP/temp/file_255.txt ... done [0.1 sec].\n",
      "Processing file /media/NAS/Tesis/NER/Stanford_NLP/temp/file_256.txt ... writing to /media/NAS/Tesis/NER/Stanford_NLP/file_256.txt.out\n",
      "Annotating file /media/NAS/Tesis/NER/Stanford_NLP/temp/file_256.txt ... done [0.2 sec].\n",
      "Processing file /media/NAS/Tesis/NER/Stanford_NLP/temp/file_257.txt ... writing to /media/NAS/Tesis/NER/Stanford_NLP/file_257.txt.out\n",
      "Annotating file /media/NAS/Tesis/NER/Stanford_NLP/temp/file_257.txt ... done [0.1 sec].\n",
      "Processing file /media/NAS/Tesis/NER/Stanford_NLP/temp/file_258.txt ... writing to /media/NAS/Tesis/NER/Stanford_NLP/file_258.txt.out\n",
      "Annotating file /media/NAS/Tesis/NER/Stanford_NLP/temp/file_258.txt ... done [0.0 sec].\n",
      "Processing file /media/NAS/Tesis/NER/Stanford_NLP/temp/file_259.txt ... writing to /media/NAS/Tesis/NER/Stanford_NLP/file_259.txt.out\n",
      "Annotating file /media/NAS/Tesis/NER/Stanford_NLP/temp/file_259.txt ... done [0.1 sec].\n",
      "Processing file /media/NAS/Tesis/NER/Stanford_NLP/temp/file_260.txt ... writing to /media/NAS/Tesis/NER/Stanford_NLP/file_260.txt.out\n",
      "Annotating file /media/NAS/Tesis/NER/Stanford_NLP/temp/file_260.txt ... done [0.2 sec].\n",
      "Processing file /media/NAS/Tesis/NER/Stanford_NLP/temp/file_261.txt ... writing to /media/NAS/Tesis/NER/Stanford_NLP/file_261.txt.out\n",
      "Annotating file /media/NAS/Tesis/NER/Stanford_NLP/temp/file_261.txt ... done [0.1 sec].\n",
      "Processing file /media/NAS/Tesis/NER/Stanford_NLP/temp/file_262.txt ... writing to /media/NAS/Tesis/NER/Stanford_NLP/file_262.txt.out\n",
      "Annotating file /media/NAS/Tesis/NER/Stanford_NLP/temp/file_262.txt ... done [0.1 sec].\n",
      "Processing file /media/NAS/Tesis/NER/Stanford_NLP/temp/file_263.txt ... writing to /media/NAS/Tesis/NER/Stanford_NLP/file_263.txt.out\n",
      "Annotating file /media/NAS/Tesis/NER/Stanford_NLP/temp/file_263.txt ... done [0.2 sec].\n",
      "Processing file /media/NAS/Tesis/NER/Stanford_NLP/temp/file_264.txt ... writing to /media/NAS/Tesis/NER/Stanford_NLP/file_264.txt.out\n",
      "Annotating file /media/NAS/Tesis/NER/Stanford_NLP/temp/file_264.txt ... done [0.1 sec].\n",
      "Processing file /media/NAS/Tesis/NER/Stanford_NLP/temp/file_265.txt ... writing to /media/NAS/Tesis/NER/Stanford_NLP/file_265.txt.out\n",
      "Annotating file /media/NAS/Tesis/NER/Stanford_NLP/temp/file_265.txt ... done [0.2 sec].\n",
      "Processing file /media/NAS/Tesis/NER/Stanford_NLP/temp/file_266.txt ... writing to /media/NAS/Tesis/NER/Stanford_NLP/file_266.txt.out\n",
      "Annotating file /media/NAS/Tesis/NER/Stanford_NLP/temp/file_266.txt ... done [0.1 sec].\n",
      "Processing file /media/NAS/Tesis/NER/Stanford_NLP/temp/file_267.txt ... writing to /media/NAS/Tesis/NER/Stanford_NLP/file_267.txt.out\n",
      "Annotating file /media/NAS/Tesis/NER/Stanford_NLP/temp/file_267.txt ... done [0.1 sec].\n",
      "Processing file /media/NAS/Tesis/NER/Stanford_NLP/temp/file_268.txt ... writing to /media/NAS/Tesis/NER/Stanford_NLP/file_268.txt.out\n",
      "Annotating file /media/NAS/Tesis/NER/Stanford_NLP/temp/file_268.txt ... done [0.1 sec].\n",
      "Processing file /media/NAS/Tesis/NER/Stanford_NLP/temp/file_269.txt ... writing to /media/NAS/Tesis/NER/Stanford_NLP/file_269.txt.out\n",
      "Annotating file /media/NAS/Tesis/NER/Stanford_NLP/temp/file_269.txt ... done [0.3 sec].\n",
      "Processing file /media/NAS/Tesis/NER/Stanford_NLP/temp/file_270.txt ... writing to /media/NAS/Tesis/NER/Stanford_NLP/file_270.txt.out\n",
      "Annotating file /media/NAS/Tesis/NER/Stanford_NLP/temp/file_270.txt ... done [0.1 sec].\n",
      "Processing file /media/NAS/Tesis/NER/Stanford_NLP/temp/file_271.txt ... writing to /media/NAS/Tesis/NER/Stanford_NLP/file_271.txt.out\n",
      "Annotating file /media/NAS/Tesis/NER/Stanford_NLP/temp/file_271.txt ... done [0.1 sec].\n",
      "Processing file /media/NAS/Tesis/NER/Stanford_NLP/temp/file_272.txt ... writing to /media/NAS/Tesis/NER/Stanford_NLP/file_272.txt.out\n",
      "Annotating file /media/NAS/Tesis/NER/Stanford_NLP/temp/file_272.txt ... done [0.0 sec].\n",
      "Processing file /media/NAS/Tesis/NER/Stanford_NLP/temp/file_273.txt ... writing to /media/NAS/Tesis/NER/Stanford_NLP/file_273.txt.out\n",
      "Annotating file /media/NAS/Tesis/NER/Stanford_NLP/temp/file_273.txt ... done [0.2 sec].\n",
      "Processing file /media/NAS/Tesis/NER/Stanford_NLP/temp/file_274.txt ... writing to /media/NAS/Tesis/NER/Stanford_NLP/file_274.txt.out\n",
      "Annotating file /media/NAS/Tesis/NER/Stanford_NLP/temp/file_274.txt ... done [0.2 sec].\n",
      "Processing file /media/NAS/Tesis/NER/Stanford_NLP/temp/file_275.txt ... writing to /media/NAS/Tesis/NER/Stanford_NLP/file_275.txt.out\n",
      "Annotating file /media/NAS/Tesis/NER/Stanford_NLP/temp/file_275.txt ... done [0.1 sec].\n",
      "Processing file /media/NAS/Tesis/NER/Stanford_NLP/temp/file_276.txt ... writing to /media/NAS/Tesis/NER/Stanford_NLP/file_276.txt.out\n",
      "Annotating file /media/NAS/Tesis/NER/Stanford_NLP/temp/file_276.txt ... done [0.1 sec].\n",
      "Processing file /media/NAS/Tesis/NER/Stanford_NLP/temp/file_277.txt ... writing to /media/NAS/Tesis/NER/Stanford_NLP/file_277.txt.out\n",
      "Annotating file /media/NAS/Tesis/NER/Stanford_NLP/temp/file_277.txt ... done [0.1 sec].\n",
      "Processing file /media/NAS/Tesis/NER/Stanford_NLP/temp/file_278.txt ... writing to /media/NAS/Tesis/NER/Stanford_NLP/file_278.txt.out\n",
      "Annotating file /media/NAS/Tesis/NER/Stanford_NLP/temp/file_278.txt ... done [0.1 sec].\n",
      "Processing file /media/NAS/Tesis/NER/Stanford_NLP/temp/file_279.txt ... writing to /media/NAS/Tesis/NER/Stanford_NLP/file_279.txt.out\n",
      "Annotating file /media/NAS/Tesis/NER/Stanford_NLP/temp/file_279.txt ... done [0.0 sec].\n",
      "Processing file /media/NAS/Tesis/NER/Stanford_NLP/temp/file_280.txt ... writing to /media/NAS/Tesis/NER/Stanford_NLP/file_280.txt.out\n",
      "Annotating file /media/NAS/Tesis/NER/Stanford_NLP/temp/file_280.txt ... done [0.1 sec].\n",
      "Processing file /media/NAS/Tesis/NER/Stanford_NLP/temp/file_281.txt ... writing to /media/NAS/Tesis/NER/Stanford_NLP/file_281.txt.out\n",
      "Annotating file /media/NAS/Tesis/NER/Stanford_NLP/temp/file_281.txt ... done [0.1 sec].\n",
      "Processing file /media/NAS/Tesis/NER/Stanford_NLP/temp/file_282.txt ... writing to /media/NAS/Tesis/NER/Stanford_NLP/file_282.txt.out\n",
      "Annotating file /media/NAS/Tesis/NER/Stanford_NLP/temp/file_282.txt ... done [0.1 sec].\n",
      "Processing file /media/NAS/Tesis/NER/Stanford_NLP/temp/file_283.txt ... writing to /media/NAS/Tesis/NER/Stanford_NLP/file_283.txt.out\n",
      "Annotating file /media/NAS/Tesis/NER/Stanford_NLP/temp/file_283.txt ... done [0.1 sec].\n",
      "Processing file /media/NAS/Tesis/NER/Stanford_NLP/temp/file_284.txt ... writing to /media/NAS/Tesis/NER/Stanford_NLP/file_284.txt.out\n",
      "Annotating file /media/NAS/Tesis/NER/Stanford_NLP/temp/file_284.txt ... done [0.1 sec].\n",
      "Processing file /media/NAS/Tesis/NER/Stanford_NLP/temp/file_285.txt ... writing to /media/NAS/Tesis/NER/Stanford_NLP/file_285.txt.out\n",
      "Annotating file /media/NAS/Tesis/NER/Stanford_NLP/temp/file_285.txt ... done [0.1 sec].\n",
      "Processing file /media/NAS/Tesis/NER/Stanford_NLP/temp/file_286.txt ... writing to /media/NAS/Tesis/NER/Stanford_NLP/file_286.txt.out\n",
      "Annotating file /media/NAS/Tesis/NER/Stanford_NLP/temp/file_286.txt ... done [0.1 sec].\n",
      "Processing file /media/NAS/Tesis/NER/Stanford_NLP/temp/file_287.txt ... writing to /media/NAS/Tesis/NER/Stanford_NLP/file_287.txt.out\n",
      "Annotating file /media/NAS/Tesis/NER/Stanford_NLP/temp/file_287.txt ... done [0.1 sec].\n",
      "Processing file /media/NAS/Tesis/NER/Stanford_NLP/temp/file_288.txt ... writing to /media/NAS/Tesis/NER/Stanford_NLP/file_288.txt.out\n",
      "Annotating file /media/NAS/Tesis/NER/Stanford_NLP/temp/file_288.txt ... done [0.1 sec].\n",
      "Processing file /media/NAS/Tesis/NER/Stanford_NLP/temp/file_289.txt ... writing to /media/NAS/Tesis/NER/Stanford_NLP/file_289.txt.out\n",
      "Annotating file /media/NAS/Tesis/NER/Stanford_NLP/temp/file_289.txt ... done [0.1 sec].\n",
      "Processing file /media/NAS/Tesis/NER/Stanford_NLP/temp/file_290.txt ... writing to /media/NAS/Tesis/NER/Stanford_NLP/file_290.txt.out\n",
      "Annotating file /media/NAS/Tesis/NER/Stanford_NLP/temp/file_290.txt ... done [0.1 sec].\n",
      "Processing file /media/NAS/Tesis/NER/Stanford_NLP/temp/file_291.txt ... writing to /media/NAS/Tesis/NER/Stanford_NLP/file_291.txt.out\n",
      "Annotating file /media/NAS/Tesis/NER/Stanford_NLP/temp/file_291.txt ... done [0.1 sec].\n",
      "Processing file /media/NAS/Tesis/NER/Stanford_NLP/temp/file_292.txt ... writing to /media/NAS/Tesis/NER/Stanford_NLP/file_292.txt.out\n",
      "Annotating file /media/NAS/Tesis/NER/Stanford_NLP/temp/file_292.txt ... done [0.1 sec].\n",
      "Processing file /media/NAS/Tesis/NER/Stanford_NLP/temp/file_293.txt ... writing to /media/NAS/Tesis/NER/Stanford_NLP/file_293.txt.out\n",
      "Annotating file /media/NAS/Tesis/NER/Stanford_NLP/temp/file_293.txt ... done [0.1 sec].\n",
      "Processing file /media/NAS/Tesis/NER/Stanford_NLP/temp/file_294.txt ... writing to /media/NAS/Tesis/NER/Stanford_NLP/file_294.txt.out\n",
      "Annotating file /media/NAS/Tesis/NER/Stanford_NLP/temp/file_294.txt ... done [0.1 sec].\n",
      "Processing file /media/NAS/Tesis/NER/Stanford_NLP/temp/file_295.txt ... writing to /media/NAS/Tesis/NER/Stanford_NLP/file_295.txt.out\n",
      "Annotating file /media/NAS/Tesis/NER/Stanford_NLP/temp/file_295.txt ... done [0.1 sec].\n",
      "Processing file /media/NAS/Tesis/NER/Stanford_NLP/temp/file_296.txt ... writing to /media/NAS/Tesis/NER/Stanford_NLP/file_296.txt.out\n",
      "Annotating file /media/NAS/Tesis/NER/Stanford_NLP/temp/file_296.txt ... done [0.1 sec].\n",
      "Processing file /media/NAS/Tesis/NER/Stanford_NLP/temp/file_297.txt ... writing to /media/NAS/Tesis/NER/Stanford_NLP/file_297.txt.out\n",
      "Annotating file /media/NAS/Tesis/NER/Stanford_NLP/temp/file_297.txt ... done [0.1 sec].\n",
      "Processing file /media/NAS/Tesis/NER/Stanford_NLP/temp/file_298.txt ... writing to /media/NAS/Tesis/NER/Stanford_NLP/file_298.txt.out\n",
      "Annotating file /media/NAS/Tesis/NER/Stanford_NLP/temp/file_298.txt ... done [0.1 sec].\n",
      "Processing file /media/NAS/Tesis/NER/Stanford_NLP/temp/file_299.txt ... writing to /media/NAS/Tesis/NER/Stanford_NLP/file_299.txt.out\n",
      "Annotating file /media/NAS/Tesis/NER/Stanford_NLP/temp/file_299.txt ... done [0.1 sec].\n",
      "Processing file /media/NAS/Tesis/NER/Stanford_NLP/temp/file_300.txt ... writing to /media/NAS/Tesis/NER/Stanford_NLP/file_300.txt.out\n",
      "Annotating file /media/NAS/Tesis/NER/Stanford_NLP/temp/file_300.txt ... done [0.0 sec].\n",
      "Processing file /media/NAS/Tesis/NER/Stanford_NLP/temp/file_301.txt ... writing to /media/NAS/Tesis/NER/Stanford_NLP/file_301.txt.out\n",
      "Annotating file /media/NAS/Tesis/NER/Stanford_NLP/temp/file_301.txt ... done [0.1 sec].\n",
      "Processing file /media/NAS/Tesis/NER/Stanford_NLP/temp/file_302.txt ... writing to /media/NAS/Tesis/NER/Stanford_NLP/file_302.txt.out\n",
      "Annotating file /media/NAS/Tesis/NER/Stanford_NLP/temp/file_302.txt ... done [0.0 sec].\n",
      "Processing file /media/NAS/Tesis/NER/Stanford_NLP/temp/file_303.txt ... writing to /media/NAS/Tesis/NER/Stanford_NLP/file_303.txt.out\n",
      "Annotating file /media/NAS/Tesis/NER/Stanford_NLP/temp/file_303.txt ... done [0.1 sec].\n",
      "Processing file /media/NAS/Tesis/NER/Stanford_NLP/temp/file_304.txt ... writing to /media/NAS/Tesis/NER/Stanford_NLP/file_304.txt.out\n",
      "Annotating file /media/NAS/Tesis/NER/Stanford_NLP/temp/file_304.txt ... done [0.0 sec].\n",
      "Processing file /media/NAS/Tesis/NER/Stanford_NLP/temp/file_305.txt ... writing to /media/NAS/Tesis/NER/Stanford_NLP/file_305.txt.out\n",
      "Annotating file /media/NAS/Tesis/NER/Stanford_NLP/temp/file_305.txt ... done [0.1 sec].\n",
      "Processing file /media/NAS/Tesis/NER/Stanford_NLP/temp/file_306.txt ... writing to /media/NAS/Tesis/NER/Stanford_NLP/file_306.txt.out\n",
      "Annotating file /media/NAS/Tesis/NER/Stanford_NLP/temp/file_306.txt ... done [0.0 sec].\n",
      "Processing file /media/NAS/Tesis/NER/Stanford_NLP/temp/file_307.txt ... writing to /media/NAS/Tesis/NER/Stanford_NLP/file_307.txt.out\n",
      "Annotating file /media/NAS/Tesis/NER/Stanford_NLP/temp/file_307.txt ... done [0.0 sec].\n",
      "Processing file /media/NAS/Tesis/NER/Stanford_NLP/temp/file_308.txt ... writing to /media/NAS/Tesis/NER/Stanford_NLP/file_308.txt.out\n",
      "Annotating file /media/NAS/Tesis/NER/Stanford_NLP/temp/file_308.txt ... done [0.0 sec].\n",
      "Processing file /media/NAS/Tesis/NER/Stanford_NLP/temp/file_309.txt ... writing to /media/NAS/Tesis/NER/Stanford_NLP/file_309.txt.out\n",
      "Annotating file /media/NAS/Tesis/NER/Stanford_NLP/temp/file_309.txt ... done [0.0 sec].\n",
      "Processing file /media/NAS/Tesis/NER/Stanford_NLP/temp/file_310.txt ... writing to /media/NAS/Tesis/NER/Stanford_NLP/file_310.txt.out\n",
      "Annotating file /media/NAS/Tesis/NER/Stanford_NLP/temp/file_310.txt ... done [0.0 sec].\n",
      "Processing file /media/NAS/Tesis/NER/Stanford_NLP/temp/file_311.txt ... writing to /media/NAS/Tesis/NER/Stanford_NLP/file_311.txt.out\n",
      "Annotating file /media/NAS/Tesis/NER/Stanford_NLP/temp/file_311.txt ... done [0.0 sec].\n",
      "Processing file /media/NAS/Tesis/NER/Stanford_NLP/temp/file_312.txt ... writing to /media/NAS/Tesis/NER/Stanford_NLP/file_312.txt.out\n",
      "Annotating file /media/NAS/Tesis/NER/Stanford_NLP/temp/file_312.txt ... done [0.0 sec].\n",
      "Processing file /media/NAS/Tesis/NER/Stanford_NLP/temp/file_313.txt ... writing to /media/NAS/Tesis/NER/Stanford_NLP/file_313.txt.out\n",
      "Annotating file /media/NAS/Tesis/NER/Stanford_NLP/temp/file_313.txt ... done [0.0 sec].\n",
      "Processing file /media/NAS/Tesis/NER/Stanford_NLP/temp/file_314.txt ... writing to /media/NAS/Tesis/NER/Stanford_NLP/file_314.txt.out\n",
      "Annotating file /media/NAS/Tesis/NER/Stanford_NLP/temp/file_314.txt ... done [0.0 sec].\n",
      "Processing file /media/NAS/Tesis/NER/Stanford_NLP/temp/file_315.txt ... writing to /media/NAS/Tesis/NER/Stanford_NLP/file_315.txt.out\n",
      "Annotating file /media/NAS/Tesis/NER/Stanford_NLP/temp/file_315.txt ... done [0.1 sec].\n",
      "Processing file /media/NAS/Tesis/NER/Stanford_NLP/temp/file_316.txt ... writing to /media/NAS/Tesis/NER/Stanford_NLP/file_316.txt.out\n",
      "Annotating file /media/NAS/Tesis/NER/Stanford_NLP/temp/file_316.txt ... done [0.1 sec].\n",
      "Processing file /media/NAS/Tesis/NER/Stanford_NLP/temp/file_317.txt ... writing to /media/NAS/Tesis/NER/Stanford_NLP/file_317.txt.out\n",
      "Annotating file /media/NAS/Tesis/NER/Stanford_NLP/temp/file_317.txt ... done [0.1 sec].\n",
      "Processing file /media/NAS/Tesis/NER/Stanford_NLP/temp/file_318.txt ... writing to /media/NAS/Tesis/NER/Stanford_NLP/file_318.txt.out\n",
      "Annotating file /media/NAS/Tesis/NER/Stanford_NLP/temp/file_318.txt ... done [0.1 sec].\n",
      "Processing file /media/NAS/Tesis/NER/Stanford_NLP/temp/file_319.txt ... writing to /media/NAS/Tesis/NER/Stanford_NLP/file_319.txt.out\n",
      "Annotating file /media/NAS/Tesis/NER/Stanford_NLP/temp/file_319.txt ... done [0.1 sec].\n",
      "Processing file /media/NAS/Tesis/NER/Stanford_NLP/temp/file_320.txt ... writing to /media/NAS/Tesis/NER/Stanford_NLP/file_320.txt.out\n",
      "Annotating file /media/NAS/Tesis/NER/Stanford_NLP/temp/file_320.txt ... done [0.1 sec].\n",
      "Processing file /media/NAS/Tesis/NER/Stanford_NLP/temp/file_321.txt ... writing to /media/NAS/Tesis/NER/Stanford_NLP/file_321.txt.out\n",
      "Annotating file /media/NAS/Tesis/NER/Stanford_NLP/temp/file_321.txt ... done [0.1 sec].\n",
      "Processing file /media/NAS/Tesis/NER/Stanford_NLP/temp/file_322.txt ... writing to /media/NAS/Tesis/NER/Stanford_NLP/file_322.txt.out\n",
      "Annotating file /media/NAS/Tesis/NER/Stanford_NLP/temp/file_322.txt ... done [0.1 sec].\n",
      "Processing file /media/NAS/Tesis/NER/Stanford_NLP/temp/file_323.txt ... writing to /media/NAS/Tesis/NER/Stanford_NLP/file_323.txt.out\n",
      "Annotating file /media/NAS/Tesis/NER/Stanford_NLP/temp/file_323.txt ... done [0.1 sec].\n",
      "Processing file /media/NAS/Tesis/NER/Stanford_NLP/temp/file_324.txt ... writing to /media/NAS/Tesis/NER/Stanford_NLP/file_324.txt.out\n",
      "Annotating file /media/NAS/Tesis/NER/Stanford_NLP/temp/file_324.txt ... done [0.1 sec].\n",
      "Processing file /media/NAS/Tesis/NER/Stanford_NLP/temp/file_325.txt ... writing to /media/NAS/Tesis/NER/Stanford_NLP/file_325.txt.out\n",
      "Annotating file /media/NAS/Tesis/NER/Stanford_NLP/temp/file_325.txt ... done [0.1 sec].\n",
      "Processing file /media/NAS/Tesis/NER/Stanford_NLP/temp/file_326.txt ... writing to /media/NAS/Tesis/NER/Stanford_NLP/file_326.txt.out\n",
      "Annotating file /media/NAS/Tesis/NER/Stanford_NLP/temp/file_326.txt ... done [0.1 sec].\n",
      "Processing file /media/NAS/Tesis/NER/Stanford_NLP/temp/file_327.txt ... writing to /media/NAS/Tesis/NER/Stanford_NLP/file_327.txt.out\n",
      "Annotating file /media/NAS/Tesis/NER/Stanford_NLP/temp/file_327.txt ... done [0.0 sec].\n",
      "Processing file /media/NAS/Tesis/NER/Stanford_NLP/temp/file_328.txt ... writing to /media/NAS/Tesis/NER/Stanford_NLP/file_328.txt.out\n",
      "Annotating file /media/NAS/Tesis/NER/Stanford_NLP/temp/file_328.txt ... done [0.1 sec].\n",
      "Processing file /media/NAS/Tesis/NER/Stanford_NLP/temp/file_329.txt ... writing to /media/NAS/Tesis/NER/Stanford_NLP/file_329.txt.out\n",
      "Annotating file /media/NAS/Tesis/NER/Stanford_NLP/temp/file_329.txt ... done [0.1 sec].\n",
      "Processing file /media/NAS/Tesis/NER/Stanford_NLP/temp/file_330.txt ... writing to /media/NAS/Tesis/NER/Stanford_NLP/file_330.txt.out\n",
      "Annotating file /media/NAS/Tesis/NER/Stanford_NLP/temp/file_330.txt ... done [0.1 sec].\n",
      "Processing file /media/NAS/Tesis/NER/Stanford_NLP/temp/file_331.txt ... writing to /media/NAS/Tesis/NER/Stanford_NLP/file_331.txt.out\n",
      "Annotating file /media/NAS/Tesis/NER/Stanford_NLP/temp/file_331.txt ... done [0.8 sec].\n",
      "Processing file /media/NAS/Tesis/NER/Stanford_NLP/temp/file_332.txt ... writing to /media/NAS/Tesis/NER/Stanford_NLP/file_332.txt.out\n",
      "Annotating file /media/NAS/Tesis/NER/Stanford_NLP/temp/file_332.txt ... done [0.1 sec].\n",
      "Processing file /media/NAS/Tesis/NER/Stanford_NLP/temp/file_333.txt ... writing to /media/NAS/Tesis/NER/Stanford_NLP/file_333.txt.out\n",
      "Annotating file /media/NAS/Tesis/NER/Stanford_NLP/temp/file_333.txt ... done [0.1 sec].\n",
      "Processing file /media/NAS/Tesis/NER/Stanford_NLP/temp/file_334.txt ... writing to /media/NAS/Tesis/NER/Stanford_NLP/file_334.txt.out\n",
      "Annotating file /media/NAS/Tesis/NER/Stanford_NLP/temp/file_334.txt ... done [0.2 sec].\n",
      "Processing file /media/NAS/Tesis/NER/Stanford_NLP/temp/file_335.txt ... writing to /media/NAS/Tesis/NER/Stanford_NLP/file_335.txt.out\n",
      "Annotating file /media/NAS/Tesis/NER/Stanford_NLP/temp/file_335.txt ... done [0.1 sec].\n",
      "Processing file /media/NAS/Tesis/NER/Stanford_NLP/temp/file_336.txt ... writing to /media/NAS/Tesis/NER/Stanford_NLP/file_336.txt.out\n",
      "Annotating file /media/NAS/Tesis/NER/Stanford_NLP/temp/file_336.txt ... done [0.1 sec].\n",
      "Processing file /media/NAS/Tesis/NER/Stanford_NLP/temp/file_337.txt ... writing to /media/NAS/Tesis/NER/Stanford_NLP/file_337.txt.out\n",
      "Annotating file /media/NAS/Tesis/NER/Stanford_NLP/temp/file_337.txt ... done [0.1 sec].\n",
      "Processing file /media/NAS/Tesis/NER/Stanford_NLP/temp/file_338.txt ... writing to /media/NAS/Tesis/NER/Stanford_NLP/file_338.txt.out\n",
      "Annotating file /media/NAS/Tesis/NER/Stanford_NLP/temp/file_338.txt ... done [0.2 sec].\n",
      "Processing file /media/NAS/Tesis/NER/Stanford_NLP/temp/file_339.txt ... writing to /media/NAS/Tesis/NER/Stanford_NLP/file_339.txt.out\n",
      "Annotating file /media/NAS/Tesis/NER/Stanford_NLP/temp/file_339.txt ... done [0.1 sec].\n",
      "Processing file /media/NAS/Tesis/NER/Stanford_NLP/temp/file_340.txt ... writing to /media/NAS/Tesis/NER/Stanford_NLP/file_340.txt.out\n",
      "Annotating file /media/NAS/Tesis/NER/Stanford_NLP/temp/file_340.txt ... done [0.1 sec].\n",
      "Processing file /media/NAS/Tesis/NER/Stanford_NLP/temp/file_341.txt ... writing to /media/NAS/Tesis/NER/Stanford_NLP/file_341.txt.out\n",
      "Annotating file /media/NAS/Tesis/NER/Stanford_NLP/temp/file_341.txt ... done [0.1 sec].\n",
      "Processing file /media/NAS/Tesis/NER/Stanford_NLP/temp/file_342.txt ... writing to /media/NAS/Tesis/NER/Stanford_NLP/file_342.txt.out\n",
      "Annotating file /media/NAS/Tesis/NER/Stanford_NLP/temp/file_342.txt ... done [0.0 sec].\n",
      "Processing file /media/NAS/Tesis/NER/Stanford_NLP/temp/file_343.txt ... writing to /media/NAS/Tesis/NER/Stanford_NLP/file_343.txt.out\n",
      "Annotating file /media/NAS/Tesis/NER/Stanford_NLP/temp/file_343.txt ... done [0.1 sec].\n",
      "Processing file /media/NAS/Tesis/NER/Stanford_NLP/temp/file_344.txt ... writing to /media/NAS/Tesis/NER/Stanford_NLP/file_344.txt.out\n",
      "Annotating file /media/NAS/Tesis/NER/Stanford_NLP/temp/file_344.txt ... done [0.0 sec].\n",
      "Processing file /media/NAS/Tesis/NER/Stanford_NLP/temp/file_345.txt ... writing to /media/NAS/Tesis/NER/Stanford_NLP/file_345.txt.out\n",
      "Annotating file /media/NAS/Tesis/NER/Stanford_NLP/temp/file_345.txt ... done [0.1 sec].\n",
      "Processing file /media/NAS/Tesis/NER/Stanford_NLP/temp/file_346.txt ... writing to /media/NAS/Tesis/NER/Stanford_NLP/file_346.txt.out\n",
      "Annotating file /media/NAS/Tesis/NER/Stanford_NLP/temp/file_346.txt ... done [0.1 sec].\n",
      "Processing file /media/NAS/Tesis/NER/Stanford_NLP/temp/file_347.txt ... writing to /media/NAS/Tesis/NER/Stanford_NLP/file_347.txt.out\n",
      "Annotating file /media/NAS/Tesis/NER/Stanford_NLP/temp/file_347.txt ... done [0.0 sec].\n",
      "Processing file /media/NAS/Tesis/NER/Stanford_NLP/temp/file_348.txt ... writing to /media/NAS/Tesis/NER/Stanford_NLP/file_348.txt.out\n",
      "Annotating file /media/NAS/Tesis/NER/Stanford_NLP/temp/file_348.txt ... done [0.0 sec].\n",
      "Processing file /media/NAS/Tesis/NER/Stanford_NLP/temp/file_349.txt ... writing to /media/NAS/Tesis/NER/Stanford_NLP/file_349.txt.out\n",
      "Annotating file /media/NAS/Tesis/NER/Stanford_NLP/temp/file_349.txt ... done [0.0 sec].\n",
      "Processing file /media/NAS/Tesis/NER/Stanford_NLP/temp/file_350.txt ... writing to /media/NAS/Tesis/NER/Stanford_NLP/file_350.txt.out\n",
      "Annotating file /media/NAS/Tesis/NER/Stanford_NLP/temp/file_350.txt ... done [0.1 sec].\n",
      "Processing file /media/NAS/Tesis/NER/Stanford_NLP/temp/file_351.txt ... writing to /media/NAS/Tesis/NER/Stanford_NLP/file_351.txt.out\n",
      "Annotating file /media/NAS/Tesis/NER/Stanford_NLP/temp/file_351.txt ... done [0.1 sec].\n",
      "Processing file /media/NAS/Tesis/NER/Stanford_NLP/temp/file_352.txt ... writing to /media/NAS/Tesis/NER/Stanford_NLP/file_352.txt.out\n",
      "Annotating file /media/NAS/Tesis/NER/Stanford_NLP/temp/file_352.txt ... done [0.0 sec].\n",
      "Processing file /media/NAS/Tesis/NER/Stanford_NLP/temp/file_353.txt ... writing to /media/NAS/Tesis/NER/Stanford_NLP/file_353.txt.out\n",
      "Annotating file /media/NAS/Tesis/NER/Stanford_NLP/temp/file_353.txt ... done [0.1 sec].\n",
      "Processing file /media/NAS/Tesis/NER/Stanford_NLP/temp/file_354.txt ... writing to /media/NAS/Tesis/NER/Stanford_NLP/file_354.txt.out\n",
      "Annotating file /media/NAS/Tesis/NER/Stanford_NLP/temp/file_354.txt ... done [0.1 sec].\n",
      "Processing file /media/NAS/Tesis/NER/Stanford_NLP/temp/file_355.txt ... writing to /media/NAS/Tesis/NER/Stanford_NLP/file_355.txt.out\n",
      "Annotating file /media/NAS/Tesis/NER/Stanford_NLP/temp/file_355.txt ... done [0.4 sec].\n",
      "Processing file /media/NAS/Tesis/NER/Stanford_NLP/temp/file_356.txt ... writing to /media/NAS/Tesis/NER/Stanford_NLP/file_356.txt.out\n",
      "Annotating file /media/NAS/Tesis/NER/Stanford_NLP/temp/file_356.txt ... done [0.1 sec].\n",
      "Processing file /media/NAS/Tesis/NER/Stanford_NLP/temp/file_357.txt ... writing to /media/NAS/Tesis/NER/Stanford_NLP/file_357.txt.out\n",
      "Annotating file /media/NAS/Tesis/NER/Stanford_NLP/temp/file_357.txt ... done [0.1 sec].\n",
      "Processing file /media/NAS/Tesis/NER/Stanford_NLP/temp/file_358.txt ... writing to /media/NAS/Tesis/NER/Stanford_NLP/file_358.txt.out\n",
      "Annotating file /media/NAS/Tesis/NER/Stanford_NLP/temp/file_358.txt ... done [0.7 sec].\n",
      "Processing file /media/NAS/Tesis/NER/Stanford_NLP/temp/file_359.txt ... writing to /media/NAS/Tesis/NER/Stanford_NLP/file_359.txt.out\n",
      "Annotating file /media/NAS/Tesis/NER/Stanford_NLP/temp/file_359.txt ... done [0.1 sec].\n",
      "Processing file /media/NAS/Tesis/NER/Stanford_NLP/temp/file_360.txt ... writing to /media/NAS/Tesis/NER/Stanford_NLP/file_360.txt.out\n",
      "Annotating file /media/NAS/Tesis/NER/Stanford_NLP/temp/file_360.txt ... done [0.1 sec].\n",
      "Processing file /media/NAS/Tesis/NER/Stanford_NLP/temp/file_361.txt ... writing to /media/NAS/Tesis/NER/Stanford_NLP/file_361.txt.out\n",
      "Annotating file /media/NAS/Tesis/NER/Stanford_NLP/temp/file_361.txt ... done [0.0 sec].\n",
      "Processing file /media/NAS/Tesis/NER/Stanford_NLP/temp/file_362.txt ... writing to /media/NAS/Tesis/NER/Stanford_NLP/file_362.txt.out\n",
      "Annotating file /media/NAS/Tesis/NER/Stanford_NLP/temp/file_362.txt ... done [0.1 sec].\n",
      "Processing file /media/NAS/Tesis/NER/Stanford_NLP/temp/file_363.txt ... writing to /media/NAS/Tesis/NER/Stanford_NLP/file_363.txt.out\n",
      "Annotating file /media/NAS/Tesis/NER/Stanford_NLP/temp/file_363.txt ... done [0.0 sec].\n",
      "Processing file /media/NAS/Tesis/NER/Stanford_NLP/temp/file_364.txt ... writing to /media/NAS/Tesis/NER/Stanford_NLP/file_364.txt.out\n",
      "Annotating file /media/NAS/Tesis/NER/Stanford_NLP/temp/file_364.txt ... done [0.1 sec].\n",
      "Processing file /media/NAS/Tesis/NER/Stanford_NLP/temp/file_365.txt ... writing to /media/NAS/Tesis/NER/Stanford_NLP/file_365.txt.out\n",
      "Annotating file /media/NAS/Tesis/NER/Stanford_NLP/temp/file_365.txt ... done [0.1 sec].\n",
      "Processing file /media/NAS/Tesis/NER/Stanford_NLP/temp/file_366.txt ... writing to /media/NAS/Tesis/NER/Stanford_NLP/file_366.txt.out\n",
      "Annotating file /media/NAS/Tesis/NER/Stanford_NLP/temp/file_366.txt ... done [0.1 sec].\n",
      "Processing file /media/NAS/Tesis/NER/Stanford_NLP/temp/file_367.txt ... writing to /media/NAS/Tesis/NER/Stanford_NLP/file_367.txt.out\n",
      "Annotating file /media/NAS/Tesis/NER/Stanford_NLP/temp/file_367.txt ... done [0.1 sec].\n",
      "Processing file /media/NAS/Tesis/NER/Stanford_NLP/temp/file_368.txt ... writing to /media/NAS/Tesis/NER/Stanford_NLP/file_368.txt.out\n",
      "Annotating file /media/NAS/Tesis/NER/Stanford_NLP/temp/file_368.txt ... done [0.1 sec].\n",
      "Processing file /media/NAS/Tesis/NER/Stanford_NLP/temp/file_369.txt ... writing to /media/NAS/Tesis/NER/Stanford_NLP/file_369.txt.out\n",
      "Annotating file /media/NAS/Tesis/NER/Stanford_NLP/temp/file_369.txt ... done [0.0 sec].\n",
      "Processing file /media/NAS/Tesis/NER/Stanford_NLP/temp/file_370.txt ... writing to /media/NAS/Tesis/NER/Stanford_NLP/file_370.txt.out\n",
      "Annotating file /media/NAS/Tesis/NER/Stanford_NLP/temp/file_370.txt ... done [0.1 sec].\n",
      "Processing file /media/NAS/Tesis/NER/Stanford_NLP/temp/file_371.txt ... writing to /media/NAS/Tesis/NER/Stanford_NLP/file_371.txt.out\n",
      "Annotating file /media/NAS/Tesis/NER/Stanford_NLP/temp/file_371.txt ... done [0.1 sec].\n",
      "Processing file /media/NAS/Tesis/NER/Stanford_NLP/temp/file_372.txt ... writing to /media/NAS/Tesis/NER/Stanford_NLP/file_372.txt.out\n",
      "Annotating file /media/NAS/Tesis/NER/Stanford_NLP/temp/file_372.txt ... done [0.1 sec].\n",
      "Processing file /media/NAS/Tesis/NER/Stanford_NLP/temp/file_373.txt ... writing to /media/NAS/Tesis/NER/Stanford_NLP/file_373.txt.out\n",
      "Annotating file /media/NAS/Tesis/NER/Stanford_NLP/temp/file_373.txt ... done [0.2 sec].\n",
      "Processing file /media/NAS/Tesis/NER/Stanford_NLP/temp/file_374.txt ... writing to /media/NAS/Tesis/NER/Stanford_NLP/file_374.txt.out\n",
      "Annotating file /media/NAS/Tesis/NER/Stanford_NLP/temp/file_374.txt ... done [0.0 sec].\n",
      "Processing file /media/NAS/Tesis/NER/Stanford_NLP/temp/file_375.txt ... writing to /media/NAS/Tesis/NER/Stanford_NLP/file_375.txt.out\n",
      "Annotating file /media/NAS/Tesis/NER/Stanford_NLP/temp/file_375.txt ... done [0.1 sec].\n",
      "Processing file /media/NAS/Tesis/NER/Stanford_NLP/temp/file_376.txt ... writing to /media/NAS/Tesis/NER/Stanford_NLP/file_376.txt.out\n",
      "Annotating file /media/NAS/Tesis/NER/Stanford_NLP/temp/file_376.txt ... done [0.1 sec].\n",
      "Processing file /media/NAS/Tesis/NER/Stanford_NLP/temp/file_377.txt ... writing to /media/NAS/Tesis/NER/Stanford_NLP/file_377.txt.out\n",
      "Annotating file /media/NAS/Tesis/NER/Stanford_NLP/temp/file_377.txt ... done [0.1 sec].\n",
      "Processing file /media/NAS/Tesis/NER/Stanford_NLP/temp/file_378.txt ... writing to /media/NAS/Tesis/NER/Stanford_NLP/file_378.txt.out\n",
      "Annotating file /media/NAS/Tesis/NER/Stanford_NLP/temp/file_378.txt ... done [0.1 sec].\n",
      "Processing file /media/NAS/Tesis/NER/Stanford_NLP/temp/file_379.txt ... writing to /media/NAS/Tesis/NER/Stanford_NLP/file_379.txt.out\n",
      "Annotating file /media/NAS/Tesis/NER/Stanford_NLP/temp/file_379.txt ... done [0.1 sec].\n",
      "Processing file /media/NAS/Tesis/NER/Stanford_NLP/temp/file_380.txt ... writing to /media/NAS/Tesis/NER/Stanford_NLP/file_380.txt.out\n",
      "Annotating file /media/NAS/Tesis/NER/Stanford_NLP/temp/file_380.txt ... done [0.1 sec].\n",
      "Processing file /media/NAS/Tesis/NER/Stanford_NLP/temp/file_381.txt ... writing to /media/NAS/Tesis/NER/Stanford_NLP/file_381.txt.out\n",
      "Annotating file /media/NAS/Tesis/NER/Stanford_NLP/temp/file_381.txt ... done [0.1 sec].\n",
      "Processing file /media/NAS/Tesis/NER/Stanford_NLP/temp/file_382.txt ... writing to /media/NAS/Tesis/NER/Stanford_NLP/file_382.txt.out\n",
      "Annotating file /media/NAS/Tesis/NER/Stanford_NLP/temp/file_382.txt ... done [0.1 sec].\n",
      "Processing file /media/NAS/Tesis/NER/Stanford_NLP/temp/file_383.txt ... writing to /media/NAS/Tesis/NER/Stanford_NLP/file_383.txt.out\n",
      "Annotating file /media/NAS/Tesis/NER/Stanford_NLP/temp/file_383.txt ... done [0.1 sec].\n",
      "Processing file /media/NAS/Tesis/NER/Stanford_NLP/temp/file_384.txt ... writing to /media/NAS/Tesis/NER/Stanford_NLP/file_384.txt.out\n",
      "Annotating file /media/NAS/Tesis/NER/Stanford_NLP/temp/file_384.txt ... done [0.1 sec].\n",
      "Processing file /media/NAS/Tesis/NER/Stanford_NLP/temp/file_385.txt ... writing to /media/NAS/Tesis/NER/Stanford_NLP/file_385.txt.out\n",
      "Annotating file /media/NAS/Tesis/NER/Stanford_NLP/temp/file_385.txt ... done [0.1 sec].\n",
      "Processing file /media/NAS/Tesis/NER/Stanford_NLP/temp/file_386.txt ... writing to /media/NAS/Tesis/NER/Stanford_NLP/file_386.txt.out\n",
      "Annotating file /media/NAS/Tesis/NER/Stanford_NLP/temp/file_386.txt ... done [0.1 sec].\n",
      "Processing file /media/NAS/Tesis/NER/Stanford_NLP/temp/file_387.txt ... writing to /media/NAS/Tesis/NER/Stanford_NLP/file_387.txt.out\n",
      "Annotating file /media/NAS/Tesis/NER/Stanford_NLP/temp/file_387.txt ... done [0.1 sec].\n",
      "Processing file /media/NAS/Tesis/NER/Stanford_NLP/temp/file_388.txt ... writing to /media/NAS/Tesis/NER/Stanford_NLP/file_388.txt.out\n",
      "Annotating file /media/NAS/Tesis/NER/Stanford_NLP/temp/file_388.txt ... done [0.1 sec].\n",
      "Processing file /media/NAS/Tesis/NER/Stanford_NLP/temp/file_389.txt ... writing to /media/NAS/Tesis/NER/Stanford_NLP/file_389.txt.out\n",
      "Annotating file /media/NAS/Tesis/NER/Stanford_NLP/temp/file_389.txt ... done [0.1 sec].\n",
      "Processing file /media/NAS/Tesis/NER/Stanford_NLP/temp/file_390.txt ... writing to /media/NAS/Tesis/NER/Stanford_NLP/file_390.txt.out\n",
      "Annotating file /media/NAS/Tesis/NER/Stanford_NLP/temp/file_390.txt ... done [0.1 sec].\n",
      "Processing file /media/NAS/Tesis/NER/Stanford_NLP/temp/file_391.txt ... writing to /media/NAS/Tesis/NER/Stanford_NLP/file_391.txt.out\n",
      "Annotating file /media/NAS/Tesis/NER/Stanford_NLP/temp/file_391.txt ... done [0.0 sec].\n",
      "Processing file /media/NAS/Tesis/NER/Stanford_NLP/temp/file_392.txt ... writing to /media/NAS/Tesis/NER/Stanford_NLP/file_392.txt.out\n",
      "Annotating file /media/NAS/Tesis/NER/Stanford_NLP/temp/file_392.txt ... done [0.0 sec].\n",
      "Processing file /media/NAS/Tesis/NER/Stanford_NLP/temp/file_393.txt ... writing to /media/NAS/Tesis/NER/Stanford_NLP/file_393.txt.out\n",
      "Annotating file /media/NAS/Tesis/NER/Stanford_NLP/temp/file_393.txt ... done [0.2 sec].\n",
      "Processing file /media/NAS/Tesis/NER/Stanford_NLP/temp/file_394.txt ... writing to /media/NAS/Tesis/NER/Stanford_NLP/file_394.txt.out\n",
      "Annotating file /media/NAS/Tesis/NER/Stanford_NLP/temp/file_394.txt ... done [0.0 sec].\n",
      "Processing file /media/NAS/Tesis/NER/Stanford_NLP/temp/file_395.txt ... writing to /media/NAS/Tesis/NER/Stanford_NLP/file_395.txt.out\n",
      "Annotating file /media/NAS/Tesis/NER/Stanford_NLP/temp/file_395.txt ... done [0.1 sec].\n",
      "Processing file /media/NAS/Tesis/NER/Stanford_NLP/temp/file_396.txt ... writing to /media/NAS/Tesis/NER/Stanford_NLP/file_396.txt.out\n",
      "Annotating file /media/NAS/Tesis/NER/Stanford_NLP/temp/file_396.txt ... done [0.1 sec].\n",
      "Processing file /media/NAS/Tesis/NER/Stanford_NLP/temp/file_397.txt ... writing to /media/NAS/Tesis/NER/Stanford_NLP/file_397.txt.out\n",
      "Annotating file /media/NAS/Tesis/NER/Stanford_NLP/temp/file_397.txt ... done [0.1 sec].\n",
      "Processing file /media/NAS/Tesis/NER/Stanford_NLP/temp/file_398.txt ... writing to /media/NAS/Tesis/NER/Stanford_NLP/file_398.txt.out\n",
      "Annotating file /media/NAS/Tesis/NER/Stanford_NLP/temp/file_398.txt ... done [0.1 sec].\n",
      "Processing file /media/NAS/Tesis/NER/Stanford_NLP/temp/file_399.txt ... writing to /media/NAS/Tesis/NER/Stanford_NLP/file_399.txt.out\n",
      "Annotating file /media/NAS/Tesis/NER/Stanford_NLP/temp/file_399.txt ... done [0.3 sec].\n",
      "Processing file /media/NAS/Tesis/NER/Stanford_NLP/temp/file_400.txt ... writing to /media/NAS/Tesis/NER/Stanford_NLP/file_400.txt.out\n",
      "Annotating file /media/NAS/Tesis/NER/Stanford_NLP/temp/file_400.txt ... done [0.1 sec].\n",
      "Processing file /media/NAS/Tesis/NER/Stanford_NLP/temp/file_401.txt ... writing to /media/NAS/Tesis/NER/Stanford_NLP/file_401.txt.out\n",
      "Annotating file /media/NAS/Tesis/NER/Stanford_NLP/temp/file_401.txt ... done [0.2 sec].\n",
      "Processing file /media/NAS/Tesis/NER/Stanford_NLP/temp/file_402.txt ... writing to /media/NAS/Tesis/NER/Stanford_NLP/file_402.txt.out\n",
      "Annotating file /media/NAS/Tesis/NER/Stanford_NLP/temp/file_402.txt ... done [0.1 sec].\n",
      "Processing file /media/NAS/Tesis/NER/Stanford_NLP/temp/file_403.txt ... writing to /media/NAS/Tesis/NER/Stanford_NLP/file_403.txt.out\n",
      "Annotating file /media/NAS/Tesis/NER/Stanford_NLP/temp/file_403.txt ... done [0.0 sec].\n",
      "Processing file /media/NAS/Tesis/NER/Stanford_NLP/temp/file_404.txt ... writing to /media/NAS/Tesis/NER/Stanford_NLP/file_404.txt.out\n",
      "Annotating file /media/NAS/Tesis/NER/Stanford_NLP/temp/file_404.txt ... done [0.1 sec].\n",
      "Processing file /media/NAS/Tesis/NER/Stanford_NLP/temp/file_405.txt ... writing to /media/NAS/Tesis/NER/Stanford_NLP/file_405.txt.out\n",
      "Annotating file /media/NAS/Tesis/NER/Stanford_NLP/temp/file_405.txt ... done [0.0 sec].\n",
      "Processing file /media/NAS/Tesis/NER/Stanford_NLP/temp/file_406.txt ... writing to /media/NAS/Tesis/NER/Stanford_NLP/file_406.txt.out\n",
      "Annotating file /media/NAS/Tesis/NER/Stanford_NLP/temp/file_406.txt ... done [0.0 sec].\n",
      "Processing file /media/NAS/Tesis/NER/Stanford_NLP/temp/file_407.txt ... writing to /media/NAS/Tesis/NER/Stanford_NLP/file_407.txt.out\n",
      "Annotating file /media/NAS/Tesis/NER/Stanford_NLP/temp/file_407.txt ... done [0.0 sec].\n",
      "Processing file /media/NAS/Tesis/NER/Stanford_NLP/temp/file_408.txt ... writing to /media/NAS/Tesis/NER/Stanford_NLP/file_408.txt.out\n",
      "Annotating file /media/NAS/Tesis/NER/Stanford_NLP/temp/file_408.txt ... done [0.1 sec].\n",
      "Processing file /media/NAS/Tesis/NER/Stanford_NLP/temp/file_409.txt ... writing to /media/NAS/Tesis/NER/Stanford_NLP/file_409.txt.out\n",
      "Annotating file /media/NAS/Tesis/NER/Stanford_NLP/temp/file_409.txt ... done [0.1 sec].\n",
      "Processing file /media/NAS/Tesis/NER/Stanford_NLP/temp/file_410.txt ... writing to /media/NAS/Tesis/NER/Stanford_NLP/file_410.txt.out\n",
      "Annotating file /media/NAS/Tesis/NER/Stanford_NLP/temp/file_410.txt ... done [0.0 sec].\n",
      "Processing file /media/NAS/Tesis/NER/Stanford_NLP/temp/file_411.txt ... writing to /media/NAS/Tesis/NER/Stanford_NLP/file_411.txt.out\n",
      "Annotating file /media/NAS/Tesis/NER/Stanford_NLP/temp/file_411.txt ... done [0.5 sec].\n",
      "Processing file /media/NAS/Tesis/NER/Stanford_NLP/temp/file_412.txt ... writing to /media/NAS/Tesis/NER/Stanford_NLP/file_412.txt.out\n",
      "Annotating file /media/NAS/Tesis/NER/Stanford_NLP/temp/file_412.txt ... done [0.0 sec].\n",
      "Processing file /media/NAS/Tesis/NER/Stanford_NLP/temp/file_413.txt ... writing to /media/NAS/Tesis/NER/Stanford_NLP/file_413.txt.out\n",
      "Annotating file /media/NAS/Tesis/NER/Stanford_NLP/temp/file_413.txt ... done [0.2 sec].\n",
      "Processing file /media/NAS/Tesis/NER/Stanford_NLP/temp/file_414.txt ... writing to /media/NAS/Tesis/NER/Stanford_NLP/file_414.txt.out\n",
      "Annotating file /media/NAS/Tesis/NER/Stanford_NLP/temp/file_414.txt ... done [0.1 sec].\n",
      "Processing file /media/NAS/Tesis/NER/Stanford_NLP/temp/file_415.txt ... writing to /media/NAS/Tesis/NER/Stanford_NLP/file_415.txt.out\n",
      "Annotating file /media/NAS/Tesis/NER/Stanford_NLP/temp/file_415.txt ... done [0.1 sec].\n",
      "Processing file /media/NAS/Tesis/NER/Stanford_NLP/temp/file_416.txt ... writing to /media/NAS/Tesis/NER/Stanford_NLP/file_416.txt.out\n",
      "Annotating file /media/NAS/Tesis/NER/Stanford_NLP/temp/file_416.txt ... done [0.0 sec].\n",
      "Processing file /media/NAS/Tesis/NER/Stanford_NLP/temp/file_417.txt ... writing to /media/NAS/Tesis/NER/Stanford_NLP/file_417.txt.out\n",
      "Annotating file /media/NAS/Tesis/NER/Stanford_NLP/temp/file_417.txt ... done [0.2 sec].\n",
      "Processing file /media/NAS/Tesis/NER/Stanford_NLP/temp/file_418.txt ... writing to /media/NAS/Tesis/NER/Stanford_NLP/file_418.txt.out\n",
      "Annotating file /media/NAS/Tesis/NER/Stanford_NLP/temp/file_418.txt ... done [0.1 sec].\n",
      "Processing file /media/NAS/Tesis/NER/Stanford_NLP/temp/file_419.txt ... writing to /media/NAS/Tesis/NER/Stanford_NLP/file_419.txt.out\n",
      "Annotating file /media/NAS/Tesis/NER/Stanford_NLP/temp/file_419.txt ... done [0.1 sec].\n",
      "Processing file /media/NAS/Tesis/NER/Stanford_NLP/temp/file_420.txt ... writing to /media/NAS/Tesis/NER/Stanford_NLP/file_420.txt.out\n",
      "Annotating file /media/NAS/Tesis/NER/Stanford_NLP/temp/file_420.txt ... done [0.1 sec].\n",
      "Processing file /media/NAS/Tesis/NER/Stanford_NLP/temp/file_421.txt ... writing to /media/NAS/Tesis/NER/Stanford_NLP/file_421.txt.out\n",
      "Annotating file /media/NAS/Tesis/NER/Stanford_NLP/temp/file_421.txt ... done [0.4 sec].\n",
      "Processing file /media/NAS/Tesis/NER/Stanford_NLP/temp/file_422.txt ... writing to /media/NAS/Tesis/NER/Stanford_NLP/file_422.txt.out\n",
      "Annotating file /media/NAS/Tesis/NER/Stanford_NLP/temp/file_422.txt ... done [0.1 sec].\n",
      "Processing file /media/NAS/Tesis/NER/Stanford_NLP/temp/file_423.txt ... writing to /media/NAS/Tesis/NER/Stanford_NLP/file_423.txt.out\n",
      "Annotating file /media/NAS/Tesis/NER/Stanford_NLP/temp/file_423.txt ... done [0.1 sec].\n",
      "Processing file /media/NAS/Tesis/NER/Stanford_NLP/temp/file_424.txt ... writing to /media/NAS/Tesis/NER/Stanford_NLP/file_424.txt.out\n",
      "Annotating file /media/NAS/Tesis/NER/Stanford_NLP/temp/file_424.txt ... done [0.1 sec].\n",
      "Processing file /media/NAS/Tesis/NER/Stanford_NLP/temp/file_425.txt ... writing to /media/NAS/Tesis/NER/Stanford_NLP/file_425.txt.out\n",
      "Annotating file /media/NAS/Tesis/NER/Stanford_NLP/temp/file_425.txt ... done [0.1 sec].\n",
      "Processing file /media/NAS/Tesis/NER/Stanford_NLP/temp/file_426.txt ... writing to /media/NAS/Tesis/NER/Stanford_NLP/file_426.txt.out\n",
      "Annotating file /media/NAS/Tesis/NER/Stanford_NLP/temp/file_426.txt ... done [0.1 sec].\n",
      "Processing file /media/NAS/Tesis/NER/Stanford_NLP/temp/file_427.txt ... writing to /media/NAS/Tesis/NER/Stanford_NLP/file_427.txt.out\n",
      "Annotating file /media/NAS/Tesis/NER/Stanford_NLP/temp/file_427.txt ... done [0.1 sec].\n",
      "Processing file /media/NAS/Tesis/NER/Stanford_NLP/temp/file_428.txt ... writing to /media/NAS/Tesis/NER/Stanford_NLP/file_428.txt.out\n",
      "Annotating file /media/NAS/Tesis/NER/Stanford_NLP/temp/file_428.txt ... done [0.2 sec].\n",
      "Processing file /media/NAS/Tesis/NER/Stanford_NLP/temp/file_429.txt ... writing to /media/NAS/Tesis/NER/Stanford_NLP/file_429.txt.out\n",
      "Annotating file /media/NAS/Tesis/NER/Stanford_NLP/temp/file_429.txt ... done [0.1 sec].\n",
      "Processing file /media/NAS/Tesis/NER/Stanford_NLP/temp/file_430.txt ... writing to /media/NAS/Tesis/NER/Stanford_NLP/file_430.txt.out\n",
      "Annotating file /media/NAS/Tesis/NER/Stanford_NLP/temp/file_430.txt ... done [0.1 sec].\n",
      "Processing file /media/NAS/Tesis/NER/Stanford_NLP/temp/file_431.txt ... writing to /media/NAS/Tesis/NER/Stanford_NLP/file_431.txt.out\n",
      "Annotating file /media/NAS/Tesis/NER/Stanford_NLP/temp/file_431.txt ... done [0.1 sec].\n",
      "Processing file /media/NAS/Tesis/NER/Stanford_NLP/temp/file_432.txt ... writing to /media/NAS/Tesis/NER/Stanford_NLP/file_432.txt.out\n",
      "Annotating file /media/NAS/Tesis/NER/Stanford_NLP/temp/file_432.txt ... done [0.1 sec].\n",
      "Processing file /media/NAS/Tesis/NER/Stanford_NLP/temp/file_433.txt ... writing to /media/NAS/Tesis/NER/Stanford_NLP/file_433.txt.out\n",
      "Annotating file /media/NAS/Tesis/NER/Stanford_NLP/temp/file_433.txt ... done [0.1 sec].\n",
      "Processing file /media/NAS/Tesis/NER/Stanford_NLP/temp/file_434.txt ... writing to /media/NAS/Tesis/NER/Stanford_NLP/file_434.txt.out\n",
      "Annotating file /media/NAS/Tesis/NER/Stanford_NLP/temp/file_434.txt ... done [0.1 sec].\n",
      "Processing file /media/NAS/Tesis/NER/Stanford_NLP/temp/file_435.txt ... writing to /media/NAS/Tesis/NER/Stanford_NLP/file_435.txt.out\n",
      "Annotating file /media/NAS/Tesis/NER/Stanford_NLP/temp/file_435.txt ... done [0.0 sec].\n",
      "Processing file /media/NAS/Tesis/NER/Stanford_NLP/temp/file_436.txt ... writing to /media/NAS/Tesis/NER/Stanford_NLP/file_436.txt.out\n",
      "Annotating file /media/NAS/Tesis/NER/Stanford_NLP/temp/file_436.txt ... done [0.1 sec].\n",
      "Processing file /media/NAS/Tesis/NER/Stanford_NLP/temp/file_437.txt ... writing to /media/NAS/Tesis/NER/Stanford_NLP/file_437.txt.out\n",
      "Annotating file /media/NAS/Tesis/NER/Stanford_NLP/temp/file_437.txt ... done [0.1 sec].\n",
      "Processing file /media/NAS/Tesis/NER/Stanford_NLP/temp/file_438.txt ... writing to /media/NAS/Tesis/NER/Stanford_NLP/file_438.txt.out\n",
      "Annotating file /media/NAS/Tesis/NER/Stanford_NLP/temp/file_438.txt ... done [0.3 sec].\n",
      "Processing file /media/NAS/Tesis/NER/Stanford_NLP/temp/file_439.txt ... writing to /media/NAS/Tesis/NER/Stanford_NLP/file_439.txt.out\n",
      "Annotating file /media/NAS/Tesis/NER/Stanford_NLP/temp/file_439.txt ... done [0.1 sec].\n",
      "Processing file /media/NAS/Tesis/NER/Stanford_NLP/temp/file_440.txt ... writing to /media/NAS/Tesis/NER/Stanford_NLP/file_440.txt.out\n",
      "Annotating file /media/NAS/Tesis/NER/Stanford_NLP/temp/file_440.txt ... done [0.1 sec].\n",
      "Processing file /media/NAS/Tesis/NER/Stanford_NLP/temp/file_441.txt ... writing to /media/NAS/Tesis/NER/Stanford_NLP/file_441.txt.out\n",
      "Annotating file /media/NAS/Tesis/NER/Stanford_NLP/temp/file_441.txt ... done [0.1 sec].\n",
      "Processing file /media/NAS/Tesis/NER/Stanford_NLP/temp/file_442.txt ... writing to /media/NAS/Tesis/NER/Stanford_NLP/file_442.txt.out\n",
      "Annotating file /media/NAS/Tesis/NER/Stanford_NLP/temp/file_442.txt ... done [0.1 sec].\n",
      "Processing file /media/NAS/Tesis/NER/Stanford_NLP/temp/file_443.txt ... writing to /media/NAS/Tesis/NER/Stanford_NLP/file_443.txt.out\n",
      "Annotating file /media/NAS/Tesis/NER/Stanford_NLP/temp/file_443.txt ... done [0.1 sec].\n",
      "Processing file /media/NAS/Tesis/NER/Stanford_NLP/temp/file_444.txt ... writing to /media/NAS/Tesis/NER/Stanford_NLP/file_444.txt.out\n",
      "Annotating file /media/NAS/Tesis/NER/Stanford_NLP/temp/file_444.txt ... done [0.1 sec].\n",
      "Processing file /media/NAS/Tesis/NER/Stanford_NLP/temp/file_445.txt ... writing to /media/NAS/Tesis/NER/Stanford_NLP/file_445.txt.out\n",
      "Annotating file /media/NAS/Tesis/NER/Stanford_NLP/temp/file_445.txt ... done [0.1 sec].\n",
      "Processing file /media/NAS/Tesis/NER/Stanford_NLP/temp/file_446.txt ... writing to /media/NAS/Tesis/NER/Stanford_NLP/file_446.txt.out\n",
      "Annotating file /media/NAS/Tesis/NER/Stanford_NLP/temp/file_446.txt ... done [0.1 sec].\n",
      "Processing file /media/NAS/Tesis/NER/Stanford_NLP/temp/file_447.txt ... writing to /media/NAS/Tesis/NER/Stanford_NLP/file_447.txt.out\n",
      "Annotating file /media/NAS/Tesis/NER/Stanford_NLP/temp/file_447.txt ... done [0.2 sec].\n",
      "Processing file /media/NAS/Tesis/NER/Stanford_NLP/temp/file_448.txt ... writing to /media/NAS/Tesis/NER/Stanford_NLP/file_448.txt.out\n",
      "Annotating file /media/NAS/Tesis/NER/Stanford_NLP/temp/file_448.txt ... done [0.1 sec].\n",
      "Processing file /media/NAS/Tesis/NER/Stanford_NLP/temp/file_449.txt ... writing to /media/NAS/Tesis/NER/Stanford_NLP/file_449.txt.out\n",
      "Annotating file /media/NAS/Tesis/NER/Stanford_NLP/temp/file_449.txt ... done [0.1 sec].\n",
      "Processing file /media/NAS/Tesis/NER/Stanford_NLP/temp/file_450.txt ... writing to /media/NAS/Tesis/NER/Stanford_NLP/file_450.txt.out\n",
      "Annotating file /media/NAS/Tesis/NER/Stanford_NLP/temp/file_450.txt ... done [0.1 sec].\n",
      "Processing file /media/NAS/Tesis/NER/Stanford_NLP/temp/file_451.txt ... writing to /media/NAS/Tesis/NER/Stanford_NLP/file_451.txt.out\n",
      "Annotating file /media/NAS/Tesis/NER/Stanford_NLP/temp/file_451.txt ... done [0.2 sec].\n",
      "Processing file /media/NAS/Tesis/NER/Stanford_NLP/temp/file_452.txt ... writing to /media/NAS/Tesis/NER/Stanford_NLP/file_452.txt.out\n",
      "Annotating file /media/NAS/Tesis/NER/Stanford_NLP/temp/file_452.txt ... done [0.1 sec].\n",
      "Processing file /media/NAS/Tesis/NER/Stanford_NLP/temp/file_453.txt ... writing to /media/NAS/Tesis/NER/Stanford_NLP/file_453.txt.out\n",
      "Annotating file /media/NAS/Tesis/NER/Stanford_NLP/temp/file_453.txt ... done [0.1 sec].\n",
      "Processing file /media/NAS/Tesis/NER/Stanford_NLP/temp/file_454.txt ... writing to /media/NAS/Tesis/NER/Stanford_NLP/file_454.txt.out\n",
      "Annotating file /media/NAS/Tesis/NER/Stanford_NLP/temp/file_454.txt ... done [0.1 sec].\n",
      "Processing file /media/NAS/Tesis/NER/Stanford_NLP/temp/file_455.txt ... writing to /media/NAS/Tesis/NER/Stanford_NLP/file_455.txt.out\n",
      "Annotating file /media/NAS/Tesis/NER/Stanford_NLP/temp/file_455.txt ... done [0.1 sec].\n",
      "Processing file /media/NAS/Tesis/NER/Stanford_NLP/temp/file_456.txt ... writing to /media/NAS/Tesis/NER/Stanford_NLP/file_456.txt.out\n",
      "Annotating file /media/NAS/Tesis/NER/Stanford_NLP/temp/file_456.txt ... done [0.2 sec].\n",
      "Processing file /media/NAS/Tesis/NER/Stanford_NLP/temp/file_457.txt ... writing to /media/NAS/Tesis/NER/Stanford_NLP/file_457.txt.out\n",
      "Annotating file /media/NAS/Tesis/NER/Stanford_NLP/temp/file_457.txt ... done [0.1 sec].\n",
      "Processing file /media/NAS/Tesis/NER/Stanford_NLP/temp/file_458.txt ... writing to /media/NAS/Tesis/NER/Stanford_NLP/file_458.txt.out\n",
      "Annotating file /media/NAS/Tesis/NER/Stanford_NLP/temp/file_458.txt ... done [0.1 sec].\n",
      "Processing file /media/NAS/Tesis/NER/Stanford_NLP/temp/file_459.txt ... writing to /media/NAS/Tesis/NER/Stanford_NLP/file_459.txt.out\n",
      "Annotating file /media/NAS/Tesis/NER/Stanford_NLP/temp/file_459.txt ... done [0.0 sec].\n",
      "Processing file /media/NAS/Tesis/NER/Stanford_NLP/temp/file_460.txt ... writing to /media/NAS/Tesis/NER/Stanford_NLP/file_460.txt.out\n",
      "Annotating file /media/NAS/Tesis/NER/Stanford_NLP/temp/file_460.txt ... done [0.1 sec].\n",
      "Processing file /media/NAS/Tesis/NER/Stanford_NLP/temp/file_461.txt ... writing to /media/NAS/Tesis/NER/Stanford_NLP/file_461.txt.out\n",
      "Annotating file /media/NAS/Tesis/NER/Stanford_NLP/temp/file_461.txt ... done [0.1 sec].\n",
      "Processing file /media/NAS/Tesis/NER/Stanford_NLP/temp/file_462.txt ... writing to /media/NAS/Tesis/NER/Stanford_NLP/file_462.txt.out\n",
      "Annotating file /media/NAS/Tesis/NER/Stanford_NLP/temp/file_462.txt ... done [0.1 sec].\n",
      "Processing file /media/NAS/Tesis/NER/Stanford_NLP/temp/file_463.txt ... writing to /media/NAS/Tesis/NER/Stanford_NLP/file_463.txt.out\n",
      "Annotating file /media/NAS/Tesis/NER/Stanford_NLP/temp/file_463.txt ... done [0.2 sec].\n",
      "Processing file /media/NAS/Tesis/NER/Stanford_NLP/temp/file_464.txt ... writing to /media/NAS/Tesis/NER/Stanford_NLP/file_464.txt.out\n",
      "Annotating file /media/NAS/Tesis/NER/Stanford_NLP/temp/file_464.txt ... done [0.1 sec].\n",
      "Processing file /media/NAS/Tesis/NER/Stanford_NLP/temp/file_465.txt ... writing to /media/NAS/Tesis/NER/Stanford_NLP/file_465.txt.out\n",
      "Annotating file /media/NAS/Tesis/NER/Stanford_NLP/temp/file_465.txt ... done [0.1 sec].\n",
      "Processing file /media/NAS/Tesis/NER/Stanford_NLP/temp/file_466.txt ... writing to /media/NAS/Tesis/NER/Stanford_NLP/file_466.txt.out\n",
      "Annotating file /media/NAS/Tesis/NER/Stanford_NLP/temp/file_466.txt ... done [0.1 sec].\n",
      "Processing file /media/NAS/Tesis/NER/Stanford_NLP/temp/file_467.txt ... writing to /media/NAS/Tesis/NER/Stanford_NLP/file_467.txt.out\n",
      "Annotating file /media/NAS/Tesis/NER/Stanford_NLP/temp/file_467.txt ... done [0.0 sec].\n",
      "Processing file /media/NAS/Tesis/NER/Stanford_NLP/temp/file_468.txt ... writing to /media/NAS/Tesis/NER/Stanford_NLP/file_468.txt.out\n",
      "Annotating file /media/NAS/Tesis/NER/Stanford_NLP/temp/file_468.txt ... done [0.1 sec].\n",
      "Processing file /media/NAS/Tesis/NER/Stanford_NLP/temp/file_469.txt ... writing to /media/NAS/Tesis/NER/Stanford_NLP/file_469.txt.out\n",
      "Annotating file /media/NAS/Tesis/NER/Stanford_NLP/temp/file_469.txt ... done [0.0 sec].\n",
      "Processing file /media/NAS/Tesis/NER/Stanford_NLP/temp/file_470.txt ... writing to /media/NAS/Tesis/NER/Stanford_NLP/file_470.txt.out\n",
      "Annotating file /media/NAS/Tesis/NER/Stanford_NLP/temp/file_470.txt ... done [0.1 sec].\n",
      "Processing file /media/NAS/Tesis/NER/Stanford_NLP/temp/file_471.txt ... writing to /media/NAS/Tesis/NER/Stanford_NLP/file_471.txt.out\n",
      "Annotating file /media/NAS/Tesis/NER/Stanford_NLP/temp/file_471.txt ... done [0.1 sec].\n",
      "Processing file /media/NAS/Tesis/NER/Stanford_NLP/temp/file_472.txt ... writing to /media/NAS/Tesis/NER/Stanford_NLP/file_472.txt.out\n",
      "Annotating file /media/NAS/Tesis/NER/Stanford_NLP/temp/file_472.txt ... done [0.2 sec].\n",
      "Processing file /media/NAS/Tesis/NER/Stanford_NLP/temp/file_473.txt ... writing to /media/NAS/Tesis/NER/Stanford_NLP/file_473.txt.out\n",
      "Annotating file /media/NAS/Tesis/NER/Stanford_NLP/temp/file_473.txt ... done [0.1 sec].\n",
      "Processing file /media/NAS/Tesis/NER/Stanford_NLP/temp/file_474.txt ... writing to /media/NAS/Tesis/NER/Stanford_NLP/file_474.txt.out\n",
      "Annotating file /media/NAS/Tesis/NER/Stanford_NLP/temp/file_474.txt ... done [0.1 sec].\n",
      "Processing file /media/NAS/Tesis/NER/Stanford_NLP/temp/file_475.txt ... writing to /media/NAS/Tesis/NER/Stanford_NLP/file_475.txt.out\n",
      "Annotating file /media/NAS/Tesis/NER/Stanford_NLP/temp/file_475.txt ... done [0.1 sec].\n",
      "Processing file /media/NAS/Tesis/NER/Stanford_NLP/temp/file_476.txt ... writing to /media/NAS/Tesis/NER/Stanford_NLP/file_476.txt.out\n",
      "Annotating file /media/NAS/Tesis/NER/Stanford_NLP/temp/file_476.txt ... done [0.0 sec].\n",
      "Processing file /media/NAS/Tesis/NER/Stanford_NLP/temp/file_477.txt ... writing to /media/NAS/Tesis/NER/Stanford_NLP/file_477.txt.out\n",
      "Annotating file /media/NAS/Tesis/NER/Stanford_NLP/temp/file_477.txt ... done [0.1 sec].\n",
      "Processing file /media/NAS/Tesis/NER/Stanford_NLP/temp/file_478.txt ... writing to /media/NAS/Tesis/NER/Stanford_NLP/file_478.txt.out\n",
      "Annotating file /media/NAS/Tesis/NER/Stanford_NLP/temp/file_478.txt ... done [0.1 sec].\n",
      "Processing file /media/NAS/Tesis/NER/Stanford_NLP/temp/file_479.txt ... writing to /media/NAS/Tesis/NER/Stanford_NLP/file_479.txt.out\n",
      "Annotating file /media/NAS/Tesis/NER/Stanford_NLP/temp/file_479.txt ... done [0.0 sec].\n",
      "Processing file /media/NAS/Tesis/NER/Stanford_NLP/temp/file_480.txt ... writing to /media/NAS/Tesis/NER/Stanford_NLP/file_480.txt.out\n",
      "Annotating file /media/NAS/Tesis/NER/Stanford_NLP/temp/file_480.txt ... done [0.1 sec].\n",
      "Processing file /media/NAS/Tesis/NER/Stanford_NLP/temp/file_481.txt ... writing to /media/NAS/Tesis/NER/Stanford_NLP/file_481.txt.out\n",
      "Annotating file /media/NAS/Tesis/NER/Stanford_NLP/temp/file_481.txt ... done [0.1 sec].\n",
      "Processing file /media/NAS/Tesis/NER/Stanford_NLP/temp/file_482.txt ... writing to /media/NAS/Tesis/NER/Stanford_NLP/file_482.txt.out\n",
      "Annotating file /media/NAS/Tesis/NER/Stanford_NLP/temp/file_482.txt ... done [0.1 sec].\n",
      "Processing file /media/NAS/Tesis/NER/Stanford_NLP/temp/file_483.txt ... writing to /media/NAS/Tesis/NER/Stanford_NLP/file_483.txt.out\n",
      "Annotating file /media/NAS/Tesis/NER/Stanford_NLP/temp/file_483.txt ... done [0.1 sec].\n",
      "Processing file /media/NAS/Tesis/NER/Stanford_NLP/temp/file_484.txt ... writing to /media/NAS/Tesis/NER/Stanford_NLP/file_484.txt.out\n",
      "Annotating file /media/NAS/Tesis/NER/Stanford_NLP/temp/file_484.txt ... done [0.1 sec].\n",
      "Processing file /media/NAS/Tesis/NER/Stanford_NLP/temp/file_485.txt ... writing to /media/NAS/Tesis/NER/Stanford_NLP/file_485.txt.out\n",
      "Annotating file /media/NAS/Tesis/NER/Stanford_NLP/temp/file_485.txt ... done [0.1 sec].\n",
      "Processing file /media/NAS/Tesis/NER/Stanford_NLP/temp/file_486.txt ... writing to /media/NAS/Tesis/NER/Stanford_NLP/file_486.txt.out\n",
      "Annotating file /media/NAS/Tesis/NER/Stanford_NLP/temp/file_486.txt ... done [0.0 sec].\n",
      "Processing file /media/NAS/Tesis/NER/Stanford_NLP/temp/file_487.txt ... writing to /media/NAS/Tesis/NER/Stanford_NLP/file_487.txt.out\n",
      "Annotating file /media/NAS/Tesis/NER/Stanford_NLP/temp/file_487.txt ... done [0.1 sec].\n",
      "Processing file /media/NAS/Tesis/NER/Stanford_NLP/temp/file_488.txt ... writing to /media/NAS/Tesis/NER/Stanford_NLP/file_488.txt.out\n",
      "Annotating file /media/NAS/Tesis/NER/Stanford_NLP/temp/file_488.txt ... done [0.0 sec].\n",
      "Processing file /media/NAS/Tesis/NER/Stanford_NLP/temp/file_489.txt ... writing to /media/NAS/Tesis/NER/Stanford_NLP/file_489.txt.out\n",
      "Annotating file /media/NAS/Tesis/NER/Stanford_NLP/temp/file_489.txt ... done [0.1 sec].\n",
      "Processing file /media/NAS/Tesis/NER/Stanford_NLP/temp/file_490.txt ... writing to /media/NAS/Tesis/NER/Stanford_NLP/file_490.txt.out\n",
      "Annotating file /media/NAS/Tesis/NER/Stanford_NLP/temp/file_490.txt ... done [0.1 sec].\n",
      "Processing file /media/NAS/Tesis/NER/Stanford_NLP/temp/file_491.txt ... writing to /media/NAS/Tesis/NER/Stanford_NLP/file_491.txt.out\n",
      "Annotating file /media/NAS/Tesis/NER/Stanford_NLP/temp/file_491.txt ... done [0.2 sec].\n",
      "Processing file /media/NAS/Tesis/NER/Stanford_NLP/temp/file_492.txt ... writing to /media/NAS/Tesis/NER/Stanford_NLP/file_492.txt.out\n",
      "Annotating file /media/NAS/Tesis/NER/Stanford_NLP/temp/file_492.txt ... done [0.1 sec].\n",
      "Processing file /media/NAS/Tesis/NER/Stanford_NLP/temp/file_493.txt ... writing to /media/NAS/Tesis/NER/Stanford_NLP/file_493.txt.out\n",
      "Annotating file /media/NAS/Tesis/NER/Stanford_NLP/temp/file_493.txt ... done [0.1 sec].\n",
      "Processing file /media/NAS/Tesis/NER/Stanford_NLP/temp/file_494.txt ... writing to /media/NAS/Tesis/NER/Stanford_NLP/file_494.txt.out\n",
      "Annotating file /media/NAS/Tesis/NER/Stanford_NLP/temp/file_494.txt ... done [0.1 sec].\n",
      "Processing file /media/NAS/Tesis/NER/Stanford_NLP/temp/file_495.txt ... writing to /media/NAS/Tesis/NER/Stanford_NLP/file_495.txt.out\n",
      "Annotating file /media/NAS/Tesis/NER/Stanford_NLP/temp/file_495.txt ... done [0.1 sec].\n",
      "Processing file /media/NAS/Tesis/NER/Stanford_NLP/temp/file_496.txt ... writing to /media/NAS/Tesis/NER/Stanford_NLP/file_496.txt.out\n",
      "Annotating file /media/NAS/Tesis/NER/Stanford_NLP/temp/file_496.txt ... done [0.1 sec].\n",
      "Processing file /media/NAS/Tesis/NER/Stanford_NLP/temp/file_497.txt ... writing to /media/NAS/Tesis/NER/Stanford_NLP/file_497.txt.out\n",
      "Annotating file /media/NAS/Tesis/NER/Stanford_NLP/temp/file_497.txt ... done [0.1 sec].\n",
      "Processing file /media/NAS/Tesis/NER/Stanford_NLP/temp/file_498.txt ... writing to /media/NAS/Tesis/NER/Stanford_NLP/file_498.txt.out\n",
      "Annotating file /media/NAS/Tesis/NER/Stanford_NLP/temp/file_498.txt ... done [0.1 sec].\n",
      "Processing file /media/NAS/Tesis/NER/Stanford_NLP/temp/file_499.txt ... writing to /media/NAS/Tesis/NER/Stanford_NLP/file_499.txt.out\n",
      "Annotating file /media/NAS/Tesis/NER/Stanford_NLP/temp/file_499.txt ... done [0.1 sec].\n",
      "\n",
      "Annotation pipeline timing information:\n",
      "TokenizerAnnotator: 0.0 sec.\n",
      "WordsToSentencesAnnotator: 0.0 sec.\n",
      "MWTAnnotator: 0.0 sec.\n",
      "POSTaggerAnnotator: 3.3 sec.\n",
      "MorphaAnnotator: 0.0 sec.\n",
      "NERCombinerAnnotator: 4.8 sec.\n",
      "DependencyParseAnnotator: 19.9 sec.\n",
      "KBPAnnotator: 19.7 sec.\n",
      "TOTAL: 47.8 sec. for 64770 tokens at 1356.1 tokens/sec.\n",
      "Pipeline setup: 5.2 sec.\n",
      "Total time for StanfordCoreNLP pipeline: 57.8 sec.\n"
     ]
    },
    {
     "name": "stdout",
     "output_type": "stream",
     "text": [
      "500\n",
      "export CLASSPATH=$CLASSPATH:/media/NAS/Tesis/NER/Stanford_NLP/stanford-corenlp-4.3.1/* && java -Xmx5g edu.stanford.nlp.pipeline.StanfordCoreNLP -props spanish -filelist list.txt\n"
     ]
    },
    {
     "name": "stderr",
     "output_type": "stream",
     "text": [
      "[main] INFO edu.stanford.nlp.pipeline.StanfordCoreNLP - Adding annotator tokenize\n",
      "[main] INFO edu.stanford.nlp.pipeline.StanfordCoreNLP - Adding annotator ssplit\n",
      "[main] INFO edu.stanford.nlp.pipeline.StanfordCoreNLP - Adding annotator mwt\n",
      "[main] INFO edu.stanford.nlp.pipeline.StanfordCoreNLP - Adding annotator pos\n",
      "[main] INFO edu.stanford.nlp.tagger.maxent.MaxentTagger - Loading POS tagger from edu/stanford/nlp/models/pos-tagger/spanish-ud.tagger ... done [0.3 sec].\n",
      "[main] INFO edu.stanford.nlp.pipeline.StanfordCoreNLP - Adding annotator lemma\n",
      "[main] INFO edu.stanford.nlp.pipeline.StanfordCoreNLP - Adding annotator ner\n",
      "[main] INFO edu.stanford.nlp.sequences.SeqClassifierFlags - sutime.language=spanish\n",
      "[main] INFO edu.stanford.nlp.ie.AbstractSequenceClassifier - Loading classifier from edu/stanford/nlp/models/ner/spanish.ancora.distsim.s512.crf.ser.gz ... done [0.5 sec].\n",
      "[main] INFO edu.stanford.nlp.time.JollyDayHolidays - Initializing JollyDayHoliday for SUTime from classpath edu/stanford/nlp/models/sutime/jollyday/Holidays_sutime.xml as sutime.binder.1.\n",
      "[main] INFO edu.stanford.nlp.time.TimeExpressionExtractorImpl - Using following SUTime rules: edu/stanford/nlp/models/sutime/defs.sutime.txt,edu/stanford/nlp/models/sutime/spanish.sutime.txt\n",
      "[main] INFO edu.stanford.nlp.pipeline.TokensRegexNERAnnotator - spanish.number.regexner: Read 3 unique entries out of 3 from edu/stanford/nlp/models/kbp/spanish/gazetteers/kbp_regexner_number_sp.tag, 0 TokensRegex patterns.\n",
      "[main] INFO edu.stanford.nlp.pipeline.TokensRegexNERAnnotator - ner.fine.regexner: Read 50998 unique entries out of 50999 from edu/stanford/nlp/models/kbp/spanish/gazetteers/kbp_regexner_mapping_sp.tag, 0 TokensRegex patterns.\n",
      "[main] INFO edu.stanford.nlp.pipeline.NERCombinerAnnotator - numeric classifiers: true; SUTime: true [no docDate]; fine grained: true\n",
      "[main] INFO edu.stanford.nlp.pipeline.StanfordCoreNLP - Adding annotator depparse\n",
      "[main] INFO edu.stanford.nlp.parser.nndep.DependencyParser - Loading depparse model: edu/stanford/nlp/models/parser/nndep/UD_Spanish.gz ... Time elapsed: 1.0 sec\n",
      "[main] INFO edu.stanford.nlp.parser.nndep.Classifier - PreComputed 20000 vectors, elapsed Time: 1.908 sec\n",
      "[main] INFO edu.stanford.nlp.parser.nndep.DependencyParser - Initializing dependency parser ... done [2.9 sec].\n",
      "[main] INFO edu.stanford.nlp.pipeline.StanfordCoreNLP - Adding annotator kbp\n",
      "\n",
      "Processing file /media/NAS/Tesis/NER/Stanford_NLP/temp/file_0.txt ... writing to /media/NAS/Tesis/NER/Stanford_NLP/file_0.txt.out\n",
      "Annotating file /media/NAS/Tesis/NER/Stanford_NLP/temp/file_0.txt ... done [0.4 sec].\n",
      "Processing file /media/NAS/Tesis/NER/Stanford_NLP/temp/file_1.txt ... writing to /media/NAS/Tesis/NER/Stanford_NLP/file_1.txt.out\n",
      "Annotating file /media/NAS/Tesis/NER/Stanford_NLP/temp/file_1.txt ... done [0.3 sec].\n",
      "Processing file /media/NAS/Tesis/NER/Stanford_NLP/temp/file_2.txt ... writing to /media/NAS/Tesis/NER/Stanford_NLP/file_2.txt.out\n",
      "Annotating file /media/NAS/Tesis/NER/Stanford_NLP/temp/file_2.txt ... done [0.3 sec].\n",
      "Processing file /media/NAS/Tesis/NER/Stanford_NLP/temp/file_3.txt ... writing to /media/NAS/Tesis/NER/Stanford_NLP/file_3.txt.out\n",
      "Annotating file /media/NAS/Tesis/NER/Stanford_NLP/temp/file_3.txt ... done [0.1 sec].\n",
      "Processing file /media/NAS/Tesis/NER/Stanford_NLP/temp/file_4.txt ... writing to /media/NAS/Tesis/NER/Stanford_NLP/file_4.txt.out\n",
      "Annotating file /media/NAS/Tesis/NER/Stanford_NLP/temp/file_4.txt ... done [0.5 sec].\n",
      "Processing file /media/NAS/Tesis/NER/Stanford_NLP/temp/file_5.txt ... writing to /media/NAS/Tesis/NER/Stanford_NLP/file_5.txt.out\n",
      "Annotating file /media/NAS/Tesis/NER/Stanford_NLP/temp/file_5.txt ... done [0.3 sec].\n",
      "Processing file /media/NAS/Tesis/NER/Stanford_NLP/temp/file_6.txt ... writing to /media/NAS/Tesis/NER/Stanford_NLP/file_6.txt.out\n",
      "Annotating file /media/NAS/Tesis/NER/Stanford_NLP/temp/file_6.txt ... done [0.1 sec].\n",
      "Processing file /media/NAS/Tesis/NER/Stanford_NLP/temp/file_7.txt ... writing to /media/NAS/Tesis/NER/Stanford_NLP/file_7.txt.out\n",
      "Annotating file /media/NAS/Tesis/NER/Stanford_NLP/temp/file_7.txt ... done [0.2 sec].\n",
      "Processing file /media/NAS/Tesis/NER/Stanford_NLP/temp/file_8.txt ... writing to /media/NAS/Tesis/NER/Stanford_NLP/file_8.txt.out\n",
      "Annotating file /media/NAS/Tesis/NER/Stanford_NLP/temp/file_8.txt ... done [0.2 sec].\n",
      "Processing file /media/NAS/Tesis/NER/Stanford_NLP/temp/file_9.txt ... writing to /media/NAS/Tesis/NER/Stanford_NLP/file_9.txt.out\n",
      "Annotating file /media/NAS/Tesis/NER/Stanford_NLP/temp/file_9.txt ... done [0.1 sec].\n",
      "Processing file /media/NAS/Tesis/NER/Stanford_NLP/temp/file_10.txt ... writing to /media/NAS/Tesis/NER/Stanford_NLP/file_10.txt.out\n",
      "Annotating file /media/NAS/Tesis/NER/Stanford_NLP/temp/file_10.txt ... done [0.1 sec].\n",
      "Processing file /media/NAS/Tesis/NER/Stanford_NLP/temp/file_11.txt ... writing to /media/NAS/Tesis/NER/Stanford_NLP/file_11.txt.out\n",
      "Annotating file /media/NAS/Tesis/NER/Stanford_NLP/temp/file_11.txt ... done [0.1 sec].\n",
      "Processing file /media/NAS/Tesis/NER/Stanford_NLP/temp/file_12.txt ... writing to /media/NAS/Tesis/NER/Stanford_NLP/file_12.txt.out\n",
      "Annotating file /media/NAS/Tesis/NER/Stanford_NLP/temp/file_12.txt ... done [0.1 sec].\n",
      "Processing file /media/NAS/Tesis/NER/Stanford_NLP/temp/file_13.txt ... writing to /media/NAS/Tesis/NER/Stanford_NLP/file_13.txt.out\n",
      "Annotating file /media/NAS/Tesis/NER/Stanford_NLP/temp/file_13.txt ... done [0.2 sec].\n",
      "Processing file /media/NAS/Tesis/NER/Stanford_NLP/temp/file_14.txt ... writing to /media/NAS/Tesis/NER/Stanford_NLP/file_14.txt.out\n",
      "Annotating file /media/NAS/Tesis/NER/Stanford_NLP/temp/file_14.txt ... done [0.1 sec].\n",
      "Processing file /media/NAS/Tesis/NER/Stanford_NLP/temp/file_15.txt ... writing to /media/NAS/Tesis/NER/Stanford_NLP/file_15.txt.out\n",
      "Annotating file /media/NAS/Tesis/NER/Stanford_NLP/temp/file_15.txt ... done [0.1 sec].\n",
      "Processing file /media/NAS/Tesis/NER/Stanford_NLP/temp/file_16.txt ... writing to /media/NAS/Tesis/NER/Stanford_NLP/file_16.txt.out\n",
      "Annotating file /media/NAS/Tesis/NER/Stanford_NLP/temp/file_16.txt ... done [0.1 sec].\n",
      "Processing file /media/NAS/Tesis/NER/Stanford_NLP/temp/file_17.txt ... writing to /media/NAS/Tesis/NER/Stanford_NLP/file_17.txt.out\n",
      "Annotating file /media/NAS/Tesis/NER/Stanford_NLP/temp/file_17.txt ... done [0.1 sec].\n",
      "Processing file /media/NAS/Tesis/NER/Stanford_NLP/temp/file_18.txt ... writing to /media/NAS/Tesis/NER/Stanford_NLP/file_18.txt.out\n",
      "Annotating file /media/NAS/Tesis/NER/Stanford_NLP/temp/file_18.txt ... done [0.1 sec].\n",
      "Processing file /media/NAS/Tesis/NER/Stanford_NLP/temp/file_19.txt ... writing to /media/NAS/Tesis/NER/Stanford_NLP/file_19.txt.out\n",
      "Annotating file /media/NAS/Tesis/NER/Stanford_NLP/temp/file_19.txt ... done [0.1 sec].\n",
      "Processing file /media/NAS/Tesis/NER/Stanford_NLP/temp/file_20.txt ... writing to /media/NAS/Tesis/NER/Stanford_NLP/file_20.txt.out\n",
      "Annotating file /media/NAS/Tesis/NER/Stanford_NLP/temp/file_20.txt ... done [0.1 sec].\n",
      "Processing file /media/NAS/Tesis/NER/Stanford_NLP/temp/file_21.txt ... writing to /media/NAS/Tesis/NER/Stanford_NLP/file_21.txt.out\n",
      "Annotating file /media/NAS/Tesis/NER/Stanford_NLP/temp/file_21.txt ... done [0.0 sec].\n",
      "Processing file /media/NAS/Tesis/NER/Stanford_NLP/temp/file_22.txt ... writing to /media/NAS/Tesis/NER/Stanford_NLP/file_22.txt.out\n",
      "Annotating file /media/NAS/Tesis/NER/Stanford_NLP/temp/file_22.txt ... done [0.1 sec].\n",
      "Processing file /media/NAS/Tesis/NER/Stanford_NLP/temp/file_23.txt ... writing to /media/NAS/Tesis/NER/Stanford_NLP/file_23.txt.out\n",
      "Annotating file /media/NAS/Tesis/NER/Stanford_NLP/temp/file_23.txt ... done [0.1 sec].\n",
      "Processing file /media/NAS/Tesis/NER/Stanford_NLP/temp/file_24.txt ... writing to /media/NAS/Tesis/NER/Stanford_NLP/file_24.txt.out\n",
      "Annotating file /media/NAS/Tesis/NER/Stanford_NLP/temp/file_24.txt ... done [0.1 sec].\n",
      "Processing file /media/NAS/Tesis/NER/Stanford_NLP/temp/file_25.txt ... writing to /media/NAS/Tesis/NER/Stanford_NLP/file_25.txt.out\n",
      "Annotating file /media/NAS/Tesis/NER/Stanford_NLP/temp/file_25.txt ... done [0.1 sec].\n",
      "Processing file /media/NAS/Tesis/NER/Stanford_NLP/temp/file_26.txt ... writing to /media/NAS/Tesis/NER/Stanford_NLP/file_26.txt.out\n",
      "Annotating file /media/NAS/Tesis/NER/Stanford_NLP/temp/file_26.txt ... done [0.1 sec].\n",
      "Processing file /media/NAS/Tesis/NER/Stanford_NLP/temp/file_27.txt ... writing to /media/NAS/Tesis/NER/Stanford_NLP/file_27.txt.out\n",
      "Annotating file /media/NAS/Tesis/NER/Stanford_NLP/temp/file_27.txt ... done [0.1 sec].\n",
      "Processing file /media/NAS/Tesis/NER/Stanford_NLP/temp/file_28.txt ... writing to /media/NAS/Tesis/NER/Stanford_NLP/file_28.txt.out\n",
      "Annotating file /media/NAS/Tesis/NER/Stanford_NLP/temp/file_28.txt ... done [0.1 sec].\n",
      "Processing file /media/NAS/Tesis/NER/Stanford_NLP/temp/file_29.txt ... writing to /media/NAS/Tesis/NER/Stanford_NLP/file_29.txt.out\n",
      "Annotating file /media/NAS/Tesis/NER/Stanford_NLP/temp/file_29.txt ... done [0.1 sec].\n",
      "Processing file /media/NAS/Tesis/NER/Stanford_NLP/temp/file_30.txt ... writing to /media/NAS/Tesis/NER/Stanford_NLP/file_30.txt.out\n",
      "Annotating file /media/NAS/Tesis/NER/Stanford_NLP/temp/file_30.txt ... done [0.1 sec].\n",
      "Processing file /media/NAS/Tesis/NER/Stanford_NLP/temp/file_31.txt ... writing to /media/NAS/Tesis/NER/Stanford_NLP/file_31.txt.out\n",
      "Annotating file /media/NAS/Tesis/NER/Stanford_NLP/temp/file_31.txt ... done [0.1 sec].\n",
      "Processing file /media/NAS/Tesis/NER/Stanford_NLP/temp/file_32.txt ... writing to /media/NAS/Tesis/NER/Stanford_NLP/file_32.txt.out\n",
      "Annotating file /media/NAS/Tesis/NER/Stanford_NLP/temp/file_32.txt ... done [0.1 sec].\n",
      "Processing file /media/NAS/Tesis/NER/Stanford_NLP/temp/file_33.txt ... writing to /media/NAS/Tesis/NER/Stanford_NLP/file_33.txt.out\n",
      "Annotating file /media/NAS/Tesis/NER/Stanford_NLP/temp/file_33.txt ... done [0.1 sec].\n",
      "Processing file /media/NAS/Tesis/NER/Stanford_NLP/temp/file_34.txt ... writing to /media/NAS/Tesis/NER/Stanford_NLP/file_34.txt.out\n",
      "Annotating file /media/NAS/Tesis/NER/Stanford_NLP/temp/file_34.txt ... done [0.4 sec].\n",
      "Processing file /media/NAS/Tesis/NER/Stanford_NLP/temp/file_35.txt ... writing to /media/NAS/Tesis/NER/Stanford_NLP/file_35.txt.out\n",
      "Annotating file /media/NAS/Tesis/NER/Stanford_NLP/temp/file_35.txt ... done [0.1 sec].\n",
      "Processing file /media/NAS/Tesis/NER/Stanford_NLP/temp/file_36.txt ... writing to /media/NAS/Tesis/NER/Stanford_NLP/file_36.txt.out\n",
      "Annotating file /media/NAS/Tesis/NER/Stanford_NLP/temp/file_36.txt ... done [0.4 sec].\n",
      "Processing file /media/NAS/Tesis/NER/Stanford_NLP/temp/file_37.txt ... writing to /media/NAS/Tesis/NER/Stanford_NLP/file_37.txt.out\n",
      "Annotating file /media/NAS/Tesis/NER/Stanford_NLP/temp/file_37.txt ... done [0.1 sec].\n",
      "Processing file /media/NAS/Tesis/NER/Stanford_NLP/temp/file_38.txt ... writing to /media/NAS/Tesis/NER/Stanford_NLP/file_38.txt.out\n",
      "Annotating file /media/NAS/Tesis/NER/Stanford_NLP/temp/file_38.txt ... done [0.1 sec].\n",
      "Processing file /media/NAS/Tesis/NER/Stanford_NLP/temp/file_39.txt ... writing to /media/NAS/Tesis/NER/Stanford_NLP/file_39.txt.out\n",
      "Annotating file /media/NAS/Tesis/NER/Stanford_NLP/temp/file_39.txt ... done [0.1 sec].\n",
      "Processing file /media/NAS/Tesis/NER/Stanford_NLP/temp/file_40.txt ... writing to /media/NAS/Tesis/NER/Stanford_NLP/file_40.txt.out\n",
      "Annotating file /media/NAS/Tesis/NER/Stanford_NLP/temp/file_40.txt ... done [0.1 sec].\n",
      "Processing file /media/NAS/Tesis/NER/Stanford_NLP/temp/file_41.txt ... writing to /media/NAS/Tesis/NER/Stanford_NLP/file_41.txt.out\n",
      "Annotating file /media/NAS/Tesis/NER/Stanford_NLP/temp/file_41.txt ... done [0.1 sec].\n",
      "Processing file /media/NAS/Tesis/NER/Stanford_NLP/temp/file_42.txt ... writing to /media/NAS/Tesis/NER/Stanford_NLP/file_42.txt.out\n",
      "Annotating file /media/NAS/Tesis/NER/Stanford_NLP/temp/file_42.txt ... done [0.1 sec].\n",
      "Processing file /media/NAS/Tesis/NER/Stanford_NLP/temp/file_43.txt ... writing to /media/NAS/Tesis/NER/Stanford_NLP/file_43.txt.out\n",
      "Annotating file /media/NAS/Tesis/NER/Stanford_NLP/temp/file_43.txt ... done [0.1 sec].\n",
      "Processing file /media/NAS/Tesis/NER/Stanford_NLP/temp/file_44.txt ... writing to /media/NAS/Tesis/NER/Stanford_NLP/file_44.txt.out\n",
      "Annotating file /media/NAS/Tesis/NER/Stanford_NLP/temp/file_44.txt ... done [0.1 sec].\n",
      "Processing file /media/NAS/Tesis/NER/Stanford_NLP/temp/file_45.txt ... writing to /media/NAS/Tesis/NER/Stanford_NLP/file_45.txt.out\n",
      "Annotating file /media/NAS/Tesis/NER/Stanford_NLP/temp/file_45.txt ... done [0.1 sec].\n",
      "Processing file /media/NAS/Tesis/NER/Stanford_NLP/temp/file_46.txt ... writing to /media/NAS/Tesis/NER/Stanford_NLP/file_46.txt.out\n",
      "Annotating file /media/NAS/Tesis/NER/Stanford_NLP/temp/file_46.txt ... done [0.2 sec].\n",
      "Processing file /media/NAS/Tesis/NER/Stanford_NLP/temp/file_47.txt ... writing to /media/NAS/Tesis/NER/Stanford_NLP/file_47.txt.out\n",
      "Annotating file /media/NAS/Tesis/NER/Stanford_NLP/temp/file_47.txt ... done [0.2 sec].\n",
      "Processing file /media/NAS/Tesis/NER/Stanford_NLP/temp/file_48.txt ... writing to /media/NAS/Tesis/NER/Stanford_NLP/file_48.txt.out\n",
      "Annotating file /media/NAS/Tesis/NER/Stanford_NLP/temp/file_48.txt ... done [0.1 sec].\n",
      "Processing file /media/NAS/Tesis/NER/Stanford_NLP/temp/file_49.txt ... writing to /media/NAS/Tesis/NER/Stanford_NLP/file_49.txt.out\n",
      "Annotating file /media/NAS/Tesis/NER/Stanford_NLP/temp/file_49.txt ... done [0.1 sec].\n",
      "Processing file /media/NAS/Tesis/NER/Stanford_NLP/temp/file_50.txt ... writing to /media/NAS/Tesis/NER/Stanford_NLP/file_50.txt.out\n",
      "Annotating file /media/NAS/Tesis/NER/Stanford_NLP/temp/file_50.txt ... done [0.1 sec].\n",
      "Processing file /media/NAS/Tesis/NER/Stanford_NLP/temp/file_51.txt ... writing to /media/NAS/Tesis/NER/Stanford_NLP/file_51.txt.out\n",
      "Annotating file /media/NAS/Tesis/NER/Stanford_NLP/temp/file_51.txt ... done [0.1 sec].\n",
      "Processing file /media/NAS/Tesis/NER/Stanford_NLP/temp/file_52.txt ... writing to /media/NAS/Tesis/NER/Stanford_NLP/file_52.txt.out\n",
      "Annotating file /media/NAS/Tesis/NER/Stanford_NLP/temp/file_52.txt ... done [0.1 sec].\n",
      "Processing file /media/NAS/Tesis/NER/Stanford_NLP/temp/file_53.txt ... writing to /media/NAS/Tesis/NER/Stanford_NLP/file_53.txt.out\n",
      "Annotating file /media/NAS/Tesis/NER/Stanford_NLP/temp/file_53.txt ... done [0.1 sec].\n",
      "Processing file /media/NAS/Tesis/NER/Stanford_NLP/temp/file_54.txt ... writing to /media/NAS/Tesis/NER/Stanford_NLP/file_54.txt.out\n",
      "Annotating file /media/NAS/Tesis/NER/Stanford_NLP/temp/file_54.txt ... done [0.1 sec].\n",
      "Processing file /media/NAS/Tesis/NER/Stanford_NLP/temp/file_55.txt ... writing to /media/NAS/Tesis/NER/Stanford_NLP/file_55.txt.out\n",
      "Annotating file /media/NAS/Tesis/NER/Stanford_NLP/temp/file_55.txt ... done [0.1 sec].\n",
      "Processing file /media/NAS/Tesis/NER/Stanford_NLP/temp/file_56.txt ... writing to /media/NAS/Tesis/NER/Stanford_NLP/file_56.txt.out\n",
      "Annotating file /media/NAS/Tesis/NER/Stanford_NLP/temp/file_56.txt ... done [0.1 sec].\n",
      "Processing file /media/NAS/Tesis/NER/Stanford_NLP/temp/file_57.txt ... writing to /media/NAS/Tesis/NER/Stanford_NLP/file_57.txt.out\n",
      "Annotating file /media/NAS/Tesis/NER/Stanford_NLP/temp/file_57.txt ... done [0.1 sec].\n",
      "Processing file /media/NAS/Tesis/NER/Stanford_NLP/temp/file_58.txt ... writing to /media/NAS/Tesis/NER/Stanford_NLP/file_58.txt.out\n",
      "Annotating file /media/NAS/Tesis/NER/Stanford_NLP/temp/file_58.txt ... done [0.1 sec].\n",
      "Processing file /media/NAS/Tesis/NER/Stanford_NLP/temp/file_59.txt ... writing to /media/NAS/Tesis/NER/Stanford_NLP/file_59.txt.out\n",
      "Annotating file /media/NAS/Tesis/NER/Stanford_NLP/temp/file_59.txt ... done [0.1 sec].\n",
      "Processing file /media/NAS/Tesis/NER/Stanford_NLP/temp/file_60.txt ... writing to /media/NAS/Tesis/NER/Stanford_NLP/file_60.txt.out\n",
      "Annotating file /media/NAS/Tesis/NER/Stanford_NLP/temp/file_60.txt ... done [0.1 sec].\n",
      "Processing file /media/NAS/Tesis/NER/Stanford_NLP/temp/file_61.txt ... writing to /media/NAS/Tesis/NER/Stanford_NLP/file_61.txt.out\n",
      "Annotating file /media/NAS/Tesis/NER/Stanford_NLP/temp/file_61.txt ... done [0.1 sec].\n",
      "Processing file /media/NAS/Tesis/NER/Stanford_NLP/temp/file_62.txt ... writing to /media/NAS/Tesis/NER/Stanford_NLP/file_62.txt.out\n",
      "Annotating file /media/NAS/Tesis/NER/Stanford_NLP/temp/file_62.txt ... done [0.1 sec].\n",
      "Processing file /media/NAS/Tesis/NER/Stanford_NLP/temp/file_63.txt ... writing to /media/NAS/Tesis/NER/Stanford_NLP/file_63.txt.out\n",
      "Annotating file /media/NAS/Tesis/NER/Stanford_NLP/temp/file_63.txt ... done [0.0 sec].\n",
      "Processing file /media/NAS/Tesis/NER/Stanford_NLP/temp/file_64.txt ... writing to /media/NAS/Tesis/NER/Stanford_NLP/file_64.txt.out\n",
      "Annotating file /media/NAS/Tesis/NER/Stanford_NLP/temp/file_64.txt ... done [0.1 sec].\n",
      "Processing file /media/NAS/Tesis/NER/Stanford_NLP/temp/file_65.txt ... writing to /media/NAS/Tesis/NER/Stanford_NLP/file_65.txt.out\n",
      "Annotating file /media/NAS/Tesis/NER/Stanford_NLP/temp/file_65.txt ... done [0.1 sec].\n",
      "Processing file /media/NAS/Tesis/NER/Stanford_NLP/temp/file_66.txt ... writing to /media/NAS/Tesis/NER/Stanford_NLP/file_66.txt.out\n",
      "Annotating file /media/NAS/Tesis/NER/Stanford_NLP/temp/file_66.txt ... done [0.1 sec].\n",
      "Processing file /media/NAS/Tesis/NER/Stanford_NLP/temp/file_67.txt ... writing to /media/NAS/Tesis/NER/Stanford_NLP/file_67.txt.out\n",
      "Annotating file /media/NAS/Tesis/NER/Stanford_NLP/temp/file_67.txt ... done [0.1 sec].\n",
      "Processing file /media/NAS/Tesis/NER/Stanford_NLP/temp/file_68.txt ... writing to /media/NAS/Tesis/NER/Stanford_NLP/file_68.txt.out\n",
      "Annotating file /media/NAS/Tesis/NER/Stanford_NLP/temp/file_68.txt ... done [0.0 sec].\n",
      "Processing file /media/NAS/Tesis/NER/Stanford_NLP/temp/file_69.txt ... writing to /media/NAS/Tesis/NER/Stanford_NLP/file_69.txt.out\n",
      "Annotating file /media/NAS/Tesis/NER/Stanford_NLP/temp/file_69.txt ... done [0.1 sec].\n",
      "Processing file /media/NAS/Tesis/NER/Stanford_NLP/temp/file_70.txt ... writing to /media/NAS/Tesis/NER/Stanford_NLP/file_70.txt.out\n",
      "Annotating file /media/NAS/Tesis/NER/Stanford_NLP/temp/file_70.txt ... done [0.1 sec].\n",
      "Processing file /media/NAS/Tesis/NER/Stanford_NLP/temp/file_71.txt ... writing to /media/NAS/Tesis/NER/Stanford_NLP/file_71.txt.out\n",
      "Annotating file /media/NAS/Tesis/NER/Stanford_NLP/temp/file_71.txt ... done [0.0 sec].\n",
      "Processing file /media/NAS/Tesis/NER/Stanford_NLP/temp/file_72.txt ... writing to /media/NAS/Tesis/NER/Stanford_NLP/file_72.txt.out\n",
      "Annotating file /media/NAS/Tesis/NER/Stanford_NLP/temp/file_72.txt ... done [0.1 sec].\n",
      "Processing file /media/NAS/Tesis/NER/Stanford_NLP/temp/file_73.txt ... writing to /media/NAS/Tesis/NER/Stanford_NLP/file_73.txt.out\n",
      "Annotating file /media/NAS/Tesis/NER/Stanford_NLP/temp/file_73.txt ... done [0.1 sec].\n",
      "Processing file /media/NAS/Tesis/NER/Stanford_NLP/temp/file_74.txt ... writing to /media/NAS/Tesis/NER/Stanford_NLP/file_74.txt.out\n",
      "Annotating file /media/NAS/Tesis/NER/Stanford_NLP/temp/file_74.txt ... done [0.0 sec].\n",
      "Processing file /media/NAS/Tesis/NER/Stanford_NLP/temp/file_75.txt ... writing to /media/NAS/Tesis/NER/Stanford_NLP/file_75.txt.out\n",
      "Annotating file /media/NAS/Tesis/NER/Stanford_NLP/temp/file_75.txt ... done [0.1 sec].\n",
      "Processing file /media/NAS/Tesis/NER/Stanford_NLP/temp/file_76.txt ... writing to /media/NAS/Tesis/NER/Stanford_NLP/file_76.txt.out\n",
      "Annotating file /media/NAS/Tesis/NER/Stanford_NLP/temp/file_76.txt ... done [0.0 sec].\n",
      "Processing file /media/NAS/Tesis/NER/Stanford_NLP/temp/file_77.txt ... writing to /media/NAS/Tesis/NER/Stanford_NLP/file_77.txt.out\n",
      "Annotating file /media/NAS/Tesis/NER/Stanford_NLP/temp/file_77.txt ... done [0.1 sec].\n",
      "Processing file /media/NAS/Tesis/NER/Stanford_NLP/temp/file_78.txt ... writing to /media/NAS/Tesis/NER/Stanford_NLP/file_78.txt.out\n",
      "Annotating file /media/NAS/Tesis/NER/Stanford_NLP/temp/file_78.txt ... done [0.3 sec].\n",
      "Processing file /media/NAS/Tesis/NER/Stanford_NLP/temp/file_79.txt ... writing to /media/NAS/Tesis/NER/Stanford_NLP/file_79.txt.out\n",
      "Annotating file /media/NAS/Tesis/NER/Stanford_NLP/temp/file_79.txt ... done [0.2 sec].\n",
      "Processing file /media/NAS/Tesis/NER/Stanford_NLP/temp/file_80.txt ... writing to /media/NAS/Tesis/NER/Stanford_NLP/file_80.txt.out\n",
      "Annotating file /media/NAS/Tesis/NER/Stanford_NLP/temp/file_80.txt ... done [0.1 sec].\n",
      "Processing file /media/NAS/Tesis/NER/Stanford_NLP/temp/file_81.txt ... writing to /media/NAS/Tesis/NER/Stanford_NLP/file_81.txt.out\n",
      "Annotating file /media/NAS/Tesis/NER/Stanford_NLP/temp/file_81.txt ... done [0.1 sec].\n",
      "Processing file /media/NAS/Tesis/NER/Stanford_NLP/temp/file_82.txt ... writing to /media/NAS/Tesis/NER/Stanford_NLP/file_82.txt.out\n",
      "Annotating file /media/NAS/Tesis/NER/Stanford_NLP/temp/file_82.txt ... done [0.1 sec].\n",
      "Processing file /media/NAS/Tesis/NER/Stanford_NLP/temp/file_83.txt ... writing to /media/NAS/Tesis/NER/Stanford_NLP/file_83.txt.out\n",
      "Annotating file /media/NAS/Tesis/NER/Stanford_NLP/temp/file_83.txt ... done [0.2 sec].\n",
      "Processing file /media/NAS/Tesis/NER/Stanford_NLP/temp/file_84.txt ... writing to /media/NAS/Tesis/NER/Stanford_NLP/file_84.txt.out\n",
      "Annotating file /media/NAS/Tesis/NER/Stanford_NLP/temp/file_84.txt ... done [1.0 sec].\n",
      "Processing file /media/NAS/Tesis/NER/Stanford_NLP/temp/file_85.txt ... writing to /media/NAS/Tesis/NER/Stanford_NLP/file_85.txt.out\n",
      "Annotating file /media/NAS/Tesis/NER/Stanford_NLP/temp/file_85.txt ... done [0.1 sec].\n",
      "Processing file /media/NAS/Tesis/NER/Stanford_NLP/temp/file_86.txt ... writing to /media/NAS/Tesis/NER/Stanford_NLP/file_86.txt.out\n",
      "Annotating file /media/NAS/Tesis/NER/Stanford_NLP/temp/file_86.txt ... done [0.1 sec].\n",
      "Processing file /media/NAS/Tesis/NER/Stanford_NLP/temp/file_87.txt ... writing to /media/NAS/Tesis/NER/Stanford_NLP/file_87.txt.out\n",
      "Annotating file /media/NAS/Tesis/NER/Stanford_NLP/temp/file_87.txt ... done [0.3 sec].\n",
      "Processing file /media/NAS/Tesis/NER/Stanford_NLP/temp/file_88.txt ... writing to /media/NAS/Tesis/NER/Stanford_NLP/file_88.txt.out\n",
      "Annotating file /media/NAS/Tesis/NER/Stanford_NLP/temp/file_88.txt ... done [0.1 sec].\n",
      "Processing file /media/NAS/Tesis/NER/Stanford_NLP/temp/file_89.txt ... writing to /media/NAS/Tesis/NER/Stanford_NLP/file_89.txt.out\n",
      "Annotating file /media/NAS/Tesis/NER/Stanford_NLP/temp/file_89.txt ... done [0.2 sec].\n",
      "Processing file /media/NAS/Tesis/NER/Stanford_NLP/temp/file_90.txt ... writing to /media/NAS/Tesis/NER/Stanford_NLP/file_90.txt.out\n",
      "Annotating file /media/NAS/Tesis/NER/Stanford_NLP/temp/file_90.txt ... done [0.1 sec].\n",
      "Processing file /media/NAS/Tesis/NER/Stanford_NLP/temp/file_91.txt ... writing to /media/NAS/Tesis/NER/Stanford_NLP/file_91.txt.out\n",
      "Annotating file /media/NAS/Tesis/NER/Stanford_NLP/temp/file_91.txt ... done [0.1 sec].\n",
      "Processing file /media/NAS/Tesis/NER/Stanford_NLP/temp/file_92.txt ... writing to /media/NAS/Tesis/NER/Stanford_NLP/file_92.txt.out\n",
      "Annotating file /media/NAS/Tesis/NER/Stanford_NLP/temp/file_92.txt ... done [0.2 sec].\n",
      "Processing file /media/NAS/Tesis/NER/Stanford_NLP/temp/file_93.txt ... writing to /media/NAS/Tesis/NER/Stanford_NLP/file_93.txt.out\n",
      "Annotating file /media/NAS/Tesis/NER/Stanford_NLP/temp/file_93.txt ... done [0.1 sec].\n",
      "Processing file /media/NAS/Tesis/NER/Stanford_NLP/temp/file_94.txt ... writing to /media/NAS/Tesis/NER/Stanford_NLP/file_94.txt.out\n",
      "Annotating file /media/NAS/Tesis/NER/Stanford_NLP/temp/file_94.txt ... done [0.1 sec].\n",
      "Processing file /media/NAS/Tesis/NER/Stanford_NLP/temp/file_95.txt ... writing to /media/NAS/Tesis/NER/Stanford_NLP/file_95.txt.out\n",
      "Annotating file /media/NAS/Tesis/NER/Stanford_NLP/temp/file_95.txt ... done [0.1 sec].\n",
      "Processing file /media/NAS/Tesis/NER/Stanford_NLP/temp/file_96.txt ... writing to /media/NAS/Tesis/NER/Stanford_NLP/file_96.txt.out\n",
      "Annotating file /media/NAS/Tesis/NER/Stanford_NLP/temp/file_96.txt ... done [0.1 sec].\n",
      "Processing file /media/NAS/Tesis/NER/Stanford_NLP/temp/file_97.txt ... writing to /media/NAS/Tesis/NER/Stanford_NLP/file_97.txt.out\n",
      "Annotating file /media/NAS/Tesis/NER/Stanford_NLP/temp/file_97.txt ... done [0.2 sec].\n",
      "Processing file /media/NAS/Tesis/NER/Stanford_NLP/temp/file_98.txt ... writing to /media/NAS/Tesis/NER/Stanford_NLP/file_98.txt.out\n",
      "Annotating file /media/NAS/Tesis/NER/Stanford_NLP/temp/file_98.txt ... done [0.2 sec].\n",
      "Processing file /media/NAS/Tesis/NER/Stanford_NLP/temp/file_99.txt ... writing to /media/NAS/Tesis/NER/Stanford_NLP/file_99.txt.out\n",
      "Annotating file /media/NAS/Tesis/NER/Stanford_NLP/temp/file_99.txt ... done [0.1 sec].\n",
      "Processing file /media/NAS/Tesis/NER/Stanford_NLP/temp/file_100.txt ... writing to /media/NAS/Tesis/NER/Stanford_NLP/file_100.txt.out\n",
      "Annotating file /media/NAS/Tesis/NER/Stanford_NLP/temp/file_100.txt ... done [0.3 sec].\n",
      "Processing file /media/NAS/Tesis/NER/Stanford_NLP/temp/file_101.txt ... writing to /media/NAS/Tesis/NER/Stanford_NLP/file_101.txt.out\n",
      "Annotating file /media/NAS/Tesis/NER/Stanford_NLP/temp/file_101.txt ... done [0.1 sec].\n",
      "Processing file /media/NAS/Tesis/NER/Stanford_NLP/temp/file_102.txt ... writing to /media/NAS/Tesis/NER/Stanford_NLP/file_102.txt.out\n",
      "Annotating file /media/NAS/Tesis/NER/Stanford_NLP/temp/file_102.txt ... done [0.8 sec].\n",
      "Processing file /media/NAS/Tesis/NER/Stanford_NLP/temp/file_103.txt ... writing to /media/NAS/Tesis/NER/Stanford_NLP/file_103.txt.out\n",
      "Annotating file /media/NAS/Tesis/NER/Stanford_NLP/temp/file_103.txt ... done [0.1 sec].\n",
      "Processing file /media/NAS/Tesis/NER/Stanford_NLP/temp/file_104.txt ... writing to /media/NAS/Tesis/NER/Stanford_NLP/file_104.txt.out\n",
      "Annotating file /media/NAS/Tesis/NER/Stanford_NLP/temp/file_104.txt ... done [0.3 sec].\n",
      "Processing file /media/NAS/Tesis/NER/Stanford_NLP/temp/file_105.txt ... writing to /media/NAS/Tesis/NER/Stanford_NLP/file_105.txt.out\n",
      "Annotating file /media/NAS/Tesis/NER/Stanford_NLP/temp/file_105.txt ... done [0.8 sec].\n",
      "Processing file /media/NAS/Tesis/NER/Stanford_NLP/temp/file_106.txt ... writing to /media/NAS/Tesis/NER/Stanford_NLP/file_106.txt.out\n",
      "Annotating file /media/NAS/Tesis/NER/Stanford_NLP/temp/file_106.txt ... done [0.1 sec].\n",
      "Processing file /media/NAS/Tesis/NER/Stanford_NLP/temp/file_107.txt ... writing to /media/NAS/Tesis/NER/Stanford_NLP/file_107.txt.out\n",
      "Annotating file /media/NAS/Tesis/NER/Stanford_NLP/temp/file_107.txt ... done [0.1 sec].\n",
      "Processing file /media/NAS/Tesis/NER/Stanford_NLP/temp/file_108.txt ... writing to /media/NAS/Tesis/NER/Stanford_NLP/file_108.txt.out\n",
      "Annotating file /media/NAS/Tesis/NER/Stanford_NLP/temp/file_108.txt ... done [0.1 sec].\n",
      "Processing file /media/NAS/Tesis/NER/Stanford_NLP/temp/file_109.txt ... writing to /media/NAS/Tesis/NER/Stanford_NLP/file_109.txt.out\n",
      "Annotating file /media/NAS/Tesis/NER/Stanford_NLP/temp/file_109.txt ... done [0.1 sec].\n",
      "Processing file /media/NAS/Tesis/NER/Stanford_NLP/temp/file_110.txt ... writing to /media/NAS/Tesis/NER/Stanford_NLP/file_110.txt.out\n",
      "Annotating file /media/NAS/Tesis/NER/Stanford_NLP/temp/file_110.txt ... done [0.1 sec].\n",
      "Processing file /media/NAS/Tesis/NER/Stanford_NLP/temp/file_111.txt ... writing to /media/NAS/Tesis/NER/Stanford_NLP/file_111.txt.out\n",
      "Annotating file /media/NAS/Tesis/NER/Stanford_NLP/temp/file_111.txt ... done [0.1 sec].\n",
      "Processing file /media/NAS/Tesis/NER/Stanford_NLP/temp/file_112.txt ... writing to /media/NAS/Tesis/NER/Stanford_NLP/file_112.txt.out\n",
      "Annotating file /media/NAS/Tesis/NER/Stanford_NLP/temp/file_112.txt ... done [0.1 sec].\n",
      "Processing file /media/NAS/Tesis/NER/Stanford_NLP/temp/file_113.txt ... writing to /media/NAS/Tesis/NER/Stanford_NLP/file_113.txt.out\n",
      "Annotating file /media/NAS/Tesis/NER/Stanford_NLP/temp/file_113.txt ... done [0.1 sec].\n",
      "Processing file /media/NAS/Tesis/NER/Stanford_NLP/temp/file_114.txt ... writing to /media/NAS/Tesis/NER/Stanford_NLP/file_114.txt.out\n",
      "Annotating file /media/NAS/Tesis/NER/Stanford_NLP/temp/file_114.txt ... done [0.1 sec].\n",
      "Processing file /media/NAS/Tesis/NER/Stanford_NLP/temp/file_115.txt ... writing to /media/NAS/Tesis/NER/Stanford_NLP/file_115.txt.out\n",
      "Annotating file /media/NAS/Tesis/NER/Stanford_NLP/temp/file_115.txt ... done [0.1 sec].\n",
      "Processing file /media/NAS/Tesis/NER/Stanford_NLP/temp/file_116.txt ... writing to /media/NAS/Tesis/NER/Stanford_NLP/file_116.txt.out\n",
      "Annotating file /media/NAS/Tesis/NER/Stanford_NLP/temp/file_116.txt ... done [0.1 sec].\n",
      "Processing file /media/NAS/Tesis/NER/Stanford_NLP/temp/file_117.txt ... writing to /media/NAS/Tesis/NER/Stanford_NLP/file_117.txt.out\n",
      "Annotating file /media/NAS/Tesis/NER/Stanford_NLP/temp/file_117.txt ... done [0.1 sec].\n",
      "Processing file /media/NAS/Tesis/NER/Stanford_NLP/temp/file_118.txt ... writing to /media/NAS/Tesis/NER/Stanford_NLP/file_118.txt.out\n",
      "Annotating file /media/NAS/Tesis/NER/Stanford_NLP/temp/file_118.txt ... done [0.1 sec].\n",
      "Processing file /media/NAS/Tesis/NER/Stanford_NLP/temp/file_119.txt ... writing to /media/NAS/Tesis/NER/Stanford_NLP/file_119.txt.out\n",
      "Annotating file /media/NAS/Tesis/NER/Stanford_NLP/temp/file_119.txt ... done [0.1 sec].\n",
      "Processing file /media/NAS/Tesis/NER/Stanford_NLP/temp/file_120.txt ... writing to /media/NAS/Tesis/NER/Stanford_NLP/file_120.txt.out\n",
      "Annotating file /media/NAS/Tesis/NER/Stanford_NLP/temp/file_120.txt ... done [0.1 sec].\n",
      "Processing file /media/NAS/Tesis/NER/Stanford_NLP/temp/file_121.txt ... writing to /media/NAS/Tesis/NER/Stanford_NLP/file_121.txt.out\n",
      "Annotating file /media/NAS/Tesis/NER/Stanford_NLP/temp/file_121.txt ... done [0.3 sec].\n",
      "Processing file /media/NAS/Tesis/NER/Stanford_NLP/temp/file_122.txt ... writing to /media/NAS/Tesis/NER/Stanford_NLP/file_122.txt.out\n",
      "Annotating file /media/NAS/Tesis/NER/Stanford_NLP/temp/file_122.txt ... done [0.1 sec].\n",
      "Processing file /media/NAS/Tesis/NER/Stanford_NLP/temp/file_123.txt ... writing to /media/NAS/Tesis/NER/Stanford_NLP/file_123.txt.out\n",
      "Annotating file /media/NAS/Tesis/NER/Stanford_NLP/temp/file_123.txt ... done [0.1 sec].\n",
      "Processing file /media/NAS/Tesis/NER/Stanford_NLP/temp/file_124.txt ... writing to /media/NAS/Tesis/NER/Stanford_NLP/file_124.txt.out\n",
      "Annotating file /media/NAS/Tesis/NER/Stanford_NLP/temp/file_124.txt ... done [0.1 sec].\n",
      "Processing file /media/NAS/Tesis/NER/Stanford_NLP/temp/file_125.txt ... writing to /media/NAS/Tesis/NER/Stanford_NLP/file_125.txt.out\n",
      "Annotating file /media/NAS/Tesis/NER/Stanford_NLP/temp/file_125.txt ... done [0.1 sec].\n",
      "Processing file /media/NAS/Tesis/NER/Stanford_NLP/temp/file_126.txt ... writing to /media/NAS/Tesis/NER/Stanford_NLP/file_126.txt.out\n",
      "Annotating file /media/NAS/Tesis/NER/Stanford_NLP/temp/file_126.txt ... done [0.2 sec].\n",
      "Processing file /media/NAS/Tesis/NER/Stanford_NLP/temp/file_127.txt ... writing to /media/NAS/Tesis/NER/Stanford_NLP/file_127.txt.out\n",
      "Annotating file /media/NAS/Tesis/NER/Stanford_NLP/temp/file_127.txt ... done [0.1 sec].\n",
      "Processing file /media/NAS/Tesis/NER/Stanford_NLP/temp/file_128.txt ... writing to /media/NAS/Tesis/NER/Stanford_NLP/file_128.txt.out\n",
      "Annotating file /media/NAS/Tesis/NER/Stanford_NLP/temp/file_128.txt ... done [0.2 sec].\n",
      "Processing file /media/NAS/Tesis/NER/Stanford_NLP/temp/file_129.txt ... writing to /media/NAS/Tesis/NER/Stanford_NLP/file_129.txt.out\n",
      "Annotating file /media/NAS/Tesis/NER/Stanford_NLP/temp/file_129.txt ... done [0.1 sec].\n",
      "Processing file /media/NAS/Tesis/NER/Stanford_NLP/temp/file_130.txt ... writing to /media/NAS/Tesis/NER/Stanford_NLP/file_130.txt.out\n",
      "Annotating file /media/NAS/Tesis/NER/Stanford_NLP/temp/file_130.txt ... done [0.1 sec].\n",
      "Processing file /media/NAS/Tesis/NER/Stanford_NLP/temp/file_131.txt ... writing to /media/NAS/Tesis/NER/Stanford_NLP/file_131.txt.out\n",
      "Annotating file /media/NAS/Tesis/NER/Stanford_NLP/temp/file_131.txt ... done [0.1 sec].\n",
      "Processing file /media/NAS/Tesis/NER/Stanford_NLP/temp/file_132.txt ... writing to /media/NAS/Tesis/NER/Stanford_NLP/file_132.txt.out\n",
      "Annotating file /media/NAS/Tesis/NER/Stanford_NLP/temp/file_132.txt ... done [0.1 sec].\n",
      "Processing file /media/NAS/Tesis/NER/Stanford_NLP/temp/file_133.txt ... writing to /media/NAS/Tesis/NER/Stanford_NLP/file_133.txt.out\n",
      "Annotating file /media/NAS/Tesis/NER/Stanford_NLP/temp/file_133.txt ... done [0.1 sec].\n",
      "Processing file /media/NAS/Tesis/NER/Stanford_NLP/temp/file_134.txt ... writing to /media/NAS/Tesis/NER/Stanford_NLP/file_134.txt.out\n",
      "Annotating file /media/NAS/Tesis/NER/Stanford_NLP/temp/file_134.txt ... done [0.1 sec].\n",
      "Processing file /media/NAS/Tesis/NER/Stanford_NLP/temp/file_135.txt ... writing to /media/NAS/Tesis/NER/Stanford_NLP/file_135.txt.out\n",
      "Annotating file /media/NAS/Tesis/NER/Stanford_NLP/temp/file_135.txt ... done [0.1 sec].\n",
      "Processing file /media/NAS/Tesis/NER/Stanford_NLP/temp/file_136.txt ... writing to /media/NAS/Tesis/NER/Stanford_NLP/file_136.txt.out\n",
      "Annotating file /media/NAS/Tesis/NER/Stanford_NLP/temp/file_136.txt ... done [0.2 sec].\n",
      "Processing file /media/NAS/Tesis/NER/Stanford_NLP/temp/file_137.txt ... writing to /media/NAS/Tesis/NER/Stanford_NLP/file_137.txt.out\n",
      "Annotating file /media/NAS/Tesis/NER/Stanford_NLP/temp/file_137.txt ... done [0.1 sec].\n",
      "Processing file /media/NAS/Tesis/NER/Stanford_NLP/temp/file_138.txt ... writing to /media/NAS/Tesis/NER/Stanford_NLP/file_138.txt.out\n",
      "Annotating file /media/NAS/Tesis/NER/Stanford_NLP/temp/file_138.txt ... done [0.2 sec].\n",
      "Processing file /media/NAS/Tesis/NER/Stanford_NLP/temp/file_139.txt ... writing to /media/NAS/Tesis/NER/Stanford_NLP/file_139.txt.out\n",
      "Annotating file /media/NAS/Tesis/NER/Stanford_NLP/temp/file_139.txt ... done [0.1 sec].\n",
      "Processing file /media/NAS/Tesis/NER/Stanford_NLP/temp/file_140.txt ... writing to /media/NAS/Tesis/NER/Stanford_NLP/file_140.txt.out\n",
      "Annotating file /media/NAS/Tesis/NER/Stanford_NLP/temp/file_140.txt ... done [0.1 sec].\n",
      "Processing file /media/NAS/Tesis/NER/Stanford_NLP/temp/file_141.txt ... writing to /media/NAS/Tesis/NER/Stanford_NLP/file_141.txt.out\n",
      "Annotating file /media/NAS/Tesis/NER/Stanford_NLP/temp/file_141.txt ... done [0.1 sec].\n",
      "Processing file /media/NAS/Tesis/NER/Stanford_NLP/temp/file_142.txt ... writing to /media/NAS/Tesis/NER/Stanford_NLP/file_142.txt.out\n",
      "Annotating file /media/NAS/Tesis/NER/Stanford_NLP/temp/file_142.txt ... done [0.1 sec].\n",
      "Processing file /media/NAS/Tesis/NER/Stanford_NLP/temp/file_143.txt ... writing to /media/NAS/Tesis/NER/Stanford_NLP/file_143.txt.out\n",
      "Annotating file /media/NAS/Tesis/NER/Stanford_NLP/temp/file_143.txt ... done [0.1 sec].\n",
      "Processing file /media/NAS/Tesis/NER/Stanford_NLP/temp/file_144.txt ... writing to /media/NAS/Tesis/NER/Stanford_NLP/file_144.txt.out\n",
      "Annotating file /media/NAS/Tesis/NER/Stanford_NLP/temp/file_144.txt ... done [0.1 sec].\n",
      "Processing file /media/NAS/Tesis/NER/Stanford_NLP/temp/file_145.txt ... writing to /media/NAS/Tesis/NER/Stanford_NLP/file_145.txt.out\n",
      "Annotating file /media/NAS/Tesis/NER/Stanford_NLP/temp/file_145.txt ... done [0.1 sec].\n",
      "Processing file /media/NAS/Tesis/NER/Stanford_NLP/temp/file_146.txt ... writing to /media/NAS/Tesis/NER/Stanford_NLP/file_146.txt.out\n",
      "Annotating file /media/NAS/Tesis/NER/Stanford_NLP/temp/file_146.txt ... done [0.1 sec].\n",
      "Processing file /media/NAS/Tesis/NER/Stanford_NLP/temp/file_147.txt ... writing to /media/NAS/Tesis/NER/Stanford_NLP/file_147.txt.out\n",
      "Annotating file /media/NAS/Tesis/NER/Stanford_NLP/temp/file_147.txt ... done [0.1 sec].\n",
      "Processing file /media/NAS/Tesis/NER/Stanford_NLP/temp/file_148.txt ... writing to /media/NAS/Tesis/NER/Stanford_NLP/file_148.txt.out\n",
      "Annotating file /media/NAS/Tesis/NER/Stanford_NLP/temp/file_148.txt ... done [0.1 sec].\n",
      "Processing file /media/NAS/Tesis/NER/Stanford_NLP/temp/file_149.txt ... writing to /media/NAS/Tesis/NER/Stanford_NLP/file_149.txt.out\n",
      "Annotating file /media/NAS/Tesis/NER/Stanford_NLP/temp/file_149.txt ... done [0.1 sec].\n",
      "Processing file /media/NAS/Tesis/NER/Stanford_NLP/temp/file_150.txt ... writing to /media/NAS/Tesis/NER/Stanford_NLP/file_150.txt.out\n",
      "Annotating file /media/NAS/Tesis/NER/Stanford_NLP/temp/file_150.txt ... done [0.1 sec].\n",
      "Processing file /media/NAS/Tesis/NER/Stanford_NLP/temp/file_151.txt ... writing to /media/NAS/Tesis/NER/Stanford_NLP/file_151.txt.out\n",
      "Annotating file /media/NAS/Tesis/NER/Stanford_NLP/temp/file_151.txt ... done [0.1 sec].\n",
      "Processing file /media/NAS/Tesis/NER/Stanford_NLP/temp/file_152.txt ... writing to /media/NAS/Tesis/NER/Stanford_NLP/file_152.txt.out\n",
      "Annotating file /media/NAS/Tesis/NER/Stanford_NLP/temp/file_152.txt ... done [0.1 sec].\n",
      "Processing file /media/NAS/Tesis/NER/Stanford_NLP/temp/file_153.txt ... writing to /media/NAS/Tesis/NER/Stanford_NLP/file_153.txt.out\n",
      "Annotating file /media/NAS/Tesis/NER/Stanford_NLP/temp/file_153.txt ... done [0.1 sec].\n",
      "Processing file /media/NAS/Tesis/NER/Stanford_NLP/temp/file_154.txt ... writing to /media/NAS/Tesis/NER/Stanford_NLP/file_154.txt.out\n",
      "Annotating file /media/NAS/Tesis/NER/Stanford_NLP/temp/file_154.txt ... done [0.1 sec].\n",
      "Processing file /media/NAS/Tesis/NER/Stanford_NLP/temp/file_155.txt ... writing to /media/NAS/Tesis/NER/Stanford_NLP/file_155.txt.out\n",
      "Annotating file /media/NAS/Tesis/NER/Stanford_NLP/temp/file_155.txt ... done [0.1 sec].\n",
      "Processing file /media/NAS/Tesis/NER/Stanford_NLP/temp/file_156.txt ... writing to /media/NAS/Tesis/NER/Stanford_NLP/file_156.txt.out\n",
      "Annotating file /media/NAS/Tesis/NER/Stanford_NLP/temp/file_156.txt ... done [0.1 sec].\n",
      "Processing file /media/NAS/Tesis/NER/Stanford_NLP/temp/file_157.txt ... writing to /media/NAS/Tesis/NER/Stanford_NLP/file_157.txt.out\n",
      "Annotating file /media/NAS/Tesis/NER/Stanford_NLP/temp/file_157.txt ... done [0.1 sec].\n",
      "Processing file /media/NAS/Tesis/NER/Stanford_NLP/temp/file_158.txt ... writing to /media/NAS/Tesis/NER/Stanford_NLP/file_158.txt.out\n",
      "Annotating file /media/NAS/Tesis/NER/Stanford_NLP/temp/file_158.txt ... done [0.1 sec].\n",
      "Processing file /media/NAS/Tesis/NER/Stanford_NLP/temp/file_159.txt ... writing to /media/NAS/Tesis/NER/Stanford_NLP/file_159.txt.out\n",
      "Annotating file /media/NAS/Tesis/NER/Stanford_NLP/temp/file_159.txt ... done [0.1 sec].\n",
      "Processing file /media/NAS/Tesis/NER/Stanford_NLP/temp/file_160.txt ... writing to /media/NAS/Tesis/NER/Stanford_NLP/file_160.txt.out\n",
      "Annotating file /media/NAS/Tesis/NER/Stanford_NLP/temp/file_160.txt ... done [0.1 sec].\n",
      "Processing file /media/NAS/Tesis/NER/Stanford_NLP/temp/file_161.txt ... writing to /media/NAS/Tesis/NER/Stanford_NLP/file_161.txt.out\n",
      "Annotating file /media/NAS/Tesis/NER/Stanford_NLP/temp/file_161.txt ... done [0.1 sec].\n",
      "Processing file /media/NAS/Tesis/NER/Stanford_NLP/temp/file_162.txt ... writing to /media/NAS/Tesis/NER/Stanford_NLP/file_162.txt.out\n",
      "Annotating file /media/NAS/Tesis/NER/Stanford_NLP/temp/file_162.txt ... done [0.1 sec].\n",
      "Processing file /media/NAS/Tesis/NER/Stanford_NLP/temp/file_163.txt ... writing to /media/NAS/Tesis/NER/Stanford_NLP/file_163.txt.out\n",
      "Annotating file /media/NAS/Tesis/NER/Stanford_NLP/temp/file_163.txt ... done [0.1 sec].\n",
      "Processing file /media/NAS/Tesis/NER/Stanford_NLP/temp/file_164.txt ... writing to /media/NAS/Tesis/NER/Stanford_NLP/file_164.txt.out\n",
      "Annotating file /media/NAS/Tesis/NER/Stanford_NLP/temp/file_164.txt ... done [0.0 sec].\n",
      "Processing file /media/NAS/Tesis/NER/Stanford_NLP/temp/file_165.txt ... writing to /media/NAS/Tesis/NER/Stanford_NLP/file_165.txt.out\n",
      "Annotating file /media/NAS/Tesis/NER/Stanford_NLP/temp/file_165.txt ... done [0.1 sec].\n",
      "Processing file /media/NAS/Tesis/NER/Stanford_NLP/temp/file_166.txt ... writing to /media/NAS/Tesis/NER/Stanford_NLP/file_166.txt.out\n",
      "Annotating file /media/NAS/Tesis/NER/Stanford_NLP/temp/file_166.txt ... done [0.1 sec].\n",
      "Processing file /media/NAS/Tesis/NER/Stanford_NLP/temp/file_167.txt ... writing to /media/NAS/Tesis/NER/Stanford_NLP/file_167.txt.out\n",
      "Annotating file /media/NAS/Tesis/NER/Stanford_NLP/temp/file_167.txt ... done [0.1 sec].\n",
      "Processing file /media/NAS/Tesis/NER/Stanford_NLP/temp/file_168.txt ... writing to /media/NAS/Tesis/NER/Stanford_NLP/file_168.txt.out\n",
      "Annotating file /media/NAS/Tesis/NER/Stanford_NLP/temp/file_168.txt ... done [0.1 sec].\n",
      "Processing file /media/NAS/Tesis/NER/Stanford_NLP/temp/file_169.txt ... writing to /media/NAS/Tesis/NER/Stanford_NLP/file_169.txt.out\n",
      "Annotating file /media/NAS/Tesis/NER/Stanford_NLP/temp/file_169.txt ... done [0.1 sec].\n",
      "Processing file /media/NAS/Tesis/NER/Stanford_NLP/temp/file_170.txt ... writing to /media/NAS/Tesis/NER/Stanford_NLP/file_170.txt.out\n",
      "Annotating file /media/NAS/Tesis/NER/Stanford_NLP/temp/file_170.txt ... done [0.1 sec].\n",
      "Processing file /media/NAS/Tesis/NER/Stanford_NLP/temp/file_171.txt ... writing to /media/NAS/Tesis/NER/Stanford_NLP/file_171.txt.out\n",
      "Annotating file /media/NAS/Tesis/NER/Stanford_NLP/temp/file_171.txt ... done [0.1 sec].\n",
      "Processing file /media/NAS/Tesis/NER/Stanford_NLP/temp/file_172.txt ... writing to /media/NAS/Tesis/NER/Stanford_NLP/file_172.txt.out\n",
      "Annotating file /media/NAS/Tesis/NER/Stanford_NLP/temp/file_172.txt ... done [0.1 sec].\n",
      "Processing file /media/NAS/Tesis/NER/Stanford_NLP/temp/file_173.txt ... writing to /media/NAS/Tesis/NER/Stanford_NLP/file_173.txt.out\n",
      "Annotating file /media/NAS/Tesis/NER/Stanford_NLP/temp/file_173.txt ... done [0.1 sec].\n",
      "Processing file /media/NAS/Tesis/NER/Stanford_NLP/temp/file_174.txt ... writing to /media/NAS/Tesis/NER/Stanford_NLP/file_174.txt.out\n",
      "Annotating file /media/NAS/Tesis/NER/Stanford_NLP/temp/file_174.txt ... done [0.1 sec].\n",
      "Processing file /media/NAS/Tesis/NER/Stanford_NLP/temp/file_175.txt ... writing to /media/NAS/Tesis/NER/Stanford_NLP/file_175.txt.out\n",
      "Annotating file /media/NAS/Tesis/NER/Stanford_NLP/temp/file_175.txt ... done [0.2 sec].\n",
      "Processing file /media/NAS/Tesis/NER/Stanford_NLP/temp/file_176.txt ... writing to /media/NAS/Tesis/NER/Stanford_NLP/file_176.txt.out\n",
      "Annotating file /media/NAS/Tesis/NER/Stanford_NLP/temp/file_176.txt ... done [0.1 sec].\n",
      "Processing file /media/NAS/Tesis/NER/Stanford_NLP/temp/file_177.txt ... writing to /media/NAS/Tesis/NER/Stanford_NLP/file_177.txt.out\n",
      "Annotating file /media/NAS/Tesis/NER/Stanford_NLP/temp/file_177.txt ... done [0.1 sec].\n",
      "Processing file /media/NAS/Tesis/NER/Stanford_NLP/temp/file_178.txt ... writing to /media/NAS/Tesis/NER/Stanford_NLP/file_178.txt.out\n",
      "Annotating file /media/NAS/Tesis/NER/Stanford_NLP/temp/file_178.txt ... done [0.1 sec].\n",
      "Processing file /media/NAS/Tesis/NER/Stanford_NLP/temp/file_179.txt ... writing to /media/NAS/Tesis/NER/Stanford_NLP/file_179.txt.out\n",
      "Annotating file /media/NAS/Tesis/NER/Stanford_NLP/temp/file_179.txt ... done [0.1 sec].\n",
      "Processing file /media/NAS/Tesis/NER/Stanford_NLP/temp/file_180.txt ... writing to /media/NAS/Tesis/NER/Stanford_NLP/file_180.txt.out\n",
      "Annotating file /media/NAS/Tesis/NER/Stanford_NLP/temp/file_180.txt ... done [0.1 sec].\n",
      "Processing file /media/NAS/Tesis/NER/Stanford_NLP/temp/file_181.txt ... writing to /media/NAS/Tesis/NER/Stanford_NLP/file_181.txt.out\n",
      "Annotating file /media/NAS/Tesis/NER/Stanford_NLP/temp/file_181.txt ... done [0.1 sec].\n",
      "Processing file /media/NAS/Tesis/NER/Stanford_NLP/temp/file_182.txt ... writing to /media/NAS/Tesis/NER/Stanford_NLP/file_182.txt.out\n",
      "Annotating file /media/NAS/Tesis/NER/Stanford_NLP/temp/file_182.txt ... done [0.1 sec].\n",
      "Processing file /media/NAS/Tesis/NER/Stanford_NLP/temp/file_183.txt ... writing to /media/NAS/Tesis/NER/Stanford_NLP/file_183.txt.out\n",
      "Annotating file /media/NAS/Tesis/NER/Stanford_NLP/temp/file_183.txt ... done [0.1 sec].\n",
      "Processing file /media/NAS/Tesis/NER/Stanford_NLP/temp/file_184.txt ... writing to /media/NAS/Tesis/NER/Stanford_NLP/file_184.txt.out\n",
      "Annotating file /media/NAS/Tesis/NER/Stanford_NLP/temp/file_184.txt ... done [0.1 sec].\n",
      "Processing file /media/NAS/Tesis/NER/Stanford_NLP/temp/file_185.txt ... writing to /media/NAS/Tesis/NER/Stanford_NLP/file_185.txt.out\n",
      "Annotating file /media/NAS/Tesis/NER/Stanford_NLP/temp/file_185.txt ... done [0.1 sec].\n",
      "Processing file /media/NAS/Tesis/NER/Stanford_NLP/temp/file_186.txt ... writing to /media/NAS/Tesis/NER/Stanford_NLP/file_186.txt.out\n",
      "Annotating file /media/NAS/Tesis/NER/Stanford_NLP/temp/file_186.txt ... done [0.1 sec].\n",
      "Processing file /media/NAS/Tesis/NER/Stanford_NLP/temp/file_187.txt ... writing to /media/NAS/Tesis/NER/Stanford_NLP/file_187.txt.out\n",
      "Annotating file /media/NAS/Tesis/NER/Stanford_NLP/temp/file_187.txt ... done [0.1 sec].\n",
      "Processing file /media/NAS/Tesis/NER/Stanford_NLP/temp/file_188.txt ... writing to /media/NAS/Tesis/NER/Stanford_NLP/file_188.txt.out\n",
      "Annotating file /media/NAS/Tesis/NER/Stanford_NLP/temp/file_188.txt ... done [0.1 sec].\n",
      "Processing file /media/NAS/Tesis/NER/Stanford_NLP/temp/file_189.txt ... writing to /media/NAS/Tesis/NER/Stanford_NLP/file_189.txt.out\n",
      "Annotating file /media/NAS/Tesis/NER/Stanford_NLP/temp/file_189.txt ... done [0.1 sec].\n",
      "Processing file /media/NAS/Tesis/NER/Stanford_NLP/temp/file_190.txt ... writing to /media/NAS/Tesis/NER/Stanford_NLP/file_190.txt.out\n",
      "Annotating file /media/NAS/Tesis/NER/Stanford_NLP/temp/file_190.txt ... done [0.1 sec].\n",
      "Processing file /media/NAS/Tesis/NER/Stanford_NLP/temp/file_191.txt ... writing to /media/NAS/Tesis/NER/Stanford_NLP/file_191.txt.out\n",
      "Annotating file /media/NAS/Tesis/NER/Stanford_NLP/temp/file_191.txt ... done [0.1 sec].\n",
      "Processing file /media/NAS/Tesis/NER/Stanford_NLP/temp/file_192.txt ... writing to /media/NAS/Tesis/NER/Stanford_NLP/file_192.txt.out\n",
      "Annotating file /media/NAS/Tesis/NER/Stanford_NLP/temp/file_192.txt ... done [0.0 sec].\n",
      "Processing file /media/NAS/Tesis/NER/Stanford_NLP/temp/file_193.txt ... writing to /media/NAS/Tesis/NER/Stanford_NLP/file_193.txt.out\n",
      "Annotating file /media/NAS/Tesis/NER/Stanford_NLP/temp/file_193.txt ... done [0.1 sec].\n",
      "Processing file /media/NAS/Tesis/NER/Stanford_NLP/temp/file_194.txt ... writing to /media/NAS/Tesis/NER/Stanford_NLP/file_194.txt.out\n",
      "Annotating file /media/NAS/Tesis/NER/Stanford_NLP/temp/file_194.txt ... done [0.1 sec].\n",
      "Processing file /media/NAS/Tesis/NER/Stanford_NLP/temp/file_195.txt ... writing to /media/NAS/Tesis/NER/Stanford_NLP/file_195.txt.out\n",
      "Annotating file /media/NAS/Tesis/NER/Stanford_NLP/temp/file_195.txt ... done [0.1 sec].\n",
      "Processing file /media/NAS/Tesis/NER/Stanford_NLP/temp/file_196.txt ... writing to /media/NAS/Tesis/NER/Stanford_NLP/file_196.txt.out\n",
      "Annotating file /media/NAS/Tesis/NER/Stanford_NLP/temp/file_196.txt ... done [0.1 sec].\n",
      "Processing file /media/NAS/Tesis/NER/Stanford_NLP/temp/file_197.txt ... writing to /media/NAS/Tesis/NER/Stanford_NLP/file_197.txt.out\n",
      "Annotating file /media/NAS/Tesis/NER/Stanford_NLP/temp/file_197.txt ... done [0.4 sec].\n",
      "Processing file /media/NAS/Tesis/NER/Stanford_NLP/temp/file_198.txt ... writing to /media/NAS/Tesis/NER/Stanford_NLP/file_198.txt.out\n",
      "Annotating file /media/NAS/Tesis/NER/Stanford_NLP/temp/file_198.txt ... done [0.0 sec].\n",
      "Processing file /media/NAS/Tesis/NER/Stanford_NLP/temp/file_199.txt ... writing to /media/NAS/Tesis/NER/Stanford_NLP/file_199.txt.out\n",
      "Annotating file /media/NAS/Tesis/NER/Stanford_NLP/temp/file_199.txt ... done [0.1 sec].\n",
      "Processing file /media/NAS/Tesis/NER/Stanford_NLP/temp/file_200.txt ... writing to /media/NAS/Tesis/NER/Stanford_NLP/file_200.txt.out\n",
      "Annotating file /media/NAS/Tesis/NER/Stanford_NLP/temp/file_200.txt ... done [0.2 sec].\n",
      "Processing file /media/NAS/Tesis/NER/Stanford_NLP/temp/file_201.txt ... writing to /media/NAS/Tesis/NER/Stanford_NLP/file_201.txt.out\n",
      "Annotating file /media/NAS/Tesis/NER/Stanford_NLP/temp/file_201.txt ... done [0.1 sec].\n",
      "Processing file /media/NAS/Tesis/NER/Stanford_NLP/temp/file_202.txt ... writing to /media/NAS/Tesis/NER/Stanford_NLP/file_202.txt.out\n",
      "Annotating file /media/NAS/Tesis/NER/Stanford_NLP/temp/file_202.txt ... done [0.1 sec].\n",
      "Processing file /media/NAS/Tesis/NER/Stanford_NLP/temp/file_203.txt ... writing to /media/NAS/Tesis/NER/Stanford_NLP/file_203.txt.out\n",
      "Annotating file /media/NAS/Tesis/NER/Stanford_NLP/temp/file_203.txt ... done [0.1 sec].\n",
      "Processing file /media/NAS/Tesis/NER/Stanford_NLP/temp/file_204.txt ... writing to /media/NAS/Tesis/NER/Stanford_NLP/file_204.txt.out\n",
      "Annotating file /media/NAS/Tesis/NER/Stanford_NLP/temp/file_204.txt ... done [0.1 sec].\n",
      "Processing file /media/NAS/Tesis/NER/Stanford_NLP/temp/file_205.txt ... writing to /media/NAS/Tesis/NER/Stanford_NLP/file_205.txt.out\n",
      "Annotating file /media/NAS/Tesis/NER/Stanford_NLP/temp/file_205.txt ... done [0.1 sec].\n",
      "Processing file /media/NAS/Tesis/NER/Stanford_NLP/temp/file_206.txt ... writing to /media/NAS/Tesis/NER/Stanford_NLP/file_206.txt.out\n",
      "Annotating file /media/NAS/Tesis/NER/Stanford_NLP/temp/file_206.txt ... done [0.1 sec].\n",
      "Processing file /media/NAS/Tesis/NER/Stanford_NLP/temp/file_207.txt ... writing to /media/NAS/Tesis/NER/Stanford_NLP/file_207.txt.out\n",
      "Annotating file /media/NAS/Tesis/NER/Stanford_NLP/temp/file_207.txt ... done [0.1 sec].\n",
      "Processing file /media/NAS/Tesis/NER/Stanford_NLP/temp/file_208.txt ... writing to /media/NAS/Tesis/NER/Stanford_NLP/file_208.txt.out\n",
      "Annotating file /media/NAS/Tesis/NER/Stanford_NLP/temp/file_208.txt ... done [0.2 sec].\n",
      "Processing file /media/NAS/Tesis/NER/Stanford_NLP/temp/file_209.txt ... writing to /media/NAS/Tesis/NER/Stanford_NLP/file_209.txt.out\n",
      "Annotating file /media/NAS/Tesis/NER/Stanford_NLP/temp/file_209.txt ... done [0.1 sec].\n",
      "Processing file /media/NAS/Tesis/NER/Stanford_NLP/temp/file_210.txt ... writing to /media/NAS/Tesis/NER/Stanford_NLP/file_210.txt.out\n",
      "Annotating file /media/NAS/Tesis/NER/Stanford_NLP/temp/file_210.txt ... done [0.1 sec].\n",
      "Processing file /media/NAS/Tesis/NER/Stanford_NLP/temp/file_211.txt ... writing to /media/NAS/Tesis/NER/Stanford_NLP/file_211.txt.out\n",
      "Annotating file /media/NAS/Tesis/NER/Stanford_NLP/temp/file_211.txt ... done [0.1 sec].\n",
      "Processing file /media/NAS/Tesis/NER/Stanford_NLP/temp/file_212.txt ... writing to /media/NAS/Tesis/NER/Stanford_NLP/file_212.txt.out\n",
      "Annotating file /media/NAS/Tesis/NER/Stanford_NLP/temp/file_212.txt ... done [0.1 sec].\n",
      "Processing file /media/NAS/Tesis/NER/Stanford_NLP/temp/file_213.txt ... writing to /media/NAS/Tesis/NER/Stanford_NLP/file_213.txt.out\n",
      "Annotating file /media/NAS/Tesis/NER/Stanford_NLP/temp/file_213.txt ... done [0.1 sec].\n",
      "Processing file /media/NAS/Tesis/NER/Stanford_NLP/temp/file_214.txt ... writing to /media/NAS/Tesis/NER/Stanford_NLP/file_214.txt.out\n",
      "Annotating file /media/NAS/Tesis/NER/Stanford_NLP/temp/file_214.txt ... done [0.1 sec].\n",
      "Processing file /media/NAS/Tesis/NER/Stanford_NLP/temp/file_215.txt ... writing to /media/NAS/Tesis/NER/Stanford_NLP/file_215.txt.out\n",
      "Annotating file /media/NAS/Tesis/NER/Stanford_NLP/temp/file_215.txt ... done [0.1 sec].\n",
      "Processing file /media/NAS/Tesis/NER/Stanford_NLP/temp/file_216.txt ... writing to /media/NAS/Tesis/NER/Stanford_NLP/file_216.txt.out\n",
      "Annotating file /media/NAS/Tesis/NER/Stanford_NLP/temp/file_216.txt ... done [0.1 sec].\n",
      "Processing file /media/NAS/Tesis/NER/Stanford_NLP/temp/file_217.txt ... writing to /media/NAS/Tesis/NER/Stanford_NLP/file_217.txt.out\n",
      "Annotating file /media/NAS/Tesis/NER/Stanford_NLP/temp/file_217.txt ... done [0.1 sec].\n",
      "Processing file /media/NAS/Tesis/NER/Stanford_NLP/temp/file_218.txt ... writing to /media/NAS/Tesis/NER/Stanford_NLP/file_218.txt.out\n",
      "Annotating file /media/NAS/Tesis/NER/Stanford_NLP/temp/file_218.txt ... done [0.1 sec].\n",
      "Processing file /media/NAS/Tesis/NER/Stanford_NLP/temp/file_219.txt ... writing to /media/NAS/Tesis/NER/Stanford_NLP/file_219.txt.out\n",
      "Annotating file /media/NAS/Tesis/NER/Stanford_NLP/temp/file_219.txt ... done [0.1 sec].\n",
      "Processing file /media/NAS/Tesis/NER/Stanford_NLP/temp/file_220.txt ... writing to /media/NAS/Tesis/NER/Stanford_NLP/file_220.txt.out\n",
      "Annotating file /media/NAS/Tesis/NER/Stanford_NLP/temp/file_220.txt ... done [0.1 sec].\n",
      "Processing file /media/NAS/Tesis/NER/Stanford_NLP/temp/file_221.txt ... writing to /media/NAS/Tesis/NER/Stanford_NLP/file_221.txt.out\n",
      "Annotating file /media/NAS/Tesis/NER/Stanford_NLP/temp/file_221.txt ... done [0.1 sec].\n",
      "Processing file /media/NAS/Tesis/NER/Stanford_NLP/temp/file_222.txt ... writing to /media/NAS/Tesis/NER/Stanford_NLP/file_222.txt.out\n",
      "Annotating file /media/NAS/Tesis/NER/Stanford_NLP/temp/file_222.txt ... done [0.1 sec].\n",
      "Processing file /media/NAS/Tesis/NER/Stanford_NLP/temp/file_223.txt ... writing to /media/NAS/Tesis/NER/Stanford_NLP/file_223.txt.out\n",
      "Annotating file /media/NAS/Tesis/NER/Stanford_NLP/temp/file_223.txt ... done [0.1 sec].\n",
      "Processing file /media/NAS/Tesis/NER/Stanford_NLP/temp/file_224.txt ... writing to /media/NAS/Tesis/NER/Stanford_NLP/file_224.txt.out\n",
      "Annotating file /media/NAS/Tesis/NER/Stanford_NLP/temp/file_224.txt ... done [0.1 sec].\n",
      "Processing file /media/NAS/Tesis/NER/Stanford_NLP/temp/file_225.txt ... writing to /media/NAS/Tesis/NER/Stanford_NLP/file_225.txt.out\n",
      "Annotating file /media/NAS/Tesis/NER/Stanford_NLP/temp/file_225.txt ... done [0.1 sec].\n",
      "Processing file /media/NAS/Tesis/NER/Stanford_NLP/temp/file_226.txt ... writing to /media/NAS/Tesis/NER/Stanford_NLP/file_226.txt.out\n",
      "Annotating file /media/NAS/Tesis/NER/Stanford_NLP/temp/file_226.txt ... done [0.1 sec].\n",
      "Processing file /media/NAS/Tesis/NER/Stanford_NLP/temp/file_227.txt ... writing to /media/NAS/Tesis/NER/Stanford_NLP/file_227.txt.out\n",
      "Annotating file /media/NAS/Tesis/NER/Stanford_NLP/temp/file_227.txt ... done [0.1 sec].\n",
      "Processing file /media/NAS/Tesis/NER/Stanford_NLP/temp/file_228.txt ... writing to /media/NAS/Tesis/NER/Stanford_NLP/file_228.txt.out\n",
      "Annotating file /media/NAS/Tesis/NER/Stanford_NLP/temp/file_228.txt ... done [0.1 sec].\n",
      "Processing file /media/NAS/Tesis/NER/Stanford_NLP/temp/file_229.txt ... writing to /media/NAS/Tesis/NER/Stanford_NLP/file_229.txt.out\n",
      "Annotating file /media/NAS/Tesis/NER/Stanford_NLP/temp/file_229.txt ... done [0.1 sec].\n",
      "Processing file /media/NAS/Tesis/NER/Stanford_NLP/temp/file_230.txt ... writing to /media/NAS/Tesis/NER/Stanford_NLP/file_230.txt.out\n",
      "Annotating file /media/NAS/Tesis/NER/Stanford_NLP/temp/file_230.txt ... done [0.1 sec].\n",
      "Processing file /media/NAS/Tesis/NER/Stanford_NLP/temp/file_231.txt ... writing to /media/NAS/Tesis/NER/Stanford_NLP/file_231.txt.out\n",
      "Annotating file /media/NAS/Tesis/NER/Stanford_NLP/temp/file_231.txt ... done [0.1 sec].\n",
      "Processing file /media/NAS/Tesis/NER/Stanford_NLP/temp/file_232.txt ... writing to /media/NAS/Tesis/NER/Stanford_NLP/file_232.txt.out\n",
      "Annotating file /media/NAS/Tesis/NER/Stanford_NLP/temp/file_232.txt ... done [0.1 sec].\n",
      "Processing file /media/NAS/Tesis/NER/Stanford_NLP/temp/file_233.txt ... writing to /media/NAS/Tesis/NER/Stanford_NLP/file_233.txt.out\n",
      "Annotating file /media/NAS/Tesis/NER/Stanford_NLP/temp/file_233.txt ... done [0.1 sec].\n",
      "Processing file /media/NAS/Tesis/NER/Stanford_NLP/temp/file_234.txt ... writing to /media/NAS/Tesis/NER/Stanford_NLP/file_234.txt.out\n",
      "Annotating file /media/NAS/Tesis/NER/Stanford_NLP/temp/file_234.txt ... done [0.1 sec].\n",
      "Processing file /media/NAS/Tesis/NER/Stanford_NLP/temp/file_235.txt ... writing to /media/NAS/Tesis/NER/Stanford_NLP/file_235.txt.out\n",
      "Annotating file /media/NAS/Tesis/NER/Stanford_NLP/temp/file_235.txt ... done [0.1 sec].\n",
      "Processing file /media/NAS/Tesis/NER/Stanford_NLP/temp/file_236.txt ... writing to /media/NAS/Tesis/NER/Stanford_NLP/file_236.txt.out\n",
      "Annotating file /media/NAS/Tesis/NER/Stanford_NLP/temp/file_236.txt ... done [0.1 sec].\n",
      "Processing file /media/NAS/Tesis/NER/Stanford_NLP/temp/file_237.txt ... writing to /media/NAS/Tesis/NER/Stanford_NLP/file_237.txt.out\n",
      "Annotating file /media/NAS/Tesis/NER/Stanford_NLP/temp/file_237.txt ... done [0.1 sec].\n",
      "Processing file /media/NAS/Tesis/NER/Stanford_NLP/temp/file_238.txt ... writing to /media/NAS/Tesis/NER/Stanford_NLP/file_238.txt.out\n",
      "Annotating file /media/NAS/Tesis/NER/Stanford_NLP/temp/file_238.txt ... done [0.1 sec].\n",
      "Processing file /media/NAS/Tesis/NER/Stanford_NLP/temp/file_239.txt ... writing to /media/NAS/Tesis/NER/Stanford_NLP/file_239.txt.out\n",
      "Annotating file /media/NAS/Tesis/NER/Stanford_NLP/temp/file_239.txt ... done [0.1 sec].\n",
      "Processing file /media/NAS/Tesis/NER/Stanford_NLP/temp/file_240.txt ... writing to /media/NAS/Tesis/NER/Stanford_NLP/file_240.txt.out\n",
      "Annotating file /media/NAS/Tesis/NER/Stanford_NLP/temp/file_240.txt ... done [0.2 sec].\n",
      "Processing file /media/NAS/Tesis/NER/Stanford_NLP/temp/file_241.txt ... writing to /media/NAS/Tesis/NER/Stanford_NLP/file_241.txt.out\n",
      "Annotating file /media/NAS/Tesis/NER/Stanford_NLP/temp/file_241.txt ... done [0.1 sec].\n",
      "Processing file /media/NAS/Tesis/NER/Stanford_NLP/temp/file_242.txt ... writing to /media/NAS/Tesis/NER/Stanford_NLP/file_242.txt.out\n",
      "Annotating file /media/NAS/Tesis/NER/Stanford_NLP/temp/file_242.txt ... done [0.1 sec].\n",
      "Processing file /media/NAS/Tesis/NER/Stanford_NLP/temp/file_243.txt ... writing to /media/NAS/Tesis/NER/Stanford_NLP/file_243.txt.out\n",
      "Annotating file /media/NAS/Tesis/NER/Stanford_NLP/temp/file_243.txt ... done [0.1 sec].\n",
      "Processing file /media/NAS/Tesis/NER/Stanford_NLP/temp/file_244.txt ... writing to /media/NAS/Tesis/NER/Stanford_NLP/file_244.txt.out\n",
      "Annotating file /media/NAS/Tesis/NER/Stanford_NLP/temp/file_244.txt ... done [0.1 sec].\n",
      "Processing file /media/NAS/Tesis/NER/Stanford_NLP/temp/file_245.txt ... writing to /media/NAS/Tesis/NER/Stanford_NLP/file_245.txt.out\n",
      "Annotating file /media/NAS/Tesis/NER/Stanford_NLP/temp/file_245.txt ... done [0.1 sec].\n",
      "Processing file /media/NAS/Tesis/NER/Stanford_NLP/temp/file_246.txt ... writing to /media/NAS/Tesis/NER/Stanford_NLP/file_246.txt.out\n",
      "Annotating file /media/NAS/Tesis/NER/Stanford_NLP/temp/file_246.txt ... done [0.2 sec].\n",
      "Processing file /media/NAS/Tesis/NER/Stanford_NLP/temp/file_247.txt ... writing to /media/NAS/Tesis/NER/Stanford_NLP/file_247.txt.out\n",
      "Annotating file /media/NAS/Tesis/NER/Stanford_NLP/temp/file_247.txt ... done [0.1 sec].\n",
      "Processing file /media/NAS/Tesis/NER/Stanford_NLP/temp/file_248.txt ... writing to /media/NAS/Tesis/NER/Stanford_NLP/file_248.txt.out\n",
      "Annotating file /media/NAS/Tesis/NER/Stanford_NLP/temp/file_248.txt ... done [0.1 sec].\n",
      "Processing file /media/NAS/Tesis/NER/Stanford_NLP/temp/file_249.txt ... writing to /media/NAS/Tesis/NER/Stanford_NLP/file_249.txt.out\n",
      "Annotating file /media/NAS/Tesis/NER/Stanford_NLP/temp/file_249.txt ... done [0.1 sec].\n",
      "Processing file /media/NAS/Tesis/NER/Stanford_NLP/temp/file_250.txt ... writing to /media/NAS/Tesis/NER/Stanford_NLP/file_250.txt.out\n",
      "Annotating file /media/NAS/Tesis/NER/Stanford_NLP/temp/file_250.txt ... done [0.1 sec].\n",
      "Processing file /media/NAS/Tesis/NER/Stanford_NLP/temp/file_251.txt ... writing to /media/NAS/Tesis/NER/Stanford_NLP/file_251.txt.out\n",
      "Annotating file /media/NAS/Tesis/NER/Stanford_NLP/temp/file_251.txt ... done [0.2 sec].\n",
      "Processing file /media/NAS/Tesis/NER/Stanford_NLP/temp/file_252.txt ... writing to /media/NAS/Tesis/NER/Stanford_NLP/file_252.txt.out\n",
      "Annotating file /media/NAS/Tesis/NER/Stanford_NLP/temp/file_252.txt ... done [0.1 sec].\n",
      "Processing file /media/NAS/Tesis/NER/Stanford_NLP/temp/file_253.txt ... writing to /media/NAS/Tesis/NER/Stanford_NLP/file_253.txt.out\n",
      "Annotating file /media/NAS/Tesis/NER/Stanford_NLP/temp/file_253.txt ... done [0.1 sec].\n",
      "Processing file /media/NAS/Tesis/NER/Stanford_NLP/temp/file_254.txt ... writing to /media/NAS/Tesis/NER/Stanford_NLP/file_254.txt.out\n",
      "Annotating file /media/NAS/Tesis/NER/Stanford_NLP/temp/file_254.txt ... done [0.1 sec].\n",
      "Processing file /media/NAS/Tesis/NER/Stanford_NLP/temp/file_255.txt ... writing to /media/NAS/Tesis/NER/Stanford_NLP/file_255.txt.out\n",
      "Annotating file /media/NAS/Tesis/NER/Stanford_NLP/temp/file_255.txt ... done [0.4 sec].\n",
      "Processing file /media/NAS/Tesis/NER/Stanford_NLP/temp/file_256.txt ... writing to /media/NAS/Tesis/NER/Stanford_NLP/file_256.txt.out\n",
      "Annotating file /media/NAS/Tesis/NER/Stanford_NLP/temp/file_256.txt ... done [0.1 sec].\n",
      "Processing file /media/NAS/Tesis/NER/Stanford_NLP/temp/file_257.txt ... writing to /media/NAS/Tesis/NER/Stanford_NLP/file_257.txt.out\n",
      "Annotating file /media/NAS/Tesis/NER/Stanford_NLP/temp/file_257.txt ... done [0.1 sec].\n",
      "Processing file /media/NAS/Tesis/NER/Stanford_NLP/temp/file_258.txt ... writing to /media/NAS/Tesis/NER/Stanford_NLP/file_258.txt.out\n",
      "Annotating file /media/NAS/Tesis/NER/Stanford_NLP/temp/file_258.txt ... done [0.1 sec].\n",
      "Processing file /media/NAS/Tesis/NER/Stanford_NLP/temp/file_259.txt ... writing to /media/NAS/Tesis/NER/Stanford_NLP/file_259.txt.out\n",
      "Annotating file /media/NAS/Tesis/NER/Stanford_NLP/temp/file_259.txt ... done [0.1 sec].\n",
      "Processing file /media/NAS/Tesis/NER/Stanford_NLP/temp/file_260.txt ... writing to /media/NAS/Tesis/NER/Stanford_NLP/file_260.txt.out\n",
      "Annotating file /media/NAS/Tesis/NER/Stanford_NLP/temp/file_260.txt ... done [0.1 sec].\n",
      "Processing file /media/NAS/Tesis/NER/Stanford_NLP/temp/file_261.txt ... writing to /media/NAS/Tesis/NER/Stanford_NLP/file_261.txt.out\n",
      "Annotating file /media/NAS/Tesis/NER/Stanford_NLP/temp/file_261.txt ... done [0.1 sec].\n",
      "Processing file /media/NAS/Tesis/NER/Stanford_NLP/temp/file_262.txt ... writing to /media/NAS/Tesis/NER/Stanford_NLP/file_262.txt.out\n",
      "Annotating file /media/NAS/Tesis/NER/Stanford_NLP/temp/file_262.txt ... done [0.1 sec].\n",
      "Processing file /media/NAS/Tesis/NER/Stanford_NLP/temp/file_263.txt ... writing to /media/NAS/Tesis/NER/Stanford_NLP/file_263.txt.out\n",
      "Annotating file /media/NAS/Tesis/NER/Stanford_NLP/temp/file_263.txt ... done [0.1 sec].\n",
      "Processing file /media/NAS/Tesis/NER/Stanford_NLP/temp/file_264.txt ... writing to /media/NAS/Tesis/NER/Stanford_NLP/file_264.txt.out\n",
      "Annotating file /media/NAS/Tesis/NER/Stanford_NLP/temp/file_264.txt ... done [0.1 sec].\n",
      "Processing file /media/NAS/Tesis/NER/Stanford_NLP/temp/file_265.txt ... writing to /media/NAS/Tesis/NER/Stanford_NLP/file_265.txt.out\n",
      "Annotating file /media/NAS/Tesis/NER/Stanford_NLP/temp/file_265.txt ... done [0.1 sec].\n",
      "Processing file /media/NAS/Tesis/NER/Stanford_NLP/temp/file_266.txt ... writing to /media/NAS/Tesis/NER/Stanford_NLP/file_266.txt.out\n",
      "Annotating file /media/NAS/Tesis/NER/Stanford_NLP/temp/file_266.txt ... done [0.1 sec].\n",
      "Processing file /media/NAS/Tesis/NER/Stanford_NLP/temp/file_267.txt ... writing to /media/NAS/Tesis/NER/Stanford_NLP/file_267.txt.out\n",
      "Annotating file /media/NAS/Tesis/NER/Stanford_NLP/temp/file_267.txt ... done [0.2 sec].\n",
      "Processing file /media/NAS/Tesis/NER/Stanford_NLP/temp/file_268.txt ... writing to /media/NAS/Tesis/NER/Stanford_NLP/file_268.txt.out\n",
      "Annotating file /media/NAS/Tesis/NER/Stanford_NLP/temp/file_268.txt ... done [0.1 sec].\n",
      "Processing file /media/NAS/Tesis/NER/Stanford_NLP/temp/file_269.txt ... writing to /media/NAS/Tesis/NER/Stanford_NLP/file_269.txt.out\n",
      "Annotating file /media/NAS/Tesis/NER/Stanford_NLP/temp/file_269.txt ... done [0.2 sec].\n",
      "Processing file /media/NAS/Tesis/NER/Stanford_NLP/temp/file_270.txt ... writing to /media/NAS/Tesis/NER/Stanford_NLP/file_270.txt.out\n",
      "Annotating file /media/NAS/Tesis/NER/Stanford_NLP/temp/file_270.txt ... done [0.1 sec].\n",
      "Processing file /media/NAS/Tesis/NER/Stanford_NLP/temp/file_271.txt ... writing to /media/NAS/Tesis/NER/Stanford_NLP/file_271.txt.out\n",
      "Annotating file /media/NAS/Tesis/NER/Stanford_NLP/temp/file_271.txt ... done [0.1 sec].\n",
      "Processing file /media/NAS/Tesis/NER/Stanford_NLP/temp/file_272.txt ... writing to /media/NAS/Tesis/NER/Stanford_NLP/file_272.txt.out\n",
      "Annotating file /media/NAS/Tesis/NER/Stanford_NLP/temp/file_272.txt ... done [0.1 sec].\n",
      "Processing file /media/NAS/Tesis/NER/Stanford_NLP/temp/file_273.txt ... writing to /media/NAS/Tesis/NER/Stanford_NLP/file_273.txt.out\n",
      "Annotating file /media/NAS/Tesis/NER/Stanford_NLP/temp/file_273.txt ... done [0.1 sec].\n",
      "Processing file /media/NAS/Tesis/NER/Stanford_NLP/temp/file_274.txt ... writing to /media/NAS/Tesis/NER/Stanford_NLP/file_274.txt.out\n",
      "Annotating file /media/NAS/Tesis/NER/Stanford_NLP/temp/file_274.txt ... done [0.1 sec].\n",
      "Processing file /media/NAS/Tesis/NER/Stanford_NLP/temp/file_275.txt ... writing to /media/NAS/Tesis/NER/Stanford_NLP/file_275.txt.out\n",
      "Annotating file /media/NAS/Tesis/NER/Stanford_NLP/temp/file_275.txt ... done [0.1 sec].\n",
      "Processing file /media/NAS/Tesis/NER/Stanford_NLP/temp/file_276.txt ... writing to /media/NAS/Tesis/NER/Stanford_NLP/file_276.txt.out\n",
      "Annotating file /media/NAS/Tesis/NER/Stanford_NLP/temp/file_276.txt ... done [0.1 sec].\n",
      "Processing file /media/NAS/Tesis/NER/Stanford_NLP/temp/file_277.txt ... writing to /media/NAS/Tesis/NER/Stanford_NLP/file_277.txt.out\n",
      "Annotating file /media/NAS/Tesis/NER/Stanford_NLP/temp/file_277.txt ... done [0.1 sec].\n",
      "Processing file /media/NAS/Tesis/NER/Stanford_NLP/temp/file_278.txt ... writing to /media/NAS/Tesis/NER/Stanford_NLP/file_278.txt.out\n",
      "Annotating file /media/NAS/Tesis/NER/Stanford_NLP/temp/file_278.txt ... done [0.1 sec].\n",
      "Processing file /media/NAS/Tesis/NER/Stanford_NLP/temp/file_279.txt ... writing to /media/NAS/Tesis/NER/Stanford_NLP/file_279.txt.out\n",
      "Annotating file /media/NAS/Tesis/NER/Stanford_NLP/temp/file_279.txt ... done [0.2 sec].\n",
      "Processing file /media/NAS/Tesis/NER/Stanford_NLP/temp/file_280.txt ... writing to /media/NAS/Tesis/NER/Stanford_NLP/file_280.txt.out\n",
      "Annotating file /media/NAS/Tesis/NER/Stanford_NLP/temp/file_280.txt ... done [0.1 sec].\n",
      "Processing file /media/NAS/Tesis/NER/Stanford_NLP/temp/file_281.txt ... writing to /media/NAS/Tesis/NER/Stanford_NLP/file_281.txt.out\n",
      "Annotating file /media/NAS/Tesis/NER/Stanford_NLP/temp/file_281.txt ... done [0.1 sec].\n",
      "Processing file /media/NAS/Tesis/NER/Stanford_NLP/temp/file_282.txt ... writing to /media/NAS/Tesis/NER/Stanford_NLP/file_282.txt.out\n",
      "Annotating file /media/NAS/Tesis/NER/Stanford_NLP/temp/file_282.txt ... done [0.1 sec].\n",
      "Processing file /media/NAS/Tesis/NER/Stanford_NLP/temp/file_283.txt ... writing to /media/NAS/Tesis/NER/Stanford_NLP/file_283.txt.out\n",
      "Annotating file /media/NAS/Tesis/NER/Stanford_NLP/temp/file_283.txt ... done [0.2 sec].\n",
      "Processing file /media/NAS/Tesis/NER/Stanford_NLP/temp/file_284.txt ... writing to /media/NAS/Tesis/NER/Stanford_NLP/file_284.txt.out\n",
      "Annotating file /media/NAS/Tesis/NER/Stanford_NLP/temp/file_284.txt ... done [0.1 sec].\n",
      "Processing file /media/NAS/Tesis/NER/Stanford_NLP/temp/file_285.txt ... writing to /media/NAS/Tesis/NER/Stanford_NLP/file_285.txt.out\n",
      "Annotating file /media/NAS/Tesis/NER/Stanford_NLP/temp/file_285.txt ... done [0.1 sec].\n",
      "Processing file /media/NAS/Tesis/NER/Stanford_NLP/temp/file_286.txt ... writing to /media/NAS/Tesis/NER/Stanford_NLP/file_286.txt.out\n",
      "Annotating file /media/NAS/Tesis/NER/Stanford_NLP/temp/file_286.txt ... done [0.1 sec].\n",
      "Processing file /media/NAS/Tesis/NER/Stanford_NLP/temp/file_287.txt ... writing to /media/NAS/Tesis/NER/Stanford_NLP/file_287.txt.out\n",
      "Annotating file /media/NAS/Tesis/NER/Stanford_NLP/temp/file_287.txt ... done [0.1 sec].\n",
      "Processing file /media/NAS/Tesis/NER/Stanford_NLP/temp/file_288.txt ... writing to /media/NAS/Tesis/NER/Stanford_NLP/file_288.txt.out\n",
      "Annotating file /media/NAS/Tesis/NER/Stanford_NLP/temp/file_288.txt ... done [0.3 sec].\n",
      "Processing file /media/NAS/Tesis/NER/Stanford_NLP/temp/file_289.txt ... writing to /media/NAS/Tesis/NER/Stanford_NLP/file_289.txt.out\n",
      "Annotating file /media/NAS/Tesis/NER/Stanford_NLP/temp/file_289.txt ... done [0.1 sec].\n",
      "Processing file /media/NAS/Tesis/NER/Stanford_NLP/temp/file_290.txt ... writing to /media/NAS/Tesis/NER/Stanford_NLP/file_290.txt.out\n",
      "Annotating file /media/NAS/Tesis/NER/Stanford_NLP/temp/file_290.txt ... done [0.1 sec].\n",
      "Processing file /media/NAS/Tesis/NER/Stanford_NLP/temp/file_291.txt ... writing to /media/NAS/Tesis/NER/Stanford_NLP/file_291.txt.out\n",
      "Annotating file /media/NAS/Tesis/NER/Stanford_NLP/temp/file_291.txt ... done [0.1 sec].\n",
      "Processing file /media/NAS/Tesis/NER/Stanford_NLP/temp/file_292.txt ... writing to /media/NAS/Tesis/NER/Stanford_NLP/file_292.txt.out\n",
      "Annotating file /media/NAS/Tesis/NER/Stanford_NLP/temp/file_292.txt ... done [0.1 sec].\n",
      "Processing file /media/NAS/Tesis/NER/Stanford_NLP/temp/file_293.txt ... writing to /media/NAS/Tesis/NER/Stanford_NLP/file_293.txt.out\n",
      "Annotating file /media/NAS/Tesis/NER/Stanford_NLP/temp/file_293.txt ... done [0.1 sec].\n",
      "Processing file /media/NAS/Tesis/NER/Stanford_NLP/temp/file_294.txt ... writing to /media/NAS/Tesis/NER/Stanford_NLP/file_294.txt.out\n",
      "Annotating file /media/NAS/Tesis/NER/Stanford_NLP/temp/file_294.txt ... done [0.1 sec].\n",
      "Processing file /media/NAS/Tesis/NER/Stanford_NLP/temp/file_295.txt ... writing to /media/NAS/Tesis/NER/Stanford_NLP/file_295.txt.out\n",
      "Annotating file /media/NAS/Tesis/NER/Stanford_NLP/temp/file_295.txt ... done [0.1 sec].\n",
      "Processing file /media/NAS/Tesis/NER/Stanford_NLP/temp/file_296.txt ... writing to /media/NAS/Tesis/NER/Stanford_NLP/file_296.txt.out\n",
      "Annotating file /media/NAS/Tesis/NER/Stanford_NLP/temp/file_296.txt ... done [0.5 sec].\n",
      "Processing file /media/NAS/Tesis/NER/Stanford_NLP/temp/file_297.txt ... writing to /media/NAS/Tesis/NER/Stanford_NLP/file_297.txt.out\n",
      "Annotating file /media/NAS/Tesis/NER/Stanford_NLP/temp/file_297.txt ... done [0.2 sec].\n",
      "Processing file /media/NAS/Tesis/NER/Stanford_NLP/temp/file_298.txt ... writing to /media/NAS/Tesis/NER/Stanford_NLP/file_298.txt.out\n",
      "Annotating file /media/NAS/Tesis/NER/Stanford_NLP/temp/file_298.txt ... done [0.1 sec].\n",
      "Processing file /media/NAS/Tesis/NER/Stanford_NLP/temp/file_299.txt ... writing to /media/NAS/Tesis/NER/Stanford_NLP/file_299.txt.out\n",
      "Annotating file /media/NAS/Tesis/NER/Stanford_NLP/temp/file_299.txt ... done [0.1 sec].\n",
      "Processing file /media/NAS/Tesis/NER/Stanford_NLP/temp/file_300.txt ... writing to /media/NAS/Tesis/NER/Stanford_NLP/file_300.txt.out\n",
      "Annotating file /media/NAS/Tesis/NER/Stanford_NLP/temp/file_300.txt ... done [0.2 sec].\n",
      "Processing file /media/NAS/Tesis/NER/Stanford_NLP/temp/file_301.txt ... writing to /media/NAS/Tesis/NER/Stanford_NLP/file_301.txt.out\n",
      "Annotating file /media/NAS/Tesis/NER/Stanford_NLP/temp/file_301.txt ... done [0.1 sec].\n",
      "Processing file /media/NAS/Tesis/NER/Stanford_NLP/temp/file_302.txt ... writing to /media/NAS/Tesis/NER/Stanford_NLP/file_302.txt.out\n",
      "Annotating file /media/NAS/Tesis/NER/Stanford_NLP/temp/file_302.txt ... done [0.1 sec].\n",
      "Processing file /media/NAS/Tesis/NER/Stanford_NLP/temp/file_303.txt ... writing to /media/NAS/Tesis/NER/Stanford_NLP/file_303.txt.out\n",
      "Annotating file /media/NAS/Tesis/NER/Stanford_NLP/temp/file_303.txt ... done [0.1 sec].\n",
      "Processing file /media/NAS/Tesis/NER/Stanford_NLP/temp/file_304.txt ... writing to /media/NAS/Tesis/NER/Stanford_NLP/file_304.txt.out\n",
      "Annotating file /media/NAS/Tesis/NER/Stanford_NLP/temp/file_304.txt ... done [0.1 sec].\n",
      "Processing file /media/NAS/Tesis/NER/Stanford_NLP/temp/file_305.txt ... writing to /media/NAS/Tesis/NER/Stanford_NLP/file_305.txt.out\n",
      "Annotating file /media/NAS/Tesis/NER/Stanford_NLP/temp/file_305.txt ... done [0.1 sec].\n",
      "Processing file /media/NAS/Tesis/NER/Stanford_NLP/temp/file_306.txt ... writing to /media/NAS/Tesis/NER/Stanford_NLP/file_306.txt.out\n",
      "Annotating file /media/NAS/Tesis/NER/Stanford_NLP/temp/file_306.txt ... done [0.1 sec].\n",
      "Processing file /media/NAS/Tesis/NER/Stanford_NLP/temp/file_307.txt ... writing to /media/NAS/Tesis/NER/Stanford_NLP/file_307.txt.out\n",
      "Annotating file /media/NAS/Tesis/NER/Stanford_NLP/temp/file_307.txt ... done [0.1 sec].\n",
      "Processing file /media/NAS/Tesis/NER/Stanford_NLP/temp/file_308.txt ... writing to /media/NAS/Tesis/NER/Stanford_NLP/file_308.txt.out\n",
      "Annotating file /media/NAS/Tesis/NER/Stanford_NLP/temp/file_308.txt ... done [0.1 sec].\n",
      "Processing file /media/NAS/Tesis/NER/Stanford_NLP/temp/file_309.txt ... writing to /media/NAS/Tesis/NER/Stanford_NLP/file_309.txt.out\n",
      "Annotating file /media/NAS/Tesis/NER/Stanford_NLP/temp/file_309.txt ... done [0.1 sec].\n",
      "Processing file /media/NAS/Tesis/NER/Stanford_NLP/temp/file_310.txt ... writing to /media/NAS/Tesis/NER/Stanford_NLP/file_310.txt.out\n",
      "Annotating file /media/NAS/Tesis/NER/Stanford_NLP/temp/file_310.txt ... done [0.1 sec].\n",
      "Processing file /media/NAS/Tesis/NER/Stanford_NLP/temp/file_311.txt ... writing to /media/NAS/Tesis/NER/Stanford_NLP/file_311.txt.out\n",
      "Annotating file /media/NAS/Tesis/NER/Stanford_NLP/temp/file_311.txt ... done [0.1 sec].\n",
      "Processing file /media/NAS/Tesis/NER/Stanford_NLP/temp/file_312.txt ... writing to /media/NAS/Tesis/NER/Stanford_NLP/file_312.txt.out\n",
      "Annotating file /media/NAS/Tesis/NER/Stanford_NLP/temp/file_312.txt ... done [0.1 sec].\n",
      "Processing file /media/NAS/Tesis/NER/Stanford_NLP/temp/file_313.txt ... writing to /media/NAS/Tesis/NER/Stanford_NLP/file_313.txt.out\n",
      "Annotating file /media/NAS/Tesis/NER/Stanford_NLP/temp/file_313.txt ... done [0.1 sec].\n",
      "Processing file /media/NAS/Tesis/NER/Stanford_NLP/temp/file_314.txt ... writing to /media/NAS/Tesis/NER/Stanford_NLP/file_314.txt.out\n",
      "Annotating file /media/NAS/Tesis/NER/Stanford_NLP/temp/file_314.txt ... done [0.1 sec].\n",
      "Processing file /media/NAS/Tesis/NER/Stanford_NLP/temp/file_315.txt ... writing to /media/NAS/Tesis/NER/Stanford_NLP/file_315.txt.out\n",
      "Annotating file /media/NAS/Tesis/NER/Stanford_NLP/temp/file_315.txt ... done [0.1 sec].\n",
      "Processing file /media/NAS/Tesis/NER/Stanford_NLP/temp/file_316.txt ... writing to /media/NAS/Tesis/NER/Stanford_NLP/file_316.txt.out\n",
      "Annotating file /media/NAS/Tesis/NER/Stanford_NLP/temp/file_316.txt ... done [0.1 sec].\n",
      "Processing file /media/NAS/Tesis/NER/Stanford_NLP/temp/file_317.txt ... writing to /media/NAS/Tesis/NER/Stanford_NLP/file_317.txt.out\n",
      "Annotating file /media/NAS/Tesis/NER/Stanford_NLP/temp/file_317.txt ... done [0.1 sec].\n",
      "Processing file /media/NAS/Tesis/NER/Stanford_NLP/temp/file_318.txt ... writing to /media/NAS/Tesis/NER/Stanford_NLP/file_318.txt.out\n",
      "Annotating file /media/NAS/Tesis/NER/Stanford_NLP/temp/file_318.txt ... done [0.1 sec].\n",
      "Processing file /media/NAS/Tesis/NER/Stanford_NLP/temp/file_319.txt ... writing to /media/NAS/Tesis/NER/Stanford_NLP/file_319.txt.out\n",
      "Annotating file /media/NAS/Tesis/NER/Stanford_NLP/temp/file_319.txt ... done [0.1 sec].\n",
      "Processing file /media/NAS/Tesis/NER/Stanford_NLP/temp/file_320.txt ... writing to /media/NAS/Tesis/NER/Stanford_NLP/file_320.txt.out\n",
      "Annotating file /media/NAS/Tesis/NER/Stanford_NLP/temp/file_320.txt ... done [0.1 sec].\n",
      "Processing file /media/NAS/Tesis/NER/Stanford_NLP/temp/file_321.txt ... writing to /media/NAS/Tesis/NER/Stanford_NLP/file_321.txt.out\n",
      "Annotating file /media/NAS/Tesis/NER/Stanford_NLP/temp/file_321.txt ... done [0.1 sec].\n",
      "Processing file /media/NAS/Tesis/NER/Stanford_NLP/temp/file_322.txt ... writing to /media/NAS/Tesis/NER/Stanford_NLP/file_322.txt.out\n",
      "Annotating file /media/NAS/Tesis/NER/Stanford_NLP/temp/file_322.txt ... done [0.1 sec].\n",
      "Processing file /media/NAS/Tesis/NER/Stanford_NLP/temp/file_323.txt ... writing to /media/NAS/Tesis/NER/Stanford_NLP/file_323.txt.out\n",
      "Annotating file /media/NAS/Tesis/NER/Stanford_NLP/temp/file_323.txt ... done [0.1 sec].\n",
      "Processing file /media/NAS/Tesis/NER/Stanford_NLP/temp/file_324.txt ... writing to /media/NAS/Tesis/NER/Stanford_NLP/file_324.txt.out\n",
      "Annotating file /media/NAS/Tesis/NER/Stanford_NLP/temp/file_324.txt ... done [0.1 sec].\n",
      "Processing file /media/NAS/Tesis/NER/Stanford_NLP/temp/file_325.txt ... writing to /media/NAS/Tesis/NER/Stanford_NLP/file_325.txt.out\n",
      "Annotating file /media/NAS/Tesis/NER/Stanford_NLP/temp/file_325.txt ... done [0.1 sec].\n",
      "Processing file /media/NAS/Tesis/NER/Stanford_NLP/temp/file_326.txt ... writing to /media/NAS/Tesis/NER/Stanford_NLP/file_326.txt.out\n",
      "Annotating file /media/NAS/Tesis/NER/Stanford_NLP/temp/file_326.txt ... done [0.1 sec].\n",
      "Processing file /media/NAS/Tesis/NER/Stanford_NLP/temp/file_327.txt ... writing to /media/NAS/Tesis/NER/Stanford_NLP/file_327.txt.out\n",
      "Annotating file /media/NAS/Tesis/NER/Stanford_NLP/temp/file_327.txt ... done [0.1 sec].\n",
      "Processing file /media/NAS/Tesis/NER/Stanford_NLP/temp/file_328.txt ... writing to /media/NAS/Tesis/NER/Stanford_NLP/file_328.txt.out\n",
      "Annotating file /media/NAS/Tesis/NER/Stanford_NLP/temp/file_328.txt ... done [0.1 sec].\n",
      "Processing file /media/NAS/Tesis/NER/Stanford_NLP/temp/file_329.txt ... writing to /media/NAS/Tesis/NER/Stanford_NLP/file_329.txt.out\n",
      "Annotating file /media/NAS/Tesis/NER/Stanford_NLP/temp/file_329.txt ... done [0.1 sec].\n",
      "Processing file /media/NAS/Tesis/NER/Stanford_NLP/temp/file_330.txt ... writing to /media/NAS/Tesis/NER/Stanford_NLP/file_330.txt.out\n",
      "Annotating file /media/NAS/Tesis/NER/Stanford_NLP/temp/file_330.txt ... done [0.2 sec].\n",
      "Processing file /media/NAS/Tesis/NER/Stanford_NLP/temp/file_331.txt ... writing to /media/NAS/Tesis/NER/Stanford_NLP/file_331.txt.out\n",
      "Annotating file /media/NAS/Tesis/NER/Stanford_NLP/temp/file_331.txt ... done [0.1 sec].\n",
      "Processing file /media/NAS/Tesis/NER/Stanford_NLP/temp/file_332.txt ... writing to /media/NAS/Tesis/NER/Stanford_NLP/file_332.txt.out\n",
      "Annotating file /media/NAS/Tesis/NER/Stanford_NLP/temp/file_332.txt ... done [0.1 sec].\n",
      "Processing file /media/NAS/Tesis/NER/Stanford_NLP/temp/file_333.txt ... writing to /media/NAS/Tesis/NER/Stanford_NLP/file_333.txt.out\n",
      "Annotating file /media/NAS/Tesis/NER/Stanford_NLP/temp/file_333.txt ... done [0.1 sec].\n",
      "Processing file /media/NAS/Tesis/NER/Stanford_NLP/temp/file_334.txt ... writing to /media/NAS/Tesis/NER/Stanford_NLP/file_334.txt.out\n",
      "Annotating file /media/NAS/Tesis/NER/Stanford_NLP/temp/file_334.txt ... done [0.1 sec].\n",
      "Processing file /media/NAS/Tesis/NER/Stanford_NLP/temp/file_335.txt ... writing to /media/NAS/Tesis/NER/Stanford_NLP/file_335.txt.out\n",
      "Annotating file /media/NAS/Tesis/NER/Stanford_NLP/temp/file_335.txt ... done [0.0 sec].\n",
      "Processing file /media/NAS/Tesis/NER/Stanford_NLP/temp/file_336.txt ... writing to /media/NAS/Tesis/NER/Stanford_NLP/file_336.txt.out\n",
      "Annotating file /media/NAS/Tesis/NER/Stanford_NLP/temp/file_336.txt ... done [0.2 sec].\n",
      "Processing file /media/NAS/Tesis/NER/Stanford_NLP/temp/file_337.txt ... writing to /media/NAS/Tesis/NER/Stanford_NLP/file_337.txt.out\n",
      "Annotating file /media/NAS/Tesis/NER/Stanford_NLP/temp/file_337.txt ... done [0.1 sec].\n",
      "Processing file /media/NAS/Tesis/NER/Stanford_NLP/temp/file_338.txt ... writing to /media/NAS/Tesis/NER/Stanford_NLP/file_338.txt.out\n",
      "Annotating file /media/NAS/Tesis/NER/Stanford_NLP/temp/file_338.txt ... done [0.1 sec].\n",
      "Processing file /media/NAS/Tesis/NER/Stanford_NLP/temp/file_339.txt ... writing to /media/NAS/Tesis/NER/Stanford_NLP/file_339.txt.out\n",
      "Annotating file /media/NAS/Tesis/NER/Stanford_NLP/temp/file_339.txt ... done [0.1 sec].\n",
      "Processing file /media/NAS/Tesis/NER/Stanford_NLP/temp/file_340.txt ... writing to /media/NAS/Tesis/NER/Stanford_NLP/file_340.txt.out\n",
      "Annotating file /media/NAS/Tesis/NER/Stanford_NLP/temp/file_340.txt ... done [0.1 sec].\n",
      "Processing file /media/NAS/Tesis/NER/Stanford_NLP/temp/file_341.txt ... writing to /media/NAS/Tesis/NER/Stanford_NLP/file_341.txt.out\n",
      "Annotating file /media/NAS/Tesis/NER/Stanford_NLP/temp/file_341.txt ... done [0.2 sec].\n",
      "Processing file /media/NAS/Tesis/NER/Stanford_NLP/temp/file_342.txt ... writing to /media/NAS/Tesis/NER/Stanford_NLP/file_342.txt.out\n",
      "Annotating file /media/NAS/Tesis/NER/Stanford_NLP/temp/file_342.txt ... done [0.1 sec].\n",
      "Processing file /media/NAS/Tesis/NER/Stanford_NLP/temp/file_343.txt ... writing to /media/NAS/Tesis/NER/Stanford_NLP/file_343.txt.out\n",
      "Annotating file /media/NAS/Tesis/NER/Stanford_NLP/temp/file_343.txt ... done [0.1 sec].\n",
      "Processing file /media/NAS/Tesis/NER/Stanford_NLP/temp/file_344.txt ... writing to /media/NAS/Tesis/NER/Stanford_NLP/file_344.txt.out\n",
      "Annotating file /media/NAS/Tesis/NER/Stanford_NLP/temp/file_344.txt ... done [0.2 sec].\n",
      "Processing file /media/NAS/Tesis/NER/Stanford_NLP/temp/file_345.txt ... writing to /media/NAS/Tesis/NER/Stanford_NLP/file_345.txt.out\n",
      "Annotating file /media/NAS/Tesis/NER/Stanford_NLP/temp/file_345.txt ... done [0.1 sec].\n",
      "Processing file /media/NAS/Tesis/NER/Stanford_NLP/temp/file_346.txt ... writing to /media/NAS/Tesis/NER/Stanford_NLP/file_346.txt.out\n",
      "Annotating file /media/NAS/Tesis/NER/Stanford_NLP/temp/file_346.txt ... done [0.2 sec].\n",
      "Processing file /media/NAS/Tesis/NER/Stanford_NLP/temp/file_347.txt ... writing to /media/NAS/Tesis/NER/Stanford_NLP/file_347.txt.out\n",
      "Annotating file /media/NAS/Tesis/NER/Stanford_NLP/temp/file_347.txt ... done [0.1 sec].\n",
      "Processing file /media/NAS/Tesis/NER/Stanford_NLP/temp/file_348.txt ... writing to /media/NAS/Tesis/NER/Stanford_NLP/file_348.txt.out\n",
      "Annotating file /media/NAS/Tesis/NER/Stanford_NLP/temp/file_348.txt ... done [0.1 sec].\n",
      "Processing file /media/NAS/Tesis/NER/Stanford_NLP/temp/file_349.txt ... writing to /media/NAS/Tesis/NER/Stanford_NLP/file_349.txt.out\n",
      "Annotating file /media/NAS/Tesis/NER/Stanford_NLP/temp/file_349.txt ... done [0.1 sec].\n",
      "Processing file /media/NAS/Tesis/NER/Stanford_NLP/temp/file_350.txt ... writing to /media/NAS/Tesis/NER/Stanford_NLP/file_350.txt.out\n",
      "Annotating file /media/NAS/Tesis/NER/Stanford_NLP/temp/file_350.txt ... done [0.1 sec].\n",
      "Processing file /media/NAS/Tesis/NER/Stanford_NLP/temp/file_351.txt ... writing to /media/NAS/Tesis/NER/Stanford_NLP/file_351.txt.out\n",
      "Annotating file /media/NAS/Tesis/NER/Stanford_NLP/temp/file_351.txt ... done [0.1 sec].\n",
      "Processing file /media/NAS/Tesis/NER/Stanford_NLP/temp/file_352.txt ... writing to /media/NAS/Tesis/NER/Stanford_NLP/file_352.txt.out\n",
      "Annotating file /media/NAS/Tesis/NER/Stanford_NLP/temp/file_352.txt ... done [0.1 sec].\n",
      "Processing file /media/NAS/Tesis/NER/Stanford_NLP/temp/file_353.txt ... writing to /media/NAS/Tesis/NER/Stanford_NLP/file_353.txt.out\n",
      "Annotating file /media/NAS/Tesis/NER/Stanford_NLP/temp/file_353.txt ... done [0.1 sec].\n",
      "Processing file /media/NAS/Tesis/NER/Stanford_NLP/temp/file_354.txt ... writing to /media/NAS/Tesis/NER/Stanford_NLP/file_354.txt.out\n",
      "Annotating file /media/NAS/Tesis/NER/Stanford_NLP/temp/file_354.txt ... done [0.1 sec].\n",
      "Processing file /media/NAS/Tesis/NER/Stanford_NLP/temp/file_355.txt ... writing to /media/NAS/Tesis/NER/Stanford_NLP/file_355.txt.out\n",
      "Annotating file /media/NAS/Tesis/NER/Stanford_NLP/temp/file_355.txt ... done [0.4 sec].\n",
      "Processing file /media/NAS/Tesis/NER/Stanford_NLP/temp/file_356.txt ... writing to /media/NAS/Tesis/NER/Stanford_NLP/file_356.txt.out\n",
      "Annotating file /media/NAS/Tesis/NER/Stanford_NLP/temp/file_356.txt ... done [0.1 sec].\n",
      "Processing file /media/NAS/Tesis/NER/Stanford_NLP/temp/file_357.txt ... writing to /media/NAS/Tesis/NER/Stanford_NLP/file_357.txt.out\n",
      "Annotating file /media/NAS/Tesis/NER/Stanford_NLP/temp/file_357.txt ... done [0.2 sec].\n",
      "Processing file /media/NAS/Tesis/NER/Stanford_NLP/temp/file_358.txt ... writing to /media/NAS/Tesis/NER/Stanford_NLP/file_358.txt.out\n",
      "Annotating file /media/NAS/Tesis/NER/Stanford_NLP/temp/file_358.txt ... done [0.2 sec].\n",
      "Processing file /media/NAS/Tesis/NER/Stanford_NLP/temp/file_359.txt ... writing to /media/NAS/Tesis/NER/Stanford_NLP/file_359.txt.out\n",
      "Annotating file /media/NAS/Tesis/NER/Stanford_NLP/temp/file_359.txt ... done [0.1 sec].\n",
      "Processing file /media/NAS/Tesis/NER/Stanford_NLP/temp/file_360.txt ... writing to /media/NAS/Tesis/NER/Stanford_NLP/file_360.txt.out\n",
      "Annotating file /media/NAS/Tesis/NER/Stanford_NLP/temp/file_360.txt ... done [0.1 sec].\n",
      "Processing file /media/NAS/Tesis/NER/Stanford_NLP/temp/file_361.txt ... writing to /media/NAS/Tesis/NER/Stanford_NLP/file_361.txt.out\n",
      "Annotating file /media/NAS/Tesis/NER/Stanford_NLP/temp/file_361.txt ... done [0.2 sec].\n",
      "Processing file /media/NAS/Tesis/NER/Stanford_NLP/temp/file_362.txt ... writing to /media/NAS/Tesis/NER/Stanford_NLP/file_362.txt.out\n",
      "Annotating file /media/NAS/Tesis/NER/Stanford_NLP/temp/file_362.txt ... done [0.1 sec].\n",
      "Processing file /media/NAS/Tesis/NER/Stanford_NLP/temp/file_363.txt ... writing to /media/NAS/Tesis/NER/Stanford_NLP/file_363.txt.out\n",
      "Annotating file /media/NAS/Tesis/NER/Stanford_NLP/temp/file_363.txt ... done [0.1 sec].\n",
      "Processing file /media/NAS/Tesis/NER/Stanford_NLP/temp/file_364.txt ... writing to /media/NAS/Tesis/NER/Stanford_NLP/file_364.txt.out\n",
      "Annotating file /media/NAS/Tesis/NER/Stanford_NLP/temp/file_364.txt ... done [0.1 sec].\n",
      "Processing file /media/NAS/Tesis/NER/Stanford_NLP/temp/file_365.txt ... writing to /media/NAS/Tesis/NER/Stanford_NLP/file_365.txt.out\n",
      "Annotating file /media/NAS/Tesis/NER/Stanford_NLP/temp/file_365.txt ... done [0.1 sec].\n",
      "Processing file /media/NAS/Tesis/NER/Stanford_NLP/temp/file_366.txt ... writing to /media/NAS/Tesis/NER/Stanford_NLP/file_366.txt.out\n",
      "Annotating file /media/NAS/Tesis/NER/Stanford_NLP/temp/file_366.txt ... done [0.1 sec].\n",
      "Processing file /media/NAS/Tesis/NER/Stanford_NLP/temp/file_367.txt ... writing to /media/NAS/Tesis/NER/Stanford_NLP/file_367.txt.out\n",
      "Annotating file /media/NAS/Tesis/NER/Stanford_NLP/temp/file_367.txt ... done [0.1 sec].\n",
      "Processing file /media/NAS/Tesis/NER/Stanford_NLP/temp/file_368.txt ... writing to /media/NAS/Tesis/NER/Stanford_NLP/file_368.txt.out\n",
      "Annotating file /media/NAS/Tesis/NER/Stanford_NLP/temp/file_368.txt ... done [0.1 sec].\n",
      "Processing file /media/NAS/Tesis/NER/Stanford_NLP/temp/file_369.txt ... writing to /media/NAS/Tesis/NER/Stanford_NLP/file_369.txt.out\n",
      "Annotating file /media/NAS/Tesis/NER/Stanford_NLP/temp/file_369.txt ... done [0.2 sec].\n",
      "Processing file /media/NAS/Tesis/NER/Stanford_NLP/temp/file_370.txt ... writing to /media/NAS/Tesis/NER/Stanford_NLP/file_370.txt.out\n",
      "Annotating file /media/NAS/Tesis/NER/Stanford_NLP/temp/file_370.txt ... done [0.1 sec].\n",
      "Processing file /media/NAS/Tesis/NER/Stanford_NLP/temp/file_371.txt ... writing to /media/NAS/Tesis/NER/Stanford_NLP/file_371.txt.out\n",
      "Annotating file /media/NAS/Tesis/NER/Stanford_NLP/temp/file_371.txt ... done [0.2 sec].\n",
      "Processing file /media/NAS/Tesis/NER/Stanford_NLP/temp/file_372.txt ... writing to /media/NAS/Tesis/NER/Stanford_NLP/file_372.txt.out\n",
      "Annotating file /media/NAS/Tesis/NER/Stanford_NLP/temp/file_372.txt ... done [0.2 sec].\n",
      "Processing file /media/NAS/Tesis/NER/Stanford_NLP/temp/file_373.txt ... writing to /media/NAS/Tesis/NER/Stanford_NLP/file_373.txt.out\n",
      "Annotating file /media/NAS/Tesis/NER/Stanford_NLP/temp/file_373.txt ... done [0.2 sec].\n",
      "Processing file /media/NAS/Tesis/NER/Stanford_NLP/temp/file_374.txt ... writing to /media/NAS/Tesis/NER/Stanford_NLP/file_374.txt.out\n",
      "Annotating file /media/NAS/Tesis/NER/Stanford_NLP/temp/file_374.txt ... done [0.2 sec].\n",
      "Processing file /media/NAS/Tesis/NER/Stanford_NLP/temp/file_375.txt ... writing to /media/NAS/Tesis/NER/Stanford_NLP/file_375.txt.out\n",
      "Annotating file /media/NAS/Tesis/NER/Stanford_NLP/temp/file_375.txt ... done [0.1 sec].\n",
      "Processing file /media/NAS/Tesis/NER/Stanford_NLP/temp/file_376.txt ... writing to /media/NAS/Tesis/NER/Stanford_NLP/file_376.txt.out\n",
      "Annotating file /media/NAS/Tesis/NER/Stanford_NLP/temp/file_376.txt ... done [0.4 sec].\n",
      "Processing file /media/NAS/Tesis/NER/Stanford_NLP/temp/file_377.txt ... writing to /media/NAS/Tesis/NER/Stanford_NLP/file_377.txt.out\n",
      "Annotating file /media/NAS/Tesis/NER/Stanford_NLP/temp/file_377.txt ... done [0.1 sec].\n",
      "Processing file /media/NAS/Tesis/NER/Stanford_NLP/temp/file_378.txt ... writing to /media/NAS/Tesis/NER/Stanford_NLP/file_378.txt.out\n",
      "Annotating file /media/NAS/Tesis/NER/Stanford_NLP/temp/file_378.txt ... done [0.1 sec].\n",
      "Processing file /media/NAS/Tesis/NER/Stanford_NLP/temp/file_379.txt ... writing to /media/NAS/Tesis/NER/Stanford_NLP/file_379.txt.out\n",
      "Annotating file /media/NAS/Tesis/NER/Stanford_NLP/temp/file_379.txt ... done [0.1 sec].\n",
      "Processing file /media/NAS/Tesis/NER/Stanford_NLP/temp/file_380.txt ... writing to /media/NAS/Tesis/NER/Stanford_NLP/file_380.txt.out\n",
      "Annotating file /media/NAS/Tesis/NER/Stanford_NLP/temp/file_380.txt ... done [0.4 sec].\n",
      "Processing file /media/NAS/Tesis/NER/Stanford_NLP/temp/file_381.txt ... writing to /media/NAS/Tesis/NER/Stanford_NLP/file_381.txt.out\n",
      "Annotating file /media/NAS/Tesis/NER/Stanford_NLP/temp/file_381.txt ... done [0.1 sec].\n",
      "Processing file /media/NAS/Tesis/NER/Stanford_NLP/temp/file_382.txt ... writing to /media/NAS/Tesis/NER/Stanford_NLP/file_382.txt.out\n",
      "Annotating file /media/NAS/Tesis/NER/Stanford_NLP/temp/file_382.txt ... done [0.1 sec].\n",
      "Processing file /media/NAS/Tesis/NER/Stanford_NLP/temp/file_383.txt ... writing to /media/NAS/Tesis/NER/Stanford_NLP/file_383.txt.out\n",
      "Annotating file /media/NAS/Tesis/NER/Stanford_NLP/temp/file_383.txt ... done [0.1 sec].\n",
      "Processing file /media/NAS/Tesis/NER/Stanford_NLP/temp/file_384.txt ... writing to /media/NAS/Tesis/NER/Stanford_NLP/file_384.txt.out\n",
      "Annotating file /media/NAS/Tesis/NER/Stanford_NLP/temp/file_384.txt ... done [0.1 sec].\n",
      "Processing file /media/NAS/Tesis/NER/Stanford_NLP/temp/file_385.txt ... writing to /media/NAS/Tesis/NER/Stanford_NLP/file_385.txt.out\n",
      "Annotating file /media/NAS/Tesis/NER/Stanford_NLP/temp/file_385.txt ... done [0.1 sec].\n",
      "Processing file /media/NAS/Tesis/NER/Stanford_NLP/temp/file_386.txt ... writing to /media/NAS/Tesis/NER/Stanford_NLP/file_386.txt.out\n",
      "Annotating file /media/NAS/Tesis/NER/Stanford_NLP/temp/file_386.txt ... done [0.3 sec].\n",
      "Processing file /media/NAS/Tesis/NER/Stanford_NLP/temp/file_387.txt ... writing to /media/NAS/Tesis/NER/Stanford_NLP/file_387.txt.out\n",
      "Annotating file /media/NAS/Tesis/NER/Stanford_NLP/temp/file_387.txt ... done [0.3 sec].\n",
      "Processing file /media/NAS/Tesis/NER/Stanford_NLP/temp/file_388.txt ... writing to /media/NAS/Tesis/NER/Stanford_NLP/file_388.txt.out\n",
      "Annotating file /media/NAS/Tesis/NER/Stanford_NLP/temp/file_388.txt ... done [0.0 sec].\n",
      "Processing file /media/NAS/Tesis/NER/Stanford_NLP/temp/file_389.txt ... writing to /media/NAS/Tesis/NER/Stanford_NLP/file_389.txt.out\n",
      "Annotating file /media/NAS/Tesis/NER/Stanford_NLP/temp/file_389.txt ... done [0.1 sec].\n",
      "Processing file /media/NAS/Tesis/NER/Stanford_NLP/temp/file_390.txt ... writing to /media/NAS/Tesis/NER/Stanford_NLP/file_390.txt.out\n",
      "Annotating file /media/NAS/Tesis/NER/Stanford_NLP/temp/file_390.txt ... done [0.1 sec].\n",
      "Processing file /media/NAS/Tesis/NER/Stanford_NLP/temp/file_391.txt ... writing to /media/NAS/Tesis/NER/Stanford_NLP/file_391.txt.out\n",
      "Annotating file /media/NAS/Tesis/NER/Stanford_NLP/temp/file_391.txt ... done [0.1 sec].\n",
      "Processing file /media/NAS/Tesis/NER/Stanford_NLP/temp/file_392.txt ... writing to /media/NAS/Tesis/NER/Stanford_NLP/file_392.txt.out\n",
      "Annotating file /media/NAS/Tesis/NER/Stanford_NLP/temp/file_392.txt ... done [0.1 sec].\n",
      "Processing file /media/NAS/Tesis/NER/Stanford_NLP/temp/file_393.txt ... writing to /media/NAS/Tesis/NER/Stanford_NLP/file_393.txt.out\n",
      "Annotating file /media/NAS/Tesis/NER/Stanford_NLP/temp/file_393.txt ... done [0.1 sec].\n",
      "Processing file /media/NAS/Tesis/NER/Stanford_NLP/temp/file_394.txt ... writing to /media/NAS/Tesis/NER/Stanford_NLP/file_394.txt.out\n",
      "Annotating file /media/NAS/Tesis/NER/Stanford_NLP/temp/file_394.txt ... done [0.1 sec].\n",
      "Processing file /media/NAS/Tesis/NER/Stanford_NLP/temp/file_395.txt ... writing to /media/NAS/Tesis/NER/Stanford_NLP/file_395.txt.out\n",
      "Annotating file /media/NAS/Tesis/NER/Stanford_NLP/temp/file_395.txt ... done [0.0 sec].\n",
      "Processing file /media/NAS/Tesis/NER/Stanford_NLP/temp/file_396.txt ... writing to /media/NAS/Tesis/NER/Stanford_NLP/file_396.txt.out\n",
      "Annotating file /media/NAS/Tesis/NER/Stanford_NLP/temp/file_396.txt ... done [0.1 sec].\n",
      "Processing file /media/NAS/Tesis/NER/Stanford_NLP/temp/file_397.txt ... writing to /media/NAS/Tesis/NER/Stanford_NLP/file_397.txt.out\n",
      "Annotating file /media/NAS/Tesis/NER/Stanford_NLP/temp/file_397.txt ... done [0.0 sec].\n",
      "Processing file /media/NAS/Tesis/NER/Stanford_NLP/temp/file_398.txt ... writing to /media/NAS/Tesis/NER/Stanford_NLP/file_398.txt.out\n",
      "Annotating file /media/NAS/Tesis/NER/Stanford_NLP/temp/file_398.txt ... done [0.1 sec].\n",
      "Processing file /media/NAS/Tesis/NER/Stanford_NLP/temp/file_399.txt ... writing to /media/NAS/Tesis/NER/Stanford_NLP/file_399.txt.out\n",
      "Annotating file /media/NAS/Tesis/NER/Stanford_NLP/temp/file_399.txt ... done [0.1 sec].\n",
      "Processing file /media/NAS/Tesis/NER/Stanford_NLP/temp/file_400.txt ... writing to /media/NAS/Tesis/NER/Stanford_NLP/file_400.txt.out\n",
      "Annotating file /media/NAS/Tesis/NER/Stanford_NLP/temp/file_400.txt ... done [0.1 sec].\n",
      "Processing file /media/NAS/Tesis/NER/Stanford_NLP/temp/file_401.txt ... writing to /media/NAS/Tesis/NER/Stanford_NLP/file_401.txt.out\n",
      "Annotating file /media/NAS/Tesis/NER/Stanford_NLP/temp/file_401.txt ... done [0.1 sec].\n",
      "Processing file /media/NAS/Tesis/NER/Stanford_NLP/temp/file_402.txt ... writing to /media/NAS/Tesis/NER/Stanford_NLP/file_402.txt.out\n",
      "Annotating file /media/NAS/Tesis/NER/Stanford_NLP/temp/file_402.txt ... done [0.1 sec].\n",
      "Processing file /media/NAS/Tesis/NER/Stanford_NLP/temp/file_403.txt ... writing to /media/NAS/Tesis/NER/Stanford_NLP/file_403.txt.out\n",
      "Annotating file /media/NAS/Tesis/NER/Stanford_NLP/temp/file_403.txt ... done [0.1 sec].\n",
      "Processing file /media/NAS/Tesis/NER/Stanford_NLP/temp/file_404.txt ... writing to /media/NAS/Tesis/NER/Stanford_NLP/file_404.txt.out\n",
      "Annotating file /media/NAS/Tesis/NER/Stanford_NLP/temp/file_404.txt ... done [0.1 sec].\n",
      "Processing file /media/NAS/Tesis/NER/Stanford_NLP/temp/file_405.txt ... writing to /media/NAS/Tesis/NER/Stanford_NLP/file_405.txt.out\n",
      "Annotating file /media/NAS/Tesis/NER/Stanford_NLP/temp/file_405.txt ... done [0.1 sec].\n",
      "Processing file /media/NAS/Tesis/NER/Stanford_NLP/temp/file_406.txt ... writing to /media/NAS/Tesis/NER/Stanford_NLP/file_406.txt.out\n",
      "Annotating file /media/NAS/Tesis/NER/Stanford_NLP/temp/file_406.txt ... done [0.1 sec].\n",
      "Processing file /media/NAS/Tesis/NER/Stanford_NLP/temp/file_407.txt ... writing to /media/NAS/Tesis/NER/Stanford_NLP/file_407.txt.out\n",
      "Annotating file /media/NAS/Tesis/NER/Stanford_NLP/temp/file_407.txt ... done [0.3 sec].\n",
      "Processing file /media/NAS/Tesis/NER/Stanford_NLP/temp/file_408.txt ... writing to /media/NAS/Tesis/NER/Stanford_NLP/file_408.txt.out\n",
      "Annotating file /media/NAS/Tesis/NER/Stanford_NLP/temp/file_408.txt ... done [0.1 sec].\n",
      "Processing file /media/NAS/Tesis/NER/Stanford_NLP/temp/file_409.txt ... writing to /media/NAS/Tesis/NER/Stanford_NLP/file_409.txt.out\n",
      "Annotating file /media/NAS/Tesis/NER/Stanford_NLP/temp/file_409.txt ... done [0.0 sec].\n",
      "Processing file /media/NAS/Tesis/NER/Stanford_NLP/temp/file_410.txt ... writing to /media/NAS/Tesis/NER/Stanford_NLP/file_410.txt.out\n",
      "Annotating file /media/NAS/Tesis/NER/Stanford_NLP/temp/file_410.txt ... done [0.1 sec].\n",
      "Processing file /media/NAS/Tesis/NER/Stanford_NLP/temp/file_411.txt ... writing to /media/NAS/Tesis/NER/Stanford_NLP/file_411.txt.out\n",
      "Annotating file /media/NAS/Tesis/NER/Stanford_NLP/temp/file_411.txt ... done [0.1 sec].\n",
      "Processing file /media/NAS/Tesis/NER/Stanford_NLP/temp/file_412.txt ... writing to /media/NAS/Tesis/NER/Stanford_NLP/file_412.txt.out\n",
      "Annotating file /media/NAS/Tesis/NER/Stanford_NLP/temp/file_412.txt ... done [0.1 sec].\n",
      "Processing file /media/NAS/Tesis/NER/Stanford_NLP/temp/file_413.txt ... writing to /media/NAS/Tesis/NER/Stanford_NLP/file_413.txt.out\n",
      "Annotating file /media/NAS/Tesis/NER/Stanford_NLP/temp/file_413.txt ... done [0.1 sec].\n",
      "Processing file /media/NAS/Tesis/NER/Stanford_NLP/temp/file_414.txt ... writing to /media/NAS/Tesis/NER/Stanford_NLP/file_414.txt.out\n",
      "Annotating file /media/NAS/Tesis/NER/Stanford_NLP/temp/file_414.txt ... done [0.1 sec].\n",
      "Processing file /media/NAS/Tesis/NER/Stanford_NLP/temp/file_415.txt ... writing to /media/NAS/Tesis/NER/Stanford_NLP/file_415.txt.out\n",
      "Annotating file /media/NAS/Tesis/NER/Stanford_NLP/temp/file_415.txt ... done [0.2 sec].\n",
      "Processing file /media/NAS/Tesis/NER/Stanford_NLP/temp/file_416.txt ... writing to /media/NAS/Tesis/NER/Stanford_NLP/file_416.txt.out\n",
      "Annotating file /media/NAS/Tesis/NER/Stanford_NLP/temp/file_416.txt ... done [0.1 sec].\n",
      "Processing file /media/NAS/Tesis/NER/Stanford_NLP/temp/file_417.txt ... writing to /media/NAS/Tesis/NER/Stanford_NLP/file_417.txt.out\n",
      "Annotating file /media/NAS/Tesis/NER/Stanford_NLP/temp/file_417.txt ... done [0.1 sec].\n",
      "Processing file /media/NAS/Tesis/NER/Stanford_NLP/temp/file_418.txt ... writing to /media/NAS/Tesis/NER/Stanford_NLP/file_418.txt.out\n",
      "Annotating file /media/NAS/Tesis/NER/Stanford_NLP/temp/file_418.txt ... done [0.3 sec].\n",
      "Processing file /media/NAS/Tesis/NER/Stanford_NLP/temp/file_419.txt ... writing to /media/NAS/Tesis/NER/Stanford_NLP/file_419.txt.out\n",
      "Annotating file /media/NAS/Tesis/NER/Stanford_NLP/temp/file_419.txt ... done [0.1 sec].\n",
      "Processing file /media/NAS/Tesis/NER/Stanford_NLP/temp/file_420.txt ... writing to /media/NAS/Tesis/NER/Stanford_NLP/file_420.txt.out\n",
      "Annotating file /media/NAS/Tesis/NER/Stanford_NLP/temp/file_420.txt ... done [0.1 sec].\n",
      "Processing file /media/NAS/Tesis/NER/Stanford_NLP/temp/file_421.txt ... writing to /media/NAS/Tesis/NER/Stanford_NLP/file_421.txt.out\n",
      "Annotating file /media/NAS/Tesis/NER/Stanford_NLP/temp/file_421.txt ... done [0.1 sec].\n",
      "Processing file /media/NAS/Tesis/NER/Stanford_NLP/temp/file_422.txt ... writing to /media/NAS/Tesis/NER/Stanford_NLP/file_422.txt.out\n",
      "Annotating file /media/NAS/Tesis/NER/Stanford_NLP/temp/file_422.txt ... done [0.1 sec].\n",
      "Processing file /media/NAS/Tesis/NER/Stanford_NLP/temp/file_423.txt ... writing to /media/NAS/Tesis/NER/Stanford_NLP/file_423.txt.out\n",
      "Annotating file /media/NAS/Tesis/NER/Stanford_NLP/temp/file_423.txt ... done [0.1 sec].\n",
      "Processing file /media/NAS/Tesis/NER/Stanford_NLP/temp/file_424.txt ... writing to /media/NAS/Tesis/NER/Stanford_NLP/file_424.txt.out\n",
      "Annotating file /media/NAS/Tesis/NER/Stanford_NLP/temp/file_424.txt ... done [0.1 sec].\n",
      "Processing file /media/NAS/Tesis/NER/Stanford_NLP/temp/file_425.txt ... writing to /media/NAS/Tesis/NER/Stanford_NLP/file_425.txt.out\n",
      "Annotating file /media/NAS/Tesis/NER/Stanford_NLP/temp/file_425.txt ... done [0.3 sec].\n",
      "Processing file /media/NAS/Tesis/NER/Stanford_NLP/temp/file_426.txt ... writing to /media/NAS/Tesis/NER/Stanford_NLP/file_426.txt.out\n",
      "Annotating file /media/NAS/Tesis/NER/Stanford_NLP/temp/file_426.txt ... done [0.5 sec].\n",
      "Processing file /media/NAS/Tesis/NER/Stanford_NLP/temp/file_427.txt ... writing to /media/NAS/Tesis/NER/Stanford_NLP/file_427.txt.out\n",
      "Annotating file /media/NAS/Tesis/NER/Stanford_NLP/temp/file_427.txt ... done [0.1 sec].\n",
      "Processing file /media/NAS/Tesis/NER/Stanford_NLP/temp/file_428.txt ... writing to /media/NAS/Tesis/NER/Stanford_NLP/file_428.txt.out\n",
      "Annotating file /media/NAS/Tesis/NER/Stanford_NLP/temp/file_428.txt ... done [0.1 sec].\n",
      "Processing file /media/NAS/Tesis/NER/Stanford_NLP/temp/file_429.txt ... writing to /media/NAS/Tesis/NER/Stanford_NLP/file_429.txt.out\n",
      "Annotating file /media/NAS/Tesis/NER/Stanford_NLP/temp/file_429.txt ... done [0.1 sec].\n",
      "Processing file /media/NAS/Tesis/NER/Stanford_NLP/temp/file_430.txt ... writing to /media/NAS/Tesis/NER/Stanford_NLP/file_430.txt.out\n",
      "Annotating file /media/NAS/Tesis/NER/Stanford_NLP/temp/file_430.txt ... done [0.1 sec].\n",
      "Processing file /media/NAS/Tesis/NER/Stanford_NLP/temp/file_431.txt ... writing to /media/NAS/Tesis/NER/Stanford_NLP/file_431.txt.out\n",
      "Annotating file /media/NAS/Tesis/NER/Stanford_NLP/temp/file_431.txt ... done [0.1 sec].\n",
      "Processing file /media/NAS/Tesis/NER/Stanford_NLP/temp/file_432.txt ... writing to /media/NAS/Tesis/NER/Stanford_NLP/file_432.txt.out\n",
      "Annotating file /media/NAS/Tesis/NER/Stanford_NLP/temp/file_432.txt ... done [0.1 sec].\n",
      "Processing file /media/NAS/Tesis/NER/Stanford_NLP/temp/file_433.txt ... writing to /media/NAS/Tesis/NER/Stanford_NLP/file_433.txt.out\n",
      "Annotating file /media/NAS/Tesis/NER/Stanford_NLP/temp/file_433.txt ... done [0.1 sec].\n",
      "Processing file /media/NAS/Tesis/NER/Stanford_NLP/temp/file_434.txt ... writing to /media/NAS/Tesis/NER/Stanford_NLP/file_434.txt.out\n",
      "Annotating file /media/NAS/Tesis/NER/Stanford_NLP/temp/file_434.txt ... done [0.1 sec].\n",
      "Processing file /media/NAS/Tesis/NER/Stanford_NLP/temp/file_435.txt ... writing to /media/NAS/Tesis/NER/Stanford_NLP/file_435.txt.out\n",
      "Annotating file /media/NAS/Tesis/NER/Stanford_NLP/temp/file_435.txt ... done [0.1 sec].\n",
      "Processing file /media/NAS/Tesis/NER/Stanford_NLP/temp/file_436.txt ... writing to /media/NAS/Tesis/NER/Stanford_NLP/file_436.txt.out\n",
      "Annotating file /media/NAS/Tesis/NER/Stanford_NLP/temp/file_436.txt ... done [0.1 sec].\n",
      "Processing file /media/NAS/Tesis/NER/Stanford_NLP/temp/file_437.txt ... writing to /media/NAS/Tesis/NER/Stanford_NLP/file_437.txt.out\n",
      "Annotating file /media/NAS/Tesis/NER/Stanford_NLP/temp/file_437.txt ... done [0.1 sec].\n",
      "Processing file /media/NAS/Tesis/NER/Stanford_NLP/temp/file_438.txt ... writing to /media/NAS/Tesis/NER/Stanford_NLP/file_438.txt.out\n",
      "Annotating file /media/NAS/Tesis/NER/Stanford_NLP/temp/file_438.txt ... done [0.1 sec].\n",
      "Processing file /media/NAS/Tesis/NER/Stanford_NLP/temp/file_439.txt ... writing to /media/NAS/Tesis/NER/Stanford_NLP/file_439.txt.out\n",
      "Annotating file /media/NAS/Tesis/NER/Stanford_NLP/temp/file_439.txt ... done [0.1 sec].\n",
      "Processing file /media/NAS/Tesis/NER/Stanford_NLP/temp/file_440.txt ... writing to /media/NAS/Tesis/NER/Stanford_NLP/file_440.txt.out\n",
      "Annotating file /media/NAS/Tesis/NER/Stanford_NLP/temp/file_440.txt ... done [0.4 sec].\n",
      "Processing file /media/NAS/Tesis/NER/Stanford_NLP/temp/file_441.txt ... writing to /media/NAS/Tesis/NER/Stanford_NLP/file_441.txt.out\n",
      "Annotating file /media/NAS/Tesis/NER/Stanford_NLP/temp/file_441.txt ... done [0.1 sec].\n",
      "Processing file /media/NAS/Tesis/NER/Stanford_NLP/temp/file_442.txt ... writing to /media/NAS/Tesis/NER/Stanford_NLP/file_442.txt.out\n",
      "Annotating file /media/NAS/Tesis/NER/Stanford_NLP/temp/file_442.txt ... done [0.1 sec].\n",
      "Processing file /media/NAS/Tesis/NER/Stanford_NLP/temp/file_443.txt ... writing to /media/NAS/Tesis/NER/Stanford_NLP/file_443.txt.out\n",
      "Annotating file /media/NAS/Tesis/NER/Stanford_NLP/temp/file_443.txt ... done [0.1 sec].\n",
      "Processing file /media/NAS/Tesis/NER/Stanford_NLP/temp/file_444.txt ... writing to /media/NAS/Tesis/NER/Stanford_NLP/file_444.txt.out\n",
      "Annotating file /media/NAS/Tesis/NER/Stanford_NLP/temp/file_444.txt ... done [0.1 sec].\n",
      "Processing file /media/NAS/Tesis/NER/Stanford_NLP/temp/file_445.txt ... writing to /media/NAS/Tesis/NER/Stanford_NLP/file_445.txt.out\n",
      "Annotating file /media/NAS/Tesis/NER/Stanford_NLP/temp/file_445.txt ... done [0.0 sec].\n",
      "Processing file /media/NAS/Tesis/NER/Stanford_NLP/temp/file_446.txt ... writing to /media/NAS/Tesis/NER/Stanford_NLP/file_446.txt.out\n",
      "Annotating file /media/NAS/Tesis/NER/Stanford_NLP/temp/file_446.txt ... done [0.1 sec].\n",
      "Processing file /media/NAS/Tesis/NER/Stanford_NLP/temp/file_447.txt ... writing to /media/NAS/Tesis/NER/Stanford_NLP/file_447.txt.out\n",
      "Annotating file /media/NAS/Tesis/NER/Stanford_NLP/temp/file_447.txt ... done [0.1 sec].\n",
      "Processing file /media/NAS/Tesis/NER/Stanford_NLP/temp/file_448.txt ... writing to /media/NAS/Tesis/NER/Stanford_NLP/file_448.txt.out\n",
      "Annotating file /media/NAS/Tesis/NER/Stanford_NLP/temp/file_448.txt ... done [0.1 sec].\n",
      "Processing file /media/NAS/Tesis/NER/Stanford_NLP/temp/file_449.txt ... writing to /media/NAS/Tesis/NER/Stanford_NLP/file_449.txt.out\n",
      "Annotating file /media/NAS/Tesis/NER/Stanford_NLP/temp/file_449.txt ... done [0.0 sec].\n",
      "Processing file /media/NAS/Tesis/NER/Stanford_NLP/temp/file_450.txt ... writing to /media/NAS/Tesis/NER/Stanford_NLP/file_450.txt.out\n",
      "Annotating file /media/NAS/Tesis/NER/Stanford_NLP/temp/file_450.txt ... done [0.1 sec].\n",
      "Processing file /media/NAS/Tesis/NER/Stanford_NLP/temp/file_451.txt ... writing to /media/NAS/Tesis/NER/Stanford_NLP/file_451.txt.out\n",
      "Annotating file /media/NAS/Tesis/NER/Stanford_NLP/temp/file_451.txt ... done [0.2 sec].\n",
      "Processing file /media/NAS/Tesis/NER/Stanford_NLP/temp/file_452.txt ... writing to /media/NAS/Tesis/NER/Stanford_NLP/file_452.txt.out\n",
      "Annotating file /media/NAS/Tesis/NER/Stanford_NLP/temp/file_452.txt ... done [0.1 sec].\n",
      "Processing file /media/NAS/Tesis/NER/Stanford_NLP/temp/file_453.txt ... writing to /media/NAS/Tesis/NER/Stanford_NLP/file_453.txt.out\n",
      "Annotating file /media/NAS/Tesis/NER/Stanford_NLP/temp/file_453.txt ... done [0.1 sec].\n",
      "Processing file /media/NAS/Tesis/NER/Stanford_NLP/temp/file_454.txt ... writing to /media/NAS/Tesis/NER/Stanford_NLP/file_454.txt.out\n",
      "Annotating file /media/NAS/Tesis/NER/Stanford_NLP/temp/file_454.txt ... done [0.1 sec].\n",
      "Processing file /media/NAS/Tesis/NER/Stanford_NLP/temp/file_455.txt ... writing to /media/NAS/Tesis/NER/Stanford_NLP/file_455.txt.out\n",
      "Annotating file /media/NAS/Tesis/NER/Stanford_NLP/temp/file_455.txt ... done [0.0 sec].\n",
      "Processing file /media/NAS/Tesis/NER/Stanford_NLP/temp/file_456.txt ... writing to /media/NAS/Tesis/NER/Stanford_NLP/file_456.txt.out\n",
      "Annotating file /media/NAS/Tesis/NER/Stanford_NLP/temp/file_456.txt ... done [0.1 sec].\n",
      "Processing file /media/NAS/Tesis/NER/Stanford_NLP/temp/file_457.txt ... writing to /media/NAS/Tesis/NER/Stanford_NLP/file_457.txt.out\n",
      "Annotating file /media/NAS/Tesis/NER/Stanford_NLP/temp/file_457.txt ... done [0.1 sec].\n",
      "Processing file /media/NAS/Tesis/NER/Stanford_NLP/temp/file_458.txt ... writing to /media/NAS/Tesis/NER/Stanford_NLP/file_458.txt.out\n",
      "Annotating file /media/NAS/Tesis/NER/Stanford_NLP/temp/file_458.txt ... done [0.1 sec].\n",
      "Processing file /media/NAS/Tesis/NER/Stanford_NLP/temp/file_459.txt ... writing to /media/NAS/Tesis/NER/Stanford_NLP/file_459.txt.out\n",
      "Annotating file /media/NAS/Tesis/NER/Stanford_NLP/temp/file_459.txt ... done [0.0 sec].\n",
      "Processing file /media/NAS/Tesis/NER/Stanford_NLP/temp/file_460.txt ... writing to /media/NAS/Tesis/NER/Stanford_NLP/file_460.txt.out\n",
      "Annotating file /media/NAS/Tesis/NER/Stanford_NLP/temp/file_460.txt ... done [0.1 sec].\n",
      "Processing file /media/NAS/Tesis/NER/Stanford_NLP/temp/file_461.txt ... writing to /media/NAS/Tesis/NER/Stanford_NLP/file_461.txt.out\n",
      "Annotating file /media/NAS/Tesis/NER/Stanford_NLP/temp/file_461.txt ... done [0.6 sec].\n",
      "Processing file /media/NAS/Tesis/NER/Stanford_NLP/temp/file_462.txt ... writing to /media/NAS/Tesis/NER/Stanford_NLP/file_462.txt.out\n",
      "Annotating file /media/NAS/Tesis/NER/Stanford_NLP/temp/file_462.txt ... done [0.1 sec].\n",
      "Processing file /media/NAS/Tesis/NER/Stanford_NLP/temp/file_463.txt ... writing to /media/NAS/Tesis/NER/Stanford_NLP/file_463.txt.out\n",
      "Annotating file /media/NAS/Tesis/NER/Stanford_NLP/temp/file_463.txt ... done [0.2 sec].\n",
      "Processing file /media/NAS/Tesis/NER/Stanford_NLP/temp/file_464.txt ... writing to /media/NAS/Tesis/NER/Stanford_NLP/file_464.txt.out\n",
      "Annotating file /media/NAS/Tesis/NER/Stanford_NLP/temp/file_464.txt ... done [0.1 sec].\n",
      "Processing file /media/NAS/Tesis/NER/Stanford_NLP/temp/file_465.txt ... writing to /media/NAS/Tesis/NER/Stanford_NLP/file_465.txt.out\n",
      "Annotating file /media/NAS/Tesis/NER/Stanford_NLP/temp/file_465.txt ... done [0.1 sec].\n",
      "Processing file /media/NAS/Tesis/NER/Stanford_NLP/temp/file_466.txt ... writing to /media/NAS/Tesis/NER/Stanford_NLP/file_466.txt.out\n",
      "Annotating file /media/NAS/Tesis/NER/Stanford_NLP/temp/file_466.txt ... done [0.3 sec].\n",
      "Processing file /media/NAS/Tesis/NER/Stanford_NLP/temp/file_467.txt ... writing to /media/NAS/Tesis/NER/Stanford_NLP/file_467.txt.out\n",
      "Annotating file /media/NAS/Tesis/NER/Stanford_NLP/temp/file_467.txt ... done [0.2 sec].\n",
      "Processing file /media/NAS/Tesis/NER/Stanford_NLP/temp/file_468.txt ... writing to /media/NAS/Tesis/NER/Stanford_NLP/file_468.txt.out\n",
      "Annotating file /media/NAS/Tesis/NER/Stanford_NLP/temp/file_468.txt ... done [0.1 sec].\n",
      "Processing file /media/NAS/Tesis/NER/Stanford_NLP/temp/file_469.txt ... writing to /media/NAS/Tesis/NER/Stanford_NLP/file_469.txt.out\n",
      "Annotating file /media/NAS/Tesis/NER/Stanford_NLP/temp/file_469.txt ... done [0.1 sec].\n",
      "Processing file /media/NAS/Tesis/NER/Stanford_NLP/temp/file_470.txt ... writing to /media/NAS/Tesis/NER/Stanford_NLP/file_470.txt.out\n",
      "Annotating file /media/NAS/Tesis/NER/Stanford_NLP/temp/file_470.txt ... done [0.1 sec].\n",
      "Processing file /media/NAS/Tesis/NER/Stanford_NLP/temp/file_471.txt ... writing to /media/NAS/Tesis/NER/Stanford_NLP/file_471.txt.out\n",
      "Annotating file /media/NAS/Tesis/NER/Stanford_NLP/temp/file_471.txt ... done [0.2 sec].\n",
      "Processing file /media/NAS/Tesis/NER/Stanford_NLP/temp/file_472.txt ... writing to /media/NAS/Tesis/NER/Stanford_NLP/file_472.txt.out\n",
      "Annotating file /media/NAS/Tesis/NER/Stanford_NLP/temp/file_472.txt ... done [0.1 sec].\n",
      "Processing file /media/NAS/Tesis/NER/Stanford_NLP/temp/file_473.txt ... writing to /media/NAS/Tesis/NER/Stanford_NLP/file_473.txt.out\n",
      "Annotating file /media/NAS/Tesis/NER/Stanford_NLP/temp/file_473.txt ... done [0.2 sec].\n",
      "Processing file /media/NAS/Tesis/NER/Stanford_NLP/temp/file_474.txt ... writing to /media/NAS/Tesis/NER/Stanford_NLP/file_474.txt.out\n",
      "Annotating file /media/NAS/Tesis/NER/Stanford_NLP/temp/file_474.txt ... done [0.1 sec].\n",
      "Processing file /media/NAS/Tesis/NER/Stanford_NLP/temp/file_475.txt ... writing to /media/NAS/Tesis/NER/Stanford_NLP/file_475.txt.out\n",
      "Annotating file /media/NAS/Tesis/NER/Stanford_NLP/temp/file_475.txt ... done [0.1 sec].\n",
      "Processing file /media/NAS/Tesis/NER/Stanford_NLP/temp/file_476.txt ... writing to /media/NAS/Tesis/NER/Stanford_NLP/file_476.txt.out\n",
      "Annotating file /media/NAS/Tesis/NER/Stanford_NLP/temp/file_476.txt ... done [0.2 sec].\n",
      "Processing file /media/NAS/Tesis/NER/Stanford_NLP/temp/file_477.txt ... writing to /media/NAS/Tesis/NER/Stanford_NLP/file_477.txt.out\n",
      "Annotating file /media/NAS/Tesis/NER/Stanford_NLP/temp/file_477.txt ... done [0.1 sec].\n",
      "Processing file /media/NAS/Tesis/NER/Stanford_NLP/temp/file_478.txt ... writing to /media/NAS/Tesis/NER/Stanford_NLP/file_478.txt.out\n",
      "Annotating file /media/NAS/Tesis/NER/Stanford_NLP/temp/file_478.txt ... done [0.4 sec].\n",
      "Processing file /media/NAS/Tesis/NER/Stanford_NLP/temp/file_479.txt ... writing to /media/NAS/Tesis/NER/Stanford_NLP/file_479.txt.out\n",
      "Annotating file /media/NAS/Tesis/NER/Stanford_NLP/temp/file_479.txt ... done [0.3 sec].\n",
      "Processing file /media/NAS/Tesis/NER/Stanford_NLP/temp/file_480.txt ... writing to /media/NAS/Tesis/NER/Stanford_NLP/file_480.txt.out\n",
      "Annotating file /media/NAS/Tesis/NER/Stanford_NLP/temp/file_480.txt ... done [0.9 sec].\n",
      "Processing file /media/NAS/Tesis/NER/Stanford_NLP/temp/file_481.txt ... writing to /media/NAS/Tesis/NER/Stanford_NLP/file_481.txt.out\n",
      "Annotating file /media/NAS/Tesis/NER/Stanford_NLP/temp/file_481.txt ... done [0.1 sec].\n",
      "Processing file /media/NAS/Tesis/NER/Stanford_NLP/temp/file_482.txt ... writing to /media/NAS/Tesis/NER/Stanford_NLP/file_482.txt.out\n",
      "Annotating file /media/NAS/Tesis/NER/Stanford_NLP/temp/file_482.txt ... done [0.1 sec].\n",
      "Processing file /media/NAS/Tesis/NER/Stanford_NLP/temp/file_483.txt ... writing to /media/NAS/Tesis/NER/Stanford_NLP/file_483.txt.out\n",
      "Annotating file /media/NAS/Tesis/NER/Stanford_NLP/temp/file_483.txt ... done [0.1 sec].\n",
      "Processing file /media/NAS/Tesis/NER/Stanford_NLP/temp/file_484.txt ... writing to /media/NAS/Tesis/NER/Stanford_NLP/file_484.txt.out\n",
      "Annotating file /media/NAS/Tesis/NER/Stanford_NLP/temp/file_484.txt ... done [0.1 sec].\n",
      "Processing file /media/NAS/Tesis/NER/Stanford_NLP/temp/file_485.txt ... writing to /media/NAS/Tesis/NER/Stanford_NLP/file_485.txt.out\n",
      "Annotating file /media/NAS/Tesis/NER/Stanford_NLP/temp/file_485.txt ... done [0.2 sec].\n",
      "Processing file /media/NAS/Tesis/NER/Stanford_NLP/temp/file_486.txt ... writing to /media/NAS/Tesis/NER/Stanford_NLP/file_486.txt.out\n",
      "Annotating file /media/NAS/Tesis/NER/Stanford_NLP/temp/file_486.txt ... done [0.1 sec].\n",
      "Processing file /media/NAS/Tesis/NER/Stanford_NLP/temp/file_487.txt ... writing to /media/NAS/Tesis/NER/Stanford_NLP/file_487.txt.out\n",
      "Annotating file /media/NAS/Tesis/NER/Stanford_NLP/temp/file_487.txt ... done [0.2 sec].\n",
      "Processing file /media/NAS/Tesis/NER/Stanford_NLP/temp/file_488.txt ... writing to /media/NAS/Tesis/NER/Stanford_NLP/file_488.txt.out\n",
      "Annotating file /media/NAS/Tesis/NER/Stanford_NLP/temp/file_488.txt ... done [0.1 sec].\n",
      "Processing file /media/NAS/Tesis/NER/Stanford_NLP/temp/file_489.txt ... writing to /media/NAS/Tesis/NER/Stanford_NLP/file_489.txt.out\n",
      "Annotating file /media/NAS/Tesis/NER/Stanford_NLP/temp/file_489.txt ... done [0.1 sec].\n",
      "Processing file /media/NAS/Tesis/NER/Stanford_NLP/temp/file_490.txt ... writing to /media/NAS/Tesis/NER/Stanford_NLP/file_490.txt.out\n",
      "Annotating file /media/NAS/Tesis/NER/Stanford_NLP/temp/file_490.txt ... done [0.1 sec].\n",
      "Processing file /media/NAS/Tesis/NER/Stanford_NLP/temp/file_491.txt ... writing to /media/NAS/Tesis/NER/Stanford_NLP/file_491.txt.out\n",
      "Annotating file /media/NAS/Tesis/NER/Stanford_NLP/temp/file_491.txt ... done [0.1 sec].\n",
      "Processing file /media/NAS/Tesis/NER/Stanford_NLP/temp/file_492.txt ... writing to /media/NAS/Tesis/NER/Stanford_NLP/file_492.txt.out\n",
      "Annotating file /media/NAS/Tesis/NER/Stanford_NLP/temp/file_492.txt ... done [0.1 sec].\n",
      "Processing file /media/NAS/Tesis/NER/Stanford_NLP/temp/file_493.txt ... writing to /media/NAS/Tesis/NER/Stanford_NLP/file_493.txt.out\n",
      "Annotating file /media/NAS/Tesis/NER/Stanford_NLP/temp/file_493.txt ... done [0.1 sec].\n",
      "Processing file /media/NAS/Tesis/NER/Stanford_NLP/temp/file_494.txt ... writing to /media/NAS/Tesis/NER/Stanford_NLP/file_494.txt.out\n",
      "Annotating file /media/NAS/Tesis/NER/Stanford_NLP/temp/file_494.txt ... done [0.1 sec].\n",
      "Processing file /media/NAS/Tesis/NER/Stanford_NLP/temp/file_495.txt ... writing to /media/NAS/Tesis/NER/Stanford_NLP/file_495.txt.out\n",
      "Annotating file /media/NAS/Tesis/NER/Stanford_NLP/temp/file_495.txt ... done [0.1 sec].\n",
      "Processing file /media/NAS/Tesis/NER/Stanford_NLP/temp/file_496.txt ... writing to /media/NAS/Tesis/NER/Stanford_NLP/file_496.txt.out\n",
      "Annotating file /media/NAS/Tesis/NER/Stanford_NLP/temp/file_496.txt ... done [0.1 sec].\n",
      "Processing file /media/NAS/Tesis/NER/Stanford_NLP/temp/file_497.txt ... writing to /media/NAS/Tesis/NER/Stanford_NLP/file_497.txt.out\n",
      "Annotating file /media/NAS/Tesis/NER/Stanford_NLP/temp/file_497.txt ... done [0.1 sec].\n",
      "Processing file /media/NAS/Tesis/NER/Stanford_NLP/temp/file_498.txt ... writing to /media/NAS/Tesis/NER/Stanford_NLP/file_498.txt.out\n",
      "Annotating file /media/NAS/Tesis/NER/Stanford_NLP/temp/file_498.txt ... done [0.1 sec].\n",
      "Processing file /media/NAS/Tesis/NER/Stanford_NLP/temp/file_499.txt ... writing to /media/NAS/Tesis/NER/Stanford_NLP/file_499.txt.out\n",
      "Annotating file /media/NAS/Tesis/NER/Stanford_NLP/temp/file_499.txt ... done [0.1 sec].\n",
      "\n",
      "Annotation pipeline timing information:\n",
      "TokenizerAnnotator: 0.0 sec.\n",
      "WordsToSentencesAnnotator: 0.0 sec.\n",
      "MWTAnnotator: 0.0 sec.\n",
      "POSTaggerAnnotator: 3.0 sec.\n",
      "MorphaAnnotator: 0.0 sec.\n",
      "NERCombinerAnnotator: 5.9 sec.\n",
      "DependencyParseAnnotator: 24.0 sec.\n",
      "KBPAnnotator: 24.7 sec.\n",
      "TOTAL: 57.6 sec. for 74810 tokens at 1297.7 tokens/sec.\n",
      "Pipeline setup: 5.2 sec.\n",
      "Total time for StanfordCoreNLP pipeline: 68.2 sec.\n"
     ]
    },
    {
     "name": "stdout",
     "output_type": "stream",
     "text": [
      "0\n",
      "continue due to size cero\n"
     ]
    }
   ],
   "source": [
    "res = wp.make_prediction(texts)"
   ]
  },
  {
   "cell_type": "markdown",
   "metadata": {},
   "source": [
    "# Etiquetado usando las palabras de las listas"
   ]
  },
  {
   "cell_type": "code",
   "execution_count": 5,
   "metadata": {},
   "outputs": [],
   "source": [
    "def clean(w):\n",
    "    aux = ''\n",
    "    for c in w.strip().lower():\n",
    "        if c == ')' or c == '(':\n",
    "            continue\n",
    "        aux += c\n",
    "    return aux"
   ]
  },
  {
   "cell_type": "code",
   "execution_count": 6,
   "metadata": {},
   "outputs": [],
   "source": [
    "def get_inter(frase, voc, tol=0.2):\n",
    "    cont = 0\n",
    "    if type(frase) != list:\n",
    "        frase = frase.split()\n",
    "    for w in frase:\n",
    "        if w in voc:\n",
    "            cont += 1\n",
    "\n",
    "    if cont >= int(len(frase)*tol)+1:\n",
    "        return True\n",
    "    return False\n",
    "\n",
    "\n",
    "def get_frase(class_stanford):\n",
    "    return class_stanford['Text'].strip().lower()\n",
    "\n",
    "\n",
    "def text_tagger(text, voc, tol=0.2, window=5):\n",
    "    text = text.split()\n",
    "    labels = []\n",
    "    for i in range(window//2, len(text)):\n",
    "        if get_inter(text[i-window//2:i+window//2+1], voc, tol):\n",
    "            labels.append(1)\n",
    "        else:\n",
    "            labels.append(0)\n",
    "\n",
    "    return labels"
   ]
  },
  {
   "cell_type": "code",
   "execution_count": 7,
   "metadata": {},
   "outputs": [],
   "source": [
    "civ = pd.read_csv('/media/NAS/Tesis/NER/data/CNB_data/civilservants.csv')['CIVILSERVANTS '].tolist()\n",
    "org = pd.read_csv('/media/NAS/Tesis/NER/data/CNB_data/organizations.csv')['ORGANIZATIONS '].tolist()\n",
    "pla = pd.read_csv('/media/NAS/Tesis/NER/data/CNB_data/places.csv')['PLACES '].tolist()\n",
    "pro = pd.read_csv('/media/NAS/Tesis/NER/data/CNB_data/prosecuted.csv')['PROSECUTED '].tolist()"
   ]
  },
  {
   "cell_type": "code",
   "execution_count": 8,
   "metadata": {},
   "outputs": [],
   "source": [
    "civ = list(set([clean(w) for w in civ]))\n",
    "civ = list(set([w for word in civ for w in word.split() ]))\n",
    "org = list(set([clean(w) for w in org]))\n",
    "org = list(set([w for word in org for w in word.split() ]))\n",
    "pla = list(set([clean(w) for w in pla]))\n",
    "pla = list(set([w for word in pla for w in word.split() ]))\n",
    "pro = list(set([clean(w) for w in pro]))\n",
    "pro = list(set([w for word in pro for w in word.split() ]))"
   ]
  },
  {
   "cell_type": "code",
   "execution_count": 9,
   "metadata": {},
   "outputs": [],
   "source": [
    "data = {\n",
    "    'civ':civ,\n",
    "    'org':org,\n",
    "    'pla':pla,\n",
    "    'pro':pro\n",
    "}"
   ]
  },
  {
   "cell_type": "code",
   "execution_count": 10,
   "metadata": {},
   "outputs": [],
   "source": [
    "text_cats = {}"
   ]
  },
  {
   "cell_type": "code",
   "execution_count": 14,
   "metadata": {},
   "outputs": [],
   "source": [
    "res_tag = []\n",
    "for text in texts:\n",
    "    aux = {}\n",
    "    aux['Text'] = text.split()\n",
    "    for k in data:\n",
    "        lab = []\n",
    "        for w in aux['Text']:\n",
    "            if w in stop:\n",
    "                lab.append('O')\n",
    "                continue\n",
    "            if w in data[k]:\n",
    "                lab.append(k)\n",
    "            else:\n",
    "                lab.append('O')\n",
    "        aux[k] = lab\n",
    "    res_tag.append(aux)"
   ]
  },
  {
   "cell_type": "code",
   "execution_count": 15,
   "metadata": {},
   "outputs": [],
   "source": [
    "for ind in range(len(res_tag)):\n",
    "    res_tag[ind]['Stanford'] = ['O']*len(res_tag[ind]['civ'])"
   ]
  },
  {
   "cell_type": "code",
   "execution_count": 16,
   "metadata": {},
   "outputs": [],
   "source": [
    "for r in res:\n",
    "    word_list = r['Text'].split()\n",
    "    for ind_w in range(len(texts[r['File']].split())):\n",
    "        if texts[r['File']].split()[ind_w] in stop:\n",
    "            continue\n",
    "        if texts[r['File']].split()[ind_w] in word_list:\n",
    "            res_tag[r['File']]['Stanford'][ind_w] = r['TAG'].split(':')[0]"
   ]
  },
  {
   "cell_type": "code",
   "execution_count": 17,
   "metadata": {},
   "outputs": [],
   "source": [
    "real_labs = ['civ','org','pla','pro']\n",
    "pred_labs = ['Stanford']"
   ]
  },
  {
   "cell_type": "code",
   "execution_count": 18,
   "metadata": {},
   "outputs": [],
   "source": [
    "ind_text = 0\n",
    "for text in res_tag:\n",
    "    real_lab_list = [0]*len(text[real_labs[0]])\n",
    "    pred_lab_list = [0]*len(text[real_labs[0]])\n",
    "    for real in real_labs:\n",
    "        for ind_p in range(len(text[real])):\n",
    "            if text[real][ind_p] == 'O':\n",
    "                continue\n",
    "            real_lab_list[ind_p] = 1\n",
    "    for pred in pred_labs:\n",
    "        for ind_p in range(len(text[pred])):\n",
    "            if text[pred][ind_p] == 'O':\n",
    "                continue\n",
    "            pred_lab_list[ind_p] = 1\n",
    "    res_tag[ind_text]['real_lab'] = real_lab_list\n",
    "    res_tag[ind_text]['pred_lab'] = pred_lab_list\n",
    "    ind_text += 1"
   ]
  },
  {
   "cell_type": "code",
   "execution_count": 19,
   "metadata": {},
   "outputs": [],
   "source": [
    "real = []\n",
    "preds = []\n",
    "\n",
    "for ind in range(len(res_tag)):\n",
    "    real += res_tag[ind]['real_lab']\n",
    "    preds += res_tag[ind]['pred_lab']"
   ]
  },
  {
   "cell_type": "code",
   "execution_count": 20,
   "metadata": {},
   "outputs": [],
   "source": [
    "from sklearn.metrics import f1_score, accuracy_score, precision_score, recall_score"
   ]
  },
  {
   "cell_type": "code",
   "execution_count": 21,
   "metadata": {},
   "outputs": [
    {
     "data": {
      "text/plain": [
       "0.18795386586928664"
      ]
     },
     "execution_count": 21,
     "metadata": {},
     "output_type": "execute_result"
    }
   ],
   "source": [
    "f1_score(real, preds)"
   ]
  },
  {
   "cell_type": "code",
   "execution_count": 22,
   "metadata": {},
   "outputs": [
    {
     "data": {
      "text/plain": [
       "0.8274892010599296"
      ]
     },
     "execution_count": 22,
     "metadata": {},
     "output_type": "execute_result"
    }
   ],
   "source": [
    "accuracy_score(real, preds)"
   ]
  },
  {
   "cell_type": "code",
   "execution_count": 23,
   "metadata": {},
   "outputs": [
    {
     "data": {
      "text/plain": [
       "0.16127849864379445"
      ]
     },
     "execution_count": 23,
     "metadata": {},
     "output_type": "execute_result"
    }
   ],
   "source": [
    "precision_score(real, preds)"
   ]
  },
  {
   "cell_type": "code",
   "execution_count": 24,
   "metadata": {},
   "outputs": [
    {
     "data": {
      "text/plain": [
       "0.22520217013000307"
      ]
     },
     "execution_count": 24,
     "metadata": {},
     "output_type": "execute_result"
    }
   ],
   "source": [
    "recall_score(real, preds)"
   ]
  },
  {
   "cell_type": "code",
   "execution_count": 11,
   "metadata": {},
   "outputs": [],
   "source": [
    "from nltk.corpus import stopwords"
   ]
  },
  {
   "cell_type": "code",
   "execution_count": 12,
   "metadata": {},
   "outputs": [],
   "source": [
    "stop = stopwords.words('spanish')"
   ]
  },
  {
   "cell_type": "code",
   "execution_count": 13,
   "metadata": {},
   "outputs": [],
   "source": [
    "all_texts = \" \".join([t for t in texts])"
   ]
  },
  {
   "cell_type": "markdown",
   "metadata": {},
   "source": [
    "# Ventana 5, tolerancia 20"
   ]
  },
  {
   "cell_type": "code",
   "execution_count": 44,
   "metadata": {},
   "outputs": [],
   "source": [
    "res = {}\n",
    "for k in data:\n",
    "    res[k] = [0, 0] + text_tagger(all_texts, data[k], tol=0.2, window=5)"
   ]
  },
  {
   "cell_type": "markdown",
   "metadata": {},
   "source": [
    "## Coincidencias con civ"
   ]
  },
  {
   "cell_type": "code",
   "execution_count": 45,
   "metadata": {},
   "outputs": [],
   "source": [
    "voc_etiq = []\n",
    "for i in range(len(res['civ'])):\n",
    "    aux = False\n",
    "    for k in res:\n",
    "        if res[k][i] == 1:\n",
    "            aux = True\n",
    "            voc_etiq.append(1)\n",
    "            break\n",
    "    if aux:\n",
    "        aux = False\n",
    "    else:\n",
    "        voc_etiq.append(0)\n"
   ]
  },
  {
   "cell_type": "markdown",
   "metadata": {},
   "source": [
    "Métricas"
   ]
  },
  {
   "cell_type": "code",
   "execution_count": 48,
   "metadata": {},
   "outputs": [
    {
     "data": {
      "text/plain": [
       "0.3236959599259501"
      ]
     },
     "execution_count": 48,
     "metadata": {},
     "output_type": "execute_result"
    }
   ],
   "source": [
    "accuracy_score(voc_etiq, preds)"
   ]
  },
  {
   "cell_type": "code",
   "execution_count": 49,
   "metadata": {},
   "outputs": [
    {
     "data": {
      "text/plain": [
       "0.15068149701417696"
      ]
     },
     "execution_count": 49,
     "metadata": {},
     "output_type": "execute_result"
    }
   ],
   "source": [
    "f1_score(voc_etiq, preds)"
   ]
  },
  {
   "cell_type": "markdown",
   "metadata": {},
   "source": [
    "Número de predicciones"
   ]
  },
  {
   "cell_type": "code",
   "execution_count": 50,
   "metadata": {},
   "outputs": [
    {
     "data": {
      "text/plain": [
       "74107"
      ]
     },
     "execution_count": 50,
     "metadata": {},
     "output_type": "execute_result"
    }
   ],
   "source": [
    "np.sum(voc_etiq)"
   ]
  },
  {
   "cell_type": "code",
   "execution_count": 51,
   "metadata": {},
   "outputs": [
    {
     "data": {
      "text/plain": [
       "13641"
      ]
     },
     "execution_count": 51,
     "metadata": {},
     "output_type": "execute_result"
    }
   ],
   "source": [
    "np.sum(preds)"
   ]
  },
  {
   "cell_type": "markdown",
   "metadata": {},
   "source": [
    "## Coincidencias con org"
   ]
  },
  {
   "cell_type": "code",
   "execution_count": 57,
   "metadata": {},
   "outputs": [],
   "source": [
    "voc_etiq = []\n",
    "for i in range(len(res['org'])):\n",
    "    aux = False\n",
    "    for k in res:\n",
    "        if res[k][i] == 1:\n",
    "            aux = True\n",
    "            voc_etiq.append(1)\n",
    "            break\n",
    "    if aux:\n",
    "        aux = False\n",
    "    else:\n",
    "        voc_etiq.append(0)\n"
   ]
  },
  {
   "cell_type": "markdown",
   "metadata": {},
   "source": [
    "Métricas"
   ]
  },
  {
   "cell_type": "code",
   "execution_count": 58,
   "metadata": {},
   "outputs": [
    {
     "data": {
      "text/plain": [
       "0.3236959599259501"
      ]
     },
     "execution_count": 58,
     "metadata": {},
     "output_type": "execute_result"
    }
   ],
   "source": [
    "accuracy_score(voc_etiq, preds)"
   ]
  },
  {
   "cell_type": "code",
   "execution_count": 59,
   "metadata": {},
   "outputs": [
    {
     "data": {
      "text/plain": [
       "0.15068149701417696"
      ]
     },
     "execution_count": 59,
     "metadata": {},
     "output_type": "execute_result"
    }
   ],
   "source": [
    "f1_score(voc_etiq, preds)"
   ]
  },
  {
   "cell_type": "markdown",
   "metadata": {},
   "source": [
    "Número de predicciones"
   ]
  },
  {
   "cell_type": "code",
   "execution_count": 60,
   "metadata": {},
   "outputs": [
    {
     "data": {
      "text/plain": [
       "74107"
      ]
     },
     "execution_count": 60,
     "metadata": {},
     "output_type": "execute_result"
    }
   ],
   "source": [
    "np.sum(voc_etiq)"
   ]
  },
  {
   "cell_type": "code",
   "execution_count": 61,
   "metadata": {},
   "outputs": [
    {
     "data": {
      "text/plain": [
       "13641"
      ]
     },
     "execution_count": 61,
     "metadata": {},
     "output_type": "execute_result"
    }
   ],
   "source": [
    "np.sum(preds)"
   ]
  },
  {
   "cell_type": "markdown",
   "metadata": {},
   "source": [
    "## Coincidencias con pla"
   ]
  },
  {
   "cell_type": "code",
   "execution_count": 1,
   "metadata": {},
   "outputs": [
    {
     "ename": "NameError",
     "evalue": "name 'res' is not defined",
     "output_type": "error",
     "traceback": [
      "\u001b[0;31m---------------------------------------------------------------------------\u001b[0m",
      "\u001b[0;31mNameError\u001b[0m                                 Traceback (most recent call last)",
      "\u001b[0;32m/tmp/ipykernel_1631802/988223257.py\u001b[0m in \u001b[0;36m<module>\u001b[0;34m\u001b[0m\n\u001b[1;32m      1\u001b[0m \u001b[0mvoc_etiq\u001b[0m \u001b[0;34m=\u001b[0m \u001b[0;34m[\u001b[0m\u001b[0;34m]\u001b[0m\u001b[0;34m\u001b[0m\u001b[0;34m\u001b[0m\u001b[0m\n\u001b[0;32m----> 2\u001b[0;31m \u001b[0;32mfor\u001b[0m \u001b[0mi\u001b[0m \u001b[0;32min\u001b[0m \u001b[0mrange\u001b[0m\u001b[0;34m(\u001b[0m\u001b[0mlen\u001b[0m\u001b[0;34m(\u001b[0m\u001b[0mres\u001b[0m\u001b[0;34m[\u001b[0m\u001b[0;34m'pla'\u001b[0m\u001b[0;34m]\u001b[0m\u001b[0;34m)\u001b[0m\u001b[0;34m)\u001b[0m\u001b[0;34m:\u001b[0m\u001b[0;34m\u001b[0m\u001b[0;34m\u001b[0m\u001b[0m\n\u001b[0m\u001b[1;32m      3\u001b[0m     \u001b[0maux\u001b[0m \u001b[0;34m=\u001b[0m \u001b[0;32mFalse\u001b[0m\u001b[0;34m\u001b[0m\u001b[0;34m\u001b[0m\u001b[0m\n\u001b[1;32m      4\u001b[0m     \u001b[0;32mfor\u001b[0m \u001b[0mk\u001b[0m \u001b[0;32min\u001b[0m \u001b[0mres\u001b[0m\u001b[0;34m:\u001b[0m\u001b[0;34m\u001b[0m\u001b[0;34m\u001b[0m\u001b[0m\n\u001b[1;32m      5\u001b[0m         \u001b[0;32mif\u001b[0m \u001b[0mres\u001b[0m\u001b[0;34m[\u001b[0m\u001b[0mk\u001b[0m\u001b[0;34m]\u001b[0m\u001b[0;34m[\u001b[0m\u001b[0mi\u001b[0m\u001b[0;34m]\u001b[0m \u001b[0;34m==\u001b[0m \u001b[0;36m1\u001b[0m\u001b[0;34m:\u001b[0m\u001b[0;34m\u001b[0m\u001b[0;34m\u001b[0m\u001b[0m\n",
      "\u001b[0;31mNameError\u001b[0m: name 'res' is not defined"
     ]
    }
   ],
   "source": [
    "voc_etiq = []\n",
    "for i in range(len(res['pla'])):\n",
    "    aux = False\n",
    "    for k in res:\n",
    "        if res[k][i] == 1:\n",
    "            aux = True\n",
    "            voc_etiq.append(1)\n",
    "            break\n",
    "    if aux:\n",
    "        aux = False\n",
    "    else:\n",
    "        voc_etiq.append(0)\n"
   ]
  },
  {
   "cell_type": "markdown",
   "metadata": {},
   "source": [
    "Métricas"
   ]
  },
  {
   "cell_type": "code",
   "execution_count": 63,
   "metadata": {},
   "outputs": [
    {
     "data": {
      "text/plain": [
       "0.3236959599259501"
      ]
     },
     "execution_count": 63,
     "metadata": {},
     "output_type": "execute_result"
    }
   ],
   "source": [
    "accuracy_score(voc_etiq, preds)"
   ]
  },
  {
   "cell_type": "code",
   "execution_count": 64,
   "metadata": {},
   "outputs": [
    {
     "data": {
      "text/plain": [
       "0.15068149701417696"
      ]
     },
     "execution_count": 64,
     "metadata": {},
     "output_type": "execute_result"
    }
   ],
   "source": [
    "f1_score(voc_etiq, preds)"
   ]
  },
  {
   "cell_type": "markdown",
   "metadata": {},
   "source": [
    "Número de predicciones"
   ]
  },
  {
   "cell_type": "code",
   "execution_count": 65,
   "metadata": {},
   "outputs": [
    {
     "data": {
      "text/plain": [
       "74107"
      ]
     },
     "execution_count": 65,
     "metadata": {},
     "output_type": "execute_result"
    }
   ],
   "source": [
    "np.sum(voc_etiq)"
   ]
  },
  {
   "cell_type": "code",
   "execution_count": 66,
   "metadata": {},
   "outputs": [
    {
     "data": {
      "text/plain": [
       "13641"
      ]
     },
     "execution_count": 66,
     "metadata": {},
     "output_type": "execute_result"
    }
   ],
   "source": [
    "np.sum(preds)"
   ]
  },
  {
   "cell_type": "markdown",
   "metadata": {},
   "source": [
    "## Coincidencias con pro"
   ]
  },
  {
   "cell_type": "code",
   "execution_count": 67,
   "metadata": {},
   "outputs": [],
   "source": [
    "voc_etiq = []\n",
    "for i in range(len(res['pro'])):\n",
    "    aux = False\n",
    "    for k in res:\n",
    "        if res[k][i] == 1:\n",
    "            aux = True\n",
    "            voc_etiq.append(1)\n",
    "            break\n",
    "    if aux:\n",
    "        aux = False\n",
    "    else:\n",
    "        voc_etiq.append(0)\n"
   ]
  },
  {
   "cell_type": "markdown",
   "metadata": {},
   "source": [
    "Métricas"
   ]
  },
  {
   "cell_type": "code",
   "execution_count": 68,
   "metadata": {},
   "outputs": [
    {
     "data": {
      "text/plain": [
       "0.3236959599259501"
      ]
     },
     "execution_count": 68,
     "metadata": {},
     "output_type": "execute_result"
    }
   ],
   "source": [
    "accuracy_score(voc_etiq, preds)"
   ]
  },
  {
   "cell_type": "code",
   "execution_count": 69,
   "metadata": {},
   "outputs": [
    {
     "data": {
      "text/plain": [
       "0.15068149701417696"
      ]
     },
     "execution_count": 69,
     "metadata": {},
     "output_type": "execute_result"
    }
   ],
   "source": [
    "f1_score(voc_etiq, preds)"
   ]
  },
  {
   "cell_type": "markdown",
   "metadata": {},
   "source": [
    "Número de predicciones"
   ]
  },
  {
   "cell_type": "code",
   "execution_count": 70,
   "metadata": {},
   "outputs": [
    {
     "data": {
      "text/plain": [
       "74107"
      ]
     },
     "execution_count": 70,
     "metadata": {},
     "output_type": "execute_result"
    }
   ],
   "source": [
    "np.sum(voc_etiq)"
   ]
  },
  {
   "cell_type": "code",
   "execution_count": 71,
   "metadata": {},
   "outputs": [
    {
     "data": {
      "text/plain": [
       "13641"
      ]
     },
     "execution_count": 71,
     "metadata": {},
     "output_type": "execute_result"
    }
   ],
   "source": [
    "np.sum(preds)"
   ]
  },
  {
   "cell_type": "markdown",
   "metadata": {},
   "source": [
    "# Ventana 3, tolerancia 20"
   ]
  },
  {
   "cell_type": "code",
   "execution_count": 75,
   "metadata": {},
   "outputs": [],
   "source": [
    "res = {}\n",
    "for k in data:\n",
    "    res[k] = [0] + text_tagger(all_texts, data[k], tol=0.2, window=3)"
   ]
  },
  {
   "cell_type": "markdown",
   "metadata": {},
   "source": [
    "## Coincidencias con civ"
   ]
  },
  {
   "cell_type": "code",
   "execution_count": 76,
   "metadata": {},
   "outputs": [],
   "source": [
    "voc_etiq = []\n",
    "for i in range(len(res['civ'])):\n",
    "    aux = False\n",
    "    for k in res:\n",
    "        if res[k][i] == 1:\n",
    "            aux = True\n",
    "            voc_etiq.append(1)\n",
    "            break\n",
    "    if aux:\n",
    "        aux = False\n",
    "    else:\n",
    "        voc_etiq.append(0)\n"
   ]
  },
  {
   "cell_type": "markdown",
   "metadata": {},
   "source": [
    "Métricas"
   ]
  },
  {
   "cell_type": "code",
   "execution_count": 77,
   "metadata": {},
   "outputs": [
    {
     "data": {
      "text/plain": [
       "0.25595302914806345"
      ]
     },
     "execution_count": 77,
     "metadata": {},
     "output_type": "execute_result"
    }
   ],
   "source": [
    "accuracy_score(voc_etiq, preds)"
   ]
  },
  {
   "cell_type": "code",
   "execution_count": 78,
   "metadata": {},
   "outputs": [
    {
     "data": {
      "text/plain": [
       "0.1664277508362054"
      ]
     },
     "execution_count": 78,
     "metadata": {},
     "output_type": "execute_result"
    }
   ],
   "source": [
    "f1_score(voc_etiq, preds)"
   ]
  },
  {
   "cell_type": "markdown",
   "metadata": {},
   "source": [
    "Número de predicciones"
   ]
  },
  {
   "cell_type": "code",
   "execution_count": 79,
   "metadata": {},
   "outputs": [
    {
     "data": {
      "text/plain": [
       "84720"
      ]
     },
     "execution_count": 79,
     "metadata": {},
     "output_type": "execute_result"
    }
   ],
   "source": [
    "np.sum(voc_etiq)"
   ]
  },
  {
   "cell_type": "code",
   "execution_count": 80,
   "metadata": {},
   "outputs": [
    {
     "data": {
      "text/plain": [
       "13641"
      ]
     },
     "execution_count": 80,
     "metadata": {},
     "output_type": "execute_result"
    }
   ],
   "source": [
    "np.sum(preds)"
   ]
  },
  {
   "cell_type": "markdown",
   "metadata": {},
   "source": [
    "## Coincidencias con org"
   ]
  },
  {
   "cell_type": "code",
   "execution_count": 81,
   "metadata": {},
   "outputs": [],
   "source": [
    "voc_etiq = []\n",
    "for i in range(len(res['org'])):\n",
    "    aux = False\n",
    "    for k in res:\n",
    "        if res[k][i] == 1:\n",
    "            aux = True\n",
    "            voc_etiq.append(1)\n",
    "            break\n",
    "    if aux:\n",
    "        aux = False\n",
    "    else:\n",
    "        voc_etiq.append(0)\n"
   ]
  },
  {
   "cell_type": "markdown",
   "metadata": {},
   "source": [
    "Métricas"
   ]
  },
  {
   "cell_type": "code",
   "execution_count": 82,
   "metadata": {},
   "outputs": [
    {
     "data": {
      "text/plain": [
       "0.25595302914806345"
      ]
     },
     "execution_count": 82,
     "metadata": {},
     "output_type": "execute_result"
    }
   ],
   "source": [
    "accuracy_score(voc_etiq, preds)"
   ]
  },
  {
   "cell_type": "code",
   "execution_count": 83,
   "metadata": {},
   "outputs": [
    {
     "data": {
      "text/plain": [
       "0.1664277508362054"
      ]
     },
     "execution_count": 83,
     "metadata": {},
     "output_type": "execute_result"
    }
   ],
   "source": [
    "f1_score(voc_etiq, preds)"
   ]
  },
  {
   "cell_type": "markdown",
   "metadata": {},
   "source": [
    "Número de predicciones"
   ]
  },
  {
   "cell_type": "code",
   "execution_count": 84,
   "metadata": {},
   "outputs": [
    {
     "data": {
      "text/plain": [
       "84720"
      ]
     },
     "execution_count": 84,
     "metadata": {},
     "output_type": "execute_result"
    }
   ],
   "source": [
    "np.sum(voc_etiq)"
   ]
  },
  {
   "cell_type": "code",
   "execution_count": 85,
   "metadata": {},
   "outputs": [
    {
     "data": {
      "text/plain": [
       "13641"
      ]
     },
     "execution_count": 85,
     "metadata": {},
     "output_type": "execute_result"
    }
   ],
   "source": [
    "np.sum(preds)"
   ]
  },
  {
   "cell_type": "markdown",
   "metadata": {},
   "source": [
    "## Coincidencias con pla"
   ]
  },
  {
   "cell_type": "code",
   "execution_count": 86,
   "metadata": {},
   "outputs": [],
   "source": [
    "voc_etiq = []\n",
    "for i in range(len(res['pla'])):\n",
    "    aux = False\n",
    "    for k in res:\n",
    "        if res[k][i] == 1:\n",
    "            aux = True\n",
    "            voc_etiq.append(1)\n",
    "            break\n",
    "    if aux:\n",
    "        aux = False\n",
    "    else:\n",
    "        voc_etiq.append(0)\n"
   ]
  },
  {
   "cell_type": "markdown",
   "metadata": {},
   "source": [
    "Métricas"
   ]
  },
  {
   "cell_type": "code",
   "execution_count": 87,
   "metadata": {},
   "outputs": [
    {
     "data": {
      "text/plain": [
       "0.25595302914806345"
      ]
     },
     "execution_count": 87,
     "metadata": {},
     "output_type": "execute_result"
    }
   ],
   "source": [
    "accuracy_score(voc_etiq, preds)"
   ]
  },
  {
   "cell_type": "code",
   "execution_count": 88,
   "metadata": {},
   "outputs": [
    {
     "data": {
      "text/plain": [
       "0.1664277508362054"
      ]
     },
     "execution_count": 88,
     "metadata": {},
     "output_type": "execute_result"
    }
   ],
   "source": [
    "f1_score(voc_etiq, preds)"
   ]
  },
  {
   "cell_type": "markdown",
   "metadata": {},
   "source": [
    "Número de predicciones"
   ]
  },
  {
   "cell_type": "code",
   "execution_count": 89,
   "metadata": {},
   "outputs": [
    {
     "data": {
      "text/plain": [
       "84720"
      ]
     },
     "execution_count": 89,
     "metadata": {},
     "output_type": "execute_result"
    }
   ],
   "source": [
    "np.sum(voc_etiq)"
   ]
  },
  {
   "cell_type": "code",
   "execution_count": 90,
   "metadata": {},
   "outputs": [
    {
     "data": {
      "text/plain": [
       "13641"
      ]
     },
     "execution_count": 90,
     "metadata": {},
     "output_type": "execute_result"
    }
   ],
   "source": [
    "np.sum(preds)"
   ]
  },
  {
   "cell_type": "markdown",
   "metadata": {},
   "source": [
    "## Coincidencias con pro"
   ]
  },
  {
   "cell_type": "code",
   "execution_count": 91,
   "metadata": {},
   "outputs": [],
   "source": [
    "voc_etiq = []\n",
    "for i in range(len(res['pro'])):\n",
    "    aux = False\n",
    "    for k in res:\n",
    "        if res[k][i] == 1:\n",
    "            aux = True\n",
    "            voc_etiq.append(1)\n",
    "            break\n",
    "    if aux:\n",
    "        aux = False\n",
    "    else:\n",
    "        voc_etiq.append(0)\n"
   ]
  },
  {
   "cell_type": "markdown",
   "metadata": {},
   "source": [
    "Métricas"
   ]
  },
  {
   "cell_type": "code",
   "execution_count": 92,
   "metadata": {},
   "outputs": [
    {
     "data": {
      "text/plain": [
       "0.25595302914806345"
      ]
     },
     "execution_count": 92,
     "metadata": {},
     "output_type": "execute_result"
    }
   ],
   "source": [
    "accuracy_score(voc_etiq, preds)"
   ]
  },
  {
   "cell_type": "code",
   "execution_count": 93,
   "metadata": {},
   "outputs": [
    {
     "data": {
      "text/plain": [
       "0.1664277508362054"
      ]
     },
     "execution_count": 93,
     "metadata": {},
     "output_type": "execute_result"
    }
   ],
   "source": [
    "f1_score(voc_etiq, preds)"
   ]
  },
  {
   "cell_type": "markdown",
   "metadata": {},
   "source": [
    "Número de predicciones"
   ]
  },
  {
   "cell_type": "code",
   "execution_count": 94,
   "metadata": {},
   "outputs": [
    {
     "data": {
      "text/plain": [
       "84720"
      ]
     },
     "execution_count": 94,
     "metadata": {},
     "output_type": "execute_result"
    }
   ],
   "source": [
    "np.sum(voc_etiq)"
   ]
  },
  {
   "cell_type": "code",
   "execution_count": 95,
   "metadata": {},
   "outputs": [
    {
     "data": {
      "text/plain": [
       "13641"
      ]
     },
     "execution_count": 95,
     "metadata": {},
     "output_type": "execute_result"
    }
   ],
   "source": [
    "np.sum(preds)"
   ]
  },
  {
   "cell_type": "markdown",
   "metadata": {},
   "source": [
    "# Ventana 7, tolerancia 20"
   ]
  },
  {
   "cell_type": "code",
   "execution_count": 96,
   "metadata": {},
   "outputs": [],
   "source": [
    "res = {}\n",
    "for k in data:\n",
    "    res[k] = [0, 0, 0] + text_tagger(all_texts, data[k], tol=0.2, window=7)"
   ]
  },
  {
   "cell_type": "markdown",
   "metadata": {},
   "source": [
    "## Coincidencias con civ"
   ]
  },
  {
   "cell_type": "code",
   "execution_count": 97,
   "metadata": {},
   "outputs": [],
   "source": [
    "voc_etiq = []\n",
    "for i in range(len(res['civ'])):\n",
    "    aux = False\n",
    "    for k in res:\n",
    "        if res[k][i] == 1:\n",
    "            aux = True\n",
    "            voc_etiq.append(1)\n",
    "            break\n",
    "    if aux:\n",
    "        aux = False\n",
    "    else:\n",
    "        voc_etiq.append(0)\n"
   ]
  },
  {
   "cell_type": "markdown",
   "metadata": {},
   "source": [
    "Métricas"
   ]
  },
  {
   "cell_type": "code",
   "execution_count": 98,
   "metadata": {},
   "outputs": [
    {
     "data": {
      "text/plain": [
       "0.23497223129696176"
      ]
     },
     "execution_count": 98,
     "metadata": {},
     "output_type": "execute_result"
    }
   ],
   "source": [
    "accuracy_score(voc_etiq, preds)"
   ]
  },
  {
   "cell_type": "code",
   "execution_count": 99,
   "metadata": {},
   "outputs": [
    {
     "data": {
      "text/plain": [
       "0.17862953905511658"
      ]
     },
     "execution_count": 99,
     "metadata": {},
     "output_type": "execute_result"
    }
   ],
   "source": [
    "f1_score(voc_etiq, preds)"
   ]
  },
  {
   "cell_type": "markdown",
   "metadata": {},
   "source": [
    "Número de predicciones"
   ]
  },
  {
   "cell_type": "code",
   "execution_count": 100,
   "metadata": {},
   "outputs": [
    {
     "data": {
      "text/plain": [
       "88996"
      ]
     },
     "execution_count": 100,
     "metadata": {},
     "output_type": "execute_result"
    }
   ],
   "source": [
    "np.sum(voc_etiq)"
   ]
  },
  {
   "cell_type": "code",
   "execution_count": 101,
   "metadata": {},
   "outputs": [
    {
     "data": {
      "text/plain": [
       "13641"
      ]
     },
     "execution_count": 101,
     "metadata": {},
     "output_type": "execute_result"
    }
   ],
   "source": [
    "np.sum(preds)"
   ]
  },
  {
   "cell_type": "markdown",
   "metadata": {},
   "source": [
    "## Coincidencias con org"
   ]
  },
  {
   "cell_type": "code",
   "execution_count": 102,
   "metadata": {},
   "outputs": [],
   "source": [
    "voc_etiq = []\n",
    "for i in range(len(res['org'])):\n",
    "    aux = False\n",
    "    for k in res:\n",
    "        if res[k][i] == 1:\n",
    "            aux = True\n",
    "            voc_etiq.append(1)\n",
    "            break\n",
    "    if aux:\n",
    "        aux = False\n",
    "    else:\n",
    "        voc_etiq.append(0)\n"
   ]
  },
  {
   "cell_type": "markdown",
   "metadata": {},
   "source": [
    "Métricas"
   ]
  },
  {
   "cell_type": "code",
   "execution_count": 103,
   "metadata": {},
   "outputs": [
    {
     "data": {
      "text/plain": [
       "0.23497223129696176"
      ]
     },
     "execution_count": 103,
     "metadata": {},
     "output_type": "execute_result"
    }
   ],
   "source": [
    "accuracy_score(voc_etiq, preds)"
   ]
  },
  {
   "cell_type": "code",
   "execution_count": 104,
   "metadata": {},
   "outputs": [
    {
     "data": {
      "text/plain": [
       "0.17862953905511658"
      ]
     },
     "execution_count": 104,
     "metadata": {},
     "output_type": "execute_result"
    }
   ],
   "source": [
    "f1_score(voc_etiq, preds)"
   ]
  },
  {
   "cell_type": "markdown",
   "metadata": {},
   "source": [
    "Número de predicciones"
   ]
  },
  {
   "cell_type": "code",
   "execution_count": 105,
   "metadata": {},
   "outputs": [
    {
     "data": {
      "text/plain": [
       "88996"
      ]
     },
     "execution_count": 105,
     "metadata": {},
     "output_type": "execute_result"
    }
   ],
   "source": [
    "np.sum(voc_etiq)"
   ]
  },
  {
   "cell_type": "code",
   "execution_count": 106,
   "metadata": {},
   "outputs": [
    {
     "data": {
      "text/plain": [
       "13641"
      ]
     },
     "execution_count": 106,
     "metadata": {},
     "output_type": "execute_result"
    }
   ],
   "source": [
    "np.sum(preds)"
   ]
  },
  {
   "cell_type": "markdown",
   "metadata": {},
   "source": [
    "## Coincidencias con pla"
   ]
  },
  {
   "cell_type": "code",
   "execution_count": 107,
   "metadata": {},
   "outputs": [],
   "source": [
    "voc_etiq = []\n",
    "for i in range(len(res['pla'])):\n",
    "    aux = False\n",
    "    for k in res:\n",
    "        if res[k][i] == 1:\n",
    "            aux = True\n",
    "            voc_etiq.append(1)\n",
    "            break\n",
    "    if aux:\n",
    "        aux = False\n",
    "    else:\n",
    "        voc_etiq.append(0)\n"
   ]
  },
  {
   "cell_type": "markdown",
   "metadata": {},
   "source": [
    "Métricas"
   ]
  },
  {
   "cell_type": "code",
   "execution_count": 108,
   "metadata": {},
   "outputs": [
    {
     "data": {
      "text/plain": [
       "0.23497223129696176"
      ]
     },
     "execution_count": 108,
     "metadata": {},
     "output_type": "execute_result"
    }
   ],
   "source": [
    "accuracy_score(voc_etiq, preds)"
   ]
  },
  {
   "cell_type": "code",
   "execution_count": 109,
   "metadata": {},
   "outputs": [
    {
     "data": {
      "text/plain": [
       "0.17862953905511658"
      ]
     },
     "execution_count": 109,
     "metadata": {},
     "output_type": "execute_result"
    }
   ],
   "source": [
    "f1_score(voc_etiq, preds)"
   ]
  },
  {
   "cell_type": "markdown",
   "metadata": {},
   "source": [
    "Número de predicciones"
   ]
  },
  {
   "cell_type": "code",
   "execution_count": 110,
   "metadata": {},
   "outputs": [
    {
     "data": {
      "text/plain": [
       "88996"
      ]
     },
     "execution_count": 110,
     "metadata": {},
     "output_type": "execute_result"
    }
   ],
   "source": [
    "np.sum(voc_etiq)"
   ]
  },
  {
   "cell_type": "code",
   "execution_count": 111,
   "metadata": {},
   "outputs": [
    {
     "data": {
      "text/plain": [
       "13641"
      ]
     },
     "execution_count": 111,
     "metadata": {},
     "output_type": "execute_result"
    }
   ],
   "source": [
    "np.sum(preds)"
   ]
  },
  {
   "cell_type": "markdown",
   "metadata": {},
   "source": [
    "## Coincidencias con pro"
   ]
  },
  {
   "cell_type": "code",
   "execution_count": 112,
   "metadata": {},
   "outputs": [],
   "source": [
    "voc_etiq = []\n",
    "for i in range(len(res['pro'])):\n",
    "    aux = False\n",
    "    for k in res:\n",
    "        if res[k][i] == 1:\n",
    "            aux = True\n",
    "            voc_etiq.append(1)\n",
    "            break\n",
    "    if aux:\n",
    "        aux = False\n",
    "    else:\n",
    "        voc_etiq.append(0)\n"
   ]
  },
  {
   "cell_type": "markdown",
   "metadata": {},
   "source": [
    "Métricas"
   ]
  },
  {
   "cell_type": "code",
   "execution_count": 113,
   "metadata": {},
   "outputs": [
    {
     "data": {
      "text/plain": [
       "0.23497223129696176"
      ]
     },
     "execution_count": 113,
     "metadata": {},
     "output_type": "execute_result"
    }
   ],
   "source": [
    "accuracy_score(voc_etiq, preds)"
   ]
  },
  {
   "cell_type": "code",
   "execution_count": 114,
   "metadata": {},
   "outputs": [
    {
     "data": {
      "text/plain": [
       "0.17862953905511658"
      ]
     },
     "execution_count": 114,
     "metadata": {},
     "output_type": "execute_result"
    }
   ],
   "source": [
    "f1_score(voc_etiq, preds)"
   ]
  },
  {
   "cell_type": "markdown",
   "metadata": {},
   "source": [
    "Número de predicciones"
   ]
  },
  {
   "cell_type": "code",
   "execution_count": 115,
   "metadata": {},
   "outputs": [
    {
     "data": {
      "text/plain": [
       "88996"
      ]
     },
     "execution_count": 115,
     "metadata": {},
     "output_type": "execute_result"
    }
   ],
   "source": [
    "np.sum(voc_etiq)"
   ]
  },
  {
   "cell_type": "code",
   "execution_count": 116,
   "metadata": {},
   "outputs": [
    {
     "data": {
      "text/plain": [
       "13641"
      ]
     },
     "execution_count": 116,
     "metadata": {},
     "output_type": "execute_result"
    }
   ],
   "source": [
    "np.sum(preds)"
   ]
  },
  {
   "cell_type": "markdown",
   "metadata": {},
   "source": [
    "# Ventana 3, tolerancia 50"
   ]
  },
  {
   "cell_type": "code",
   "execution_count": 42,
   "metadata": {},
   "outputs": [],
   "source": [
    "res = {}\n",
    "for k in data:\n",
    "    res[k] = [0] + text_tagger(all_texts, data[k], tol=0.5, window=3)"
   ]
  },
  {
   "cell_type": "markdown",
   "metadata": {},
   "source": [
    "## Coincidencias con civ"
   ]
  },
  {
   "cell_type": "code",
   "execution_count": 43,
   "metadata": {},
   "outputs": [],
   "source": [
    "voc_etiq = []\n",
    "for i in range(len(res['civ'])):\n",
    "    aux = False\n",
    "    for k in res:\n",
    "        if res[k][i] == 1:\n",
    "            aux = True\n",
    "            voc_etiq.append(1)\n",
    "            break\n",
    "    if aux:\n",
    "        aux = False\n",
    "    else:\n",
    "        voc_etiq.append(0)\n"
   ]
  },
  {
   "cell_type": "markdown",
   "metadata": {},
   "source": [
    "Métricas"
   ]
  },
  {
   "cell_type": "code",
   "execution_count": 44,
   "metadata": {},
   "outputs": [
    {
     "data": {
      "text/plain": [
       "0.5504374024465498"
      ]
     },
     "execution_count": 44,
     "metadata": {},
     "output_type": "execute_result"
    }
   ],
   "source": [
    "accuracy_score(voc_etiq, preds)"
   ]
  },
  {
   "cell_type": "code",
   "execution_count": 45,
   "metadata": {},
   "outputs": [
    {
     "data": {
      "text/plain": [
       "0.11097552221663916"
      ]
     },
     "execution_count": 45,
     "metadata": {},
     "output_type": "execute_result"
    }
   ],
   "source": [
    "f1_score(voc_etiq, preds)"
   ]
  },
  {
   "cell_type": "code",
   "execution_count": 46,
   "metadata": {},
   "outputs": [],
   "source": [
    "from sklearn.metrics import precision_score, classification_report"
   ]
  },
  {
   "cell_type": "code",
   "execution_count": 47,
   "metadata": {},
   "outputs": [
    {
     "name": "stdout",
     "output_type": "stream",
     "text": [
      "              precision    recall  f1-score   support\n",
      "\n",
      "           0       0.60      0.85      0.70     68113\n",
      "           1       0.23      0.07      0.11     42083\n",
      "\n",
      "    accuracy                           0.55    110196\n",
      "   macro avg       0.41      0.46      0.41    110196\n",
      "weighted avg       0.46      0.55      0.47    110196\n",
      "\n"
     ]
    }
   ],
   "source": [
    "print(classification_report(voc_etiq, preds))"
   ]
  },
  {
   "cell_type": "code",
   "execution_count": 37,
   "metadata": {},
   "outputs": [
    {
     "data": {
      "text/plain": [
       "({0, 1}, {0, 1})"
      ]
     },
     "execution_count": 37,
     "metadata": {},
     "output_type": "execute_result"
    }
   ],
   "source": [
    "set(voc_etiq), set(preds)"
   ]
  },
  {
   "cell_type": "markdown",
   "metadata": {},
   "source": [
    "Número de predicciones"
   ]
  },
  {
   "cell_type": "code",
   "execution_count": 32,
   "metadata": {},
   "outputs": [
    {
     "data": {
      "text/plain": [
       "110196"
      ]
     },
     "execution_count": 32,
     "metadata": {},
     "output_type": "execute_result"
    }
   ],
   "source": [
    "len(all_texts.split())"
   ]
  },
  {
   "cell_type": "code",
   "execution_count": 29,
   "metadata": {},
   "outputs": [
    {
     "data": {
      "text/plain": [
       "7274"
      ]
     },
     "execution_count": 29,
     "metadata": {},
     "output_type": "execute_result"
    }
   ],
   "source": [
    "np.sum(voc_etiq)"
   ]
  },
  {
   "cell_type": "code",
   "execution_count": 30,
   "metadata": {},
   "outputs": [
    {
     "data": {
      "text/plain": [
       "13641"
      ]
     },
     "execution_count": 30,
     "metadata": {},
     "output_type": "execute_result"
    }
   ],
   "source": [
    "np.sum(preds)"
   ]
  },
  {
   "cell_type": "markdown",
   "metadata": {},
   "source": [
    "## Coincidencias con org"
   ]
  },
  {
   "cell_type": "code",
   "execution_count": 123,
   "metadata": {},
   "outputs": [],
   "source": [
    "voc_etiq = []\n",
    "for i in range(len(res['org'])):\n",
    "    aux = False\n",
    "    for k in res:\n",
    "        if res[k][i] == 1:\n",
    "            aux = True\n",
    "            voc_etiq.append(1)\n",
    "            break\n",
    "    if aux:\n",
    "        aux = False\n",
    "    else:\n",
    "        voc_etiq.append(0)\n"
   ]
  },
  {
   "cell_type": "markdown",
   "metadata": {},
   "source": [
    "Métricas"
   ]
  },
  {
   "cell_type": "code",
   "execution_count": 124,
   "metadata": {},
   "outputs": [
    {
     "data": {
      "text/plain": [
       "0.5504374024465498"
      ]
     },
     "execution_count": 124,
     "metadata": {},
     "output_type": "execute_result"
    }
   ],
   "source": [
    "accuracy_score(voc_etiq, preds)"
   ]
  },
  {
   "cell_type": "code",
   "execution_count": 125,
   "metadata": {},
   "outputs": [
    {
     "data": {
      "text/plain": [
       "0.11097552221663916"
      ]
     },
     "execution_count": 125,
     "metadata": {},
     "output_type": "execute_result"
    }
   ],
   "source": [
    "f1_score(voc_etiq, preds)"
   ]
  },
  {
   "cell_type": "markdown",
   "metadata": {},
   "source": [
    "Número de predicciones"
   ]
  },
  {
   "cell_type": "code",
   "execution_count": 126,
   "metadata": {},
   "outputs": [
    {
     "data": {
      "text/plain": [
       "42083"
      ]
     },
     "execution_count": 126,
     "metadata": {},
     "output_type": "execute_result"
    }
   ],
   "source": [
    "np.sum(voc_etiq)"
   ]
  },
  {
   "cell_type": "code",
   "execution_count": 127,
   "metadata": {},
   "outputs": [
    {
     "data": {
      "text/plain": [
       "13641"
      ]
     },
     "execution_count": 127,
     "metadata": {},
     "output_type": "execute_result"
    }
   ],
   "source": [
    "np.sum(preds)"
   ]
  },
  {
   "cell_type": "markdown",
   "metadata": {},
   "source": [
    "## Coincidencias con pla"
   ]
  },
  {
   "cell_type": "code",
   "execution_count": 128,
   "metadata": {},
   "outputs": [],
   "source": [
    "voc_etiq = []\n",
    "for i in range(len(res['pla'])):\n",
    "    aux = False\n",
    "    for k in res:\n",
    "        if res[k][i] == 1:\n",
    "            aux = True\n",
    "            voc_etiq.append(1)\n",
    "            break\n",
    "    if aux:\n",
    "        aux = False\n",
    "    else:\n",
    "        voc_etiq.append(0)\n"
   ]
  },
  {
   "cell_type": "markdown",
   "metadata": {},
   "source": [
    "Métricas"
   ]
  },
  {
   "cell_type": "code",
   "execution_count": 129,
   "metadata": {},
   "outputs": [
    {
     "data": {
      "text/plain": [
       "0.5504374024465498"
      ]
     },
     "execution_count": 129,
     "metadata": {},
     "output_type": "execute_result"
    }
   ],
   "source": [
    "accuracy_score(voc_etiq, preds)"
   ]
  },
  {
   "cell_type": "code",
   "execution_count": 130,
   "metadata": {},
   "outputs": [
    {
     "data": {
      "text/plain": [
       "0.11097552221663916"
      ]
     },
     "execution_count": 130,
     "metadata": {},
     "output_type": "execute_result"
    }
   ],
   "source": [
    "f1_score(voc_etiq, preds)"
   ]
  },
  {
   "cell_type": "markdown",
   "metadata": {},
   "source": [
    "Número de predicciones"
   ]
  },
  {
   "cell_type": "code",
   "execution_count": 131,
   "metadata": {},
   "outputs": [
    {
     "data": {
      "text/plain": [
       "42083"
      ]
     },
     "execution_count": 131,
     "metadata": {},
     "output_type": "execute_result"
    }
   ],
   "source": [
    "np.sum(voc_etiq)"
   ]
  },
  {
   "cell_type": "code",
   "execution_count": 132,
   "metadata": {},
   "outputs": [
    {
     "data": {
      "text/plain": [
       "13641"
      ]
     },
     "execution_count": 132,
     "metadata": {},
     "output_type": "execute_result"
    }
   ],
   "source": [
    "np.sum(preds)"
   ]
  },
  {
   "cell_type": "markdown",
   "metadata": {},
   "source": [
    "## Coincidencias con pro"
   ]
  },
  {
   "cell_type": "code",
   "execution_count": 133,
   "metadata": {},
   "outputs": [],
   "source": [
    "voc_etiq = []\n",
    "for i in range(len(res['pro'])):\n",
    "    aux = False\n",
    "    for k in res:\n",
    "        if res[k][i] == 1:\n",
    "            aux = True\n",
    "            voc_etiq.append(1)\n",
    "            break\n",
    "    if aux:\n",
    "        aux = False\n",
    "    else:\n",
    "        voc_etiq.append(0)\n"
   ]
  },
  {
   "cell_type": "markdown",
   "metadata": {},
   "source": [
    "Métricas"
   ]
  },
  {
   "cell_type": "code",
   "execution_count": 134,
   "metadata": {},
   "outputs": [
    {
     "data": {
      "text/plain": [
       "0.5504374024465498"
      ]
     },
     "execution_count": 134,
     "metadata": {},
     "output_type": "execute_result"
    }
   ],
   "source": [
    "accuracy_score(voc_etiq, preds)"
   ]
  },
  {
   "cell_type": "code",
   "execution_count": 135,
   "metadata": {},
   "outputs": [
    {
     "data": {
      "text/plain": [
       "0.11097552221663916"
      ]
     },
     "execution_count": 135,
     "metadata": {},
     "output_type": "execute_result"
    }
   ],
   "source": [
    "f1_score(voc_etiq, preds)"
   ]
  },
  {
   "cell_type": "markdown",
   "metadata": {},
   "source": [
    "Número de predicciones"
   ]
  },
  {
   "cell_type": "code",
   "execution_count": 136,
   "metadata": {},
   "outputs": [
    {
     "data": {
      "text/plain": [
       "42083"
      ]
     },
     "execution_count": 136,
     "metadata": {},
     "output_type": "execute_result"
    }
   ],
   "source": [
    "np.sum(voc_etiq)"
   ]
  },
  {
   "cell_type": "code",
   "execution_count": 137,
   "metadata": {},
   "outputs": [
    {
     "data": {
      "text/plain": [
       "13641"
      ]
     },
     "execution_count": 137,
     "metadata": {},
     "output_type": "execute_result"
    }
   ],
   "source": [
    "np.sum(preds)"
   ]
  },
  {
   "cell_type": "markdown",
   "metadata": {},
   "source": [
    "corrido de tolerancia de 0.2 a 0.8, saltos de (0.1) y ventana de 3 a 11, salto de 2, grafica con f1, presicion, recuerdo y soporte"
   ]
  },
  {
   "cell_type": "markdown",
   "metadata": {},
   "source": [
    "con la mejor configuracion sacar la nube de palabra de lo que se etiquetó de las dos mejores categorias y ver cual tiene la mejor eficacia y cual con mayores errores (que si y no etiqueta)"
   ]
  },
  {
   "cell_type": "markdown",
   "metadata": {},
   "source": []
  }
 ],
 "metadata": {
  "interpreter": {
   "hash": "7c9f36ecad1daf49424b8aa6a9ceca66bf658f6167870707b1f45891de1cca96"
  },
  "kernelspec": {
   "display_name": "Python 3.8.10 64-bit ('HGGA': conda)",
   "language": "python",
   "name": "python3"
  },
  "language_info": {
   "codemirror_mode": {
    "name": "ipython",
    "version": 3
   },
   "file_extension": ".py",
   "mimetype": "text/x-python",
   "name": "python",
   "nbconvert_exporter": "python",
   "pygments_lexer": "ipython3",
   "version": "3.8.10"
  },
  "orig_nbformat": 4
 },
 "nbformat": 4,
 "nbformat_minor": 2
}
